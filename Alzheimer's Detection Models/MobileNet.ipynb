{
 "cells": [
  {
   "cell_type": "code",
   "execution_count": 1,
   "metadata": {
    "id": "vwDzrEmrtFdv"
   },
   "outputs": [],
   "source": [
    "import numpy as np\n",
    "import pandas as pd\n",
    "import matplotlib.pyplot as plt\n",
    "import seaborn as sn\n",
    "import skimage.io\n",
    "import os \n",
    "import tqdm\n",
    "import glob\n",
    "import tensorflow \n",
    "\n",
    "from tqdm import tqdm\n",
    "from sklearn.utils import shuffle\n",
    "from sklearn import metrics\n",
    "from sklearn.metrics import confusion_matrix, classification_report\n",
    "from sklearn.model_selection import train_test_split\n",
    "\n",
    "from skimage.io import imread, imshow\n",
    "from skimage.transform import resize\n",
    "from skimage.color import grey2rgb\n",
    "\n",
    "import tensorflow as tf\n",
    "from tensorflow.keras.preprocessing.image import ImageDataGenerator\n",
    "from tensorflow.keras.preprocessing import image_dataset_from_directory\n",
    "from tensorflow.keras.models import Sequential\n",
    "from tensorflow.keras.layers import InputLayer, BatchNormalization, Dropout, Flatten, Dense, Activation, MaxPool2D, Conv2D\n",
    "from tensorflow.keras.callbacks import EarlyStopping, ModelCheckpoint\n",
    "from tensorflow.keras.applications.resnet50 import ResNet50\n",
    "from tensorflow.keras.utils import to_categorical\n",
    "from keras import optimizers\n",
    "\n",
    "from keras.callbacks import Callback,ModelCheckpoint\n",
    "from keras.models import Sequential,load_model\n",
    "from keras.layers import Dense, Dropout\n",
    "from keras.wrappers.scikit_learn import KerasClassifier\n",
    "import keras.backend as K\n",
    "\n",
    "from typeguard import typechecked\n",
    "from typing import Optional"
   ]
  },
  {
   "cell_type": "code",
   "execution_count": 2,
   "metadata": {
    "id": "KFP54BDIt_KG"
   },
   "outputs": [],
   "source": [
    "#Unziping the dataset\n",
    "\n",
    "!unzip -q \"/content/drive/MyDrive/Garvin/IEEE/Alzheimer's Disease Classification/Dataset.zip\""
   ]
  },
  {
   "cell_type": "code",
   "execution_count": 3,
   "metadata": {
    "id": "ihNsyw1otfZy"
   },
   "outputs": [],
   "source": [
    "train_datagen = ImageDataGenerator(rescale = 1./255,\n",
    "                                   validation_split = 0.2,\n",
    "                                  \n",
    "        rotation_range=5,\n",
    "        width_shift_range=0.2,\n",
    "        height_shift_range=0.2,\n",
    "        shear_range=0.2,\n",
    "        #zoom_range=0.2,\n",
    "        horizontal_flip=True,\n",
    "        vertical_flip=True,\n",
    "        fill_mode='nearest')\n",
    "\n",
    "valid_datagen = ImageDataGenerator(rescale = 1./255,\n",
    "                                  validation_split = 0.2)\n",
    "\n",
    "test_datagen  = ImageDataGenerator(rescale = 1./255\n",
    "                                  )"
   ]
  },
  {
   "cell_type": "code",
   "execution_count": 4,
   "metadata": {
    "colab": {
     "base_uri": "https://localhost:8080/"
    },
    "id": "iJsq_2JgtseK",
    "outputId": "11c531ea-a4f0-4ec2-b358-69b04b20f7f9"
   },
   "outputs": [
    {
     "name": "stdout",
     "output_type": "stream",
     "text": [
      "Found 4098 images belonging to 4 classes.\n",
      "Found 1023 images belonging to 4 classes.\n",
      "Found 1279 images belonging to 4 classes.\n"
     ]
    }
   ],
   "source": [
    "train_dataset  = train_datagen.flow_from_directory(directory = '/content/Alzheimer_s Dataset/train',\n",
    "                                                   target_size = (224,224),\n",
    "                                                   class_mode = 'categorical',\n",
    "                                                   subset = 'training',\n",
    "                                                   batch_size = 32)\n",
    "\n",
    "valid_dataset = valid_datagen.flow_from_directory(directory = '/content/Alzheimer_s Dataset/train',\n",
    "                                                  target_size = (224,224),\n",
    "                                                  class_mode = 'categorical',\n",
    "                                                  subset = 'validation',\n",
    "                                                  batch_size = 32)\n",
    "\n",
    "test_dataset = test_datagen.flow_from_directory(directory = '/content/Alzheimer_s Dataset/test',\n",
    "                                                  target_size = (224,224),\n",
    "                                                  class_mode = 'categorical',\n",
    "                                                  batch_size = 32)"
   ]
  },
  {
   "cell_type": "code",
   "execution_count": 5,
   "metadata": {
    "colab": {
     "base_uri": "https://localhost:8080/"
    },
    "id": "aZDwiGWsuUCP",
    "outputId": "a7195eb7-beea-4b45-ae9c-f7ab6af20e6b"
   },
   "outputs": [
    {
     "name": "stdout",
     "output_type": "stream",
     "text": [
      "Downloading data from https://storage.googleapis.com/tensorflow/keras-applications/mobilenet/mobilenet_1_0_224_tf_no_top.h5\n",
      "17227776/17225924 [==============================] - 0s 0us/step\n",
      "17235968/17225924 [==============================] - 0s 0us/step\n"
     ]
    }
   ],
   "source": [
    "base_model = tf.keras.applications.MobileNet(input_shape=(224,224,3), \n",
    "                   include_top=False,\n",
    "                   weights=\"imagenet\")"
   ]
  },
  {
   "cell_type": "code",
   "execution_count": 6,
   "metadata": {
    "id": "EnLOAEf4uYTr"
   },
   "outputs": [],
   "source": [
    "# Freezing Layers\n",
    "\n",
    "for layer in base_model.layers:\n",
    "    layer.trainable=False"
   ]
  },
  {
   "cell_type": "code",
   "execution_count": 7,
   "metadata": {
    "id": "gyUgh9TVufmC"
   },
   "outputs": [],
   "source": [
    "# Building Model\n",
    "\n",
    "model=Sequential()\n",
    "model.add(base_model)\n",
    "model.add(Dropout(0.5))\n",
    "model.add(Flatten())\n",
    "model.add(BatchNormalization())\n",
    "model.add(Dense(32,kernel_initializer='he_uniform'))\n",
    "model.add(BatchNormalization())\n",
    "model.add(Activation('relu'))\n",
    "model.add(Dropout(0.5))\n",
    "model.add(Dense(32,kernel_initializer='he_uniform'))\n",
    "model.add(BatchNormalization())\n",
    "model.add(Activation('relu'))\n",
    "model.add(Dropout(0.5))\n",
    "model.add(Dense(32,kernel_initializer='he_uniform'))\n",
    "model.add(BatchNormalization())\n",
    "model.add(Activation('relu'))\n",
    "model.add(Dense(4,activation='softmax'))"
   ]
  },
  {
   "cell_type": "code",
   "execution_count": 8,
   "metadata": {
    "colab": {
     "base_uri": "https://localhost:8080/"
    },
    "id": "yN5LeqDwugHZ",
    "outputId": "a37f096c-bef9-48ec-97b1-13f211259c53"
   },
   "outputs": [
    {
     "name": "stdout",
     "output_type": "stream",
     "text": [
      "Model: \"sequential\"\n",
      "_________________________________________________________________\n",
      "Layer (type)                 Output Shape              Param #   \n",
      "=================================================================\n",
      "mobilenet_1.00_224 (Function (None, 7, 7, 1024)        3228864   \n",
      "_________________________________________________________________\n",
      "dropout (Dropout)            (None, 7, 7, 1024)        0         \n",
      "_________________________________________________________________\n",
      "flatten (Flatten)            (None, 50176)             0         \n",
      "_________________________________________________________________\n",
      "batch_normalization (BatchNo (None, 50176)             200704    \n",
      "_________________________________________________________________\n",
      "dense (Dense)                (None, 32)                1605664   \n",
      "_________________________________________________________________\n",
      "batch_normalization_1 (Batch (None, 32)                128       \n",
      "_________________________________________________________________\n",
      "activation (Activation)      (None, 32)                0         \n",
      "_________________________________________________________________\n",
      "dropout_1 (Dropout)          (None, 32)                0         \n",
      "_________________________________________________________________\n",
      "dense_1 (Dense)              (None, 32)                1056      \n",
      "_________________________________________________________________\n",
      "batch_normalization_2 (Batch (None, 32)                128       \n",
      "_________________________________________________________________\n",
      "activation_1 (Activation)    (None, 32)                0         \n",
      "_________________________________________________________________\n",
      "dropout_2 (Dropout)          (None, 32)                0         \n",
      "_________________________________________________________________\n",
      "dense_2 (Dense)              (None, 32)                1056      \n",
      "_________________________________________________________________\n",
      "batch_normalization_3 (Batch (None, 32)                128       \n",
      "_________________________________________________________________\n",
      "activation_2 (Activation)    (None, 32)                0         \n",
      "_________________________________________________________________\n",
      "dense_3 (Dense)              (None, 4)                 132       \n",
      "=================================================================\n",
      "Total params: 5,037,860\n",
      "Trainable params: 1,708,452\n",
      "Non-trainable params: 3,329,408\n",
      "_________________________________________________________________\n"
     ]
    }
   ],
   "source": [
    "model.summary()"
   ]
  },
  {
   "cell_type": "code",
   "execution_count": 9,
   "metadata": {
    "id": "bM3O44JouiuL"
   },
   "outputs": [],
   "source": [
    "METRICS = [\n",
    "      tf.keras.metrics.BinaryAccuracy(name='accuracy'),\n",
    "      tf.keras.metrics.Precision(name='precision'),\n",
    "      tf.keras.metrics.Recall(name='recall'),  \n",
    "      tf.keras.metrics.AUC(name='auc')\n",
    "]"
   ]
  },
  {
   "cell_type": "code",
   "execution_count": 10,
   "metadata": {
    "id": "BfLBIPxvutKA"
   },
   "outputs": [],
   "source": [
    "def exponential_decay(lr0, s):\n",
    "    def exponential_decay_fn(epoch):\n",
    "        return lr0 * 0.1 **(epoch / s)\n",
    "    return exponential_decay_fn\n",
    "\n",
    "exponential_decay_fn = exponential_decay(0.01, 5) # when i run it for 50 epochs\n",
    "\n",
    "lr_scheduler = tf.keras.callbacks.LearningRateScheduler(exponential_decay_fn)"
   ]
  },
  {
   "cell_type": "code",
   "execution_count": 11,
   "metadata": {
    "id": "FGMaIK3ou7Zs"
   },
   "outputs": [],
   "source": [
    "model.compile(optimizer='rmsprop', loss='categorical_crossentropy',metrics=METRICS)"
   ]
  },
  {
   "cell_type": "code",
   "execution_count": 12,
   "metadata": {
    "colab": {
     "base_uri": "https://localhost:8080/"
    },
    "id": "_ZGcA5Keu9el",
    "outputId": "2cb634c7-e685-4092-f53f-ca1ba6ac9b67"
   },
   "outputs": [
    {
     "name": "stdout",
     "output_type": "stream",
     "text": [
      "129/129 [==============================] - 88s 430ms/step - loss: 1.0703 - accuracy: 0.7585 - precision: 0.5345 - recall: 0.2645 - auc: 0.7790 - val_loss: 1.1283 - val_accuracy: 0.7620 - val_precision: 0.5257 - val_recall: 0.4907 - val_auc: 0.8196\n"
     ]
    }
   ],
   "source": [
    "history=model.fit(train_dataset,\n",
    "                  validation_data=valid_dataset,\n",
    "                  epochs = 1,\n",
    "                  verbose = 1,\n",
    "                  callbacks=lr_scheduler) "
   ]
  },
  {
   "cell_type": "code",
   "execution_count": 13,
   "metadata": {
    "id": "cwpvy_ItvELn"
   },
   "outputs": [],
   "source": [
    "model.save_weights(\"/content/drive/MyDrive/Garvin/IEEE/Alzheimer's Disease Classification/model_mobile.hdf5\")"
   ]
  },
  {
   "cell_type": "code",
   "execution_count": 14,
   "metadata": {
    "id": "4PnPlQOeuw0z"
   },
   "outputs": [],
   "source": [
    "weights_file=os.path.join(\"/content/drive/MyDrive/Garvin/IEEE/Alzheimer's Disease Classification/model_mobile.hdf5\")\n",
    " \n",
    "checkpoint = ModelCheckpoint(weights_file, monitor='val_loss', verbose=1, \n",
    "                             save_best_only=True, mode='min', save_weights_only = False)\n",
    "\n",
    "callbacks= [checkpoint, lr_scheduler]"
   ]
  },
  {
   "cell_type": "code",
   "execution_count": 15,
   "metadata": {
    "colab": {
     "base_uri": "https://localhost:8080/"
    },
    "id": "ub-gRIr_vIq5",
    "outputId": "918930d1-9b09-44b5-ee08-f01daad2a3eb"
   },
   "outputs": [
    {
     "name": "stdout",
     "output_type": "stream",
     "text": [
      "Epoch 1/100\n",
      "129/129 [==============================] - 56s 431ms/step - loss: 1.0014 - accuracy: 0.7777 - precision: 0.6179 - recall: 0.2904 - auc: 0.8068 - val_loss: 0.9658 - val_accuracy: 0.7898 - val_precision: 0.6352 - val_recall: 0.3744 - val_auc: 0.8225\n",
      "\n",
      "Epoch 00001: val_loss improved from inf to 0.96581, saving model to /content/drive/MyDrive/Garvin/IEEE/Alzheimer's Disease Classification/model_mobile.hdf5\n",
      "Epoch 2/100\n",
      "129/129 [==============================] - 55s 429ms/step - loss: 0.9565 - accuracy: 0.7912 - precision: 0.6874 - recall: 0.3021 - auc: 0.8220 - val_loss: 0.9318 - val_accuracy: 0.7950 - val_precision: 0.6966 - val_recall: 0.3187 - val_auc: 0.8271\n",
      "\n",
      "Epoch 00002: val_loss improved from 0.96581 to 0.93178, saving model to /content/drive/MyDrive/Garvin/IEEE/Alzheimer's Disease Classification/model_mobile.hdf5\n",
      "Epoch 3/100\n",
      "129/129 [==============================] - 54s 420ms/step - loss: 0.9371 - accuracy: 0.7937 - precision: 0.6834 - recall: 0.3255 - auc: 0.8316 - val_loss: 0.9494 - val_accuracy: 0.7940 - val_precision: 0.6596 - val_recall: 0.3636 - val_auc: 0.8276\n",
      "\n",
      "Epoch 00003: val_loss did not improve from 0.93178\n",
      "Epoch 4/100\n",
      "129/129 [==============================] - 55s 426ms/step - loss: 0.9206 - accuracy: 0.7970 - precision: 0.6908 - recall: 0.3402 - auc: 0.8396 - val_loss: 0.9429 - val_accuracy: 0.7957 - val_precision: 0.6968 - val_recall: 0.3236 - val_auc: 0.8245\n",
      "\n",
      "Epoch 00004: val_loss did not improve from 0.93178\n",
      "Epoch 5/100\n",
      "129/129 [==============================] - 55s 427ms/step - loss: 0.9253 - accuracy: 0.7968 - precision: 0.6898 - recall: 0.3402 - auc: 0.8376 - val_loss: 0.9412 - val_accuracy: 0.7945 - val_precision: 0.6912 - val_recall: 0.3216 - val_auc: 0.8256\n",
      "\n",
      "Epoch 00005: val_loss did not improve from 0.93178\n",
      "Epoch 6/100\n",
      "129/129 [==============================] - 55s 425ms/step - loss: 0.9066 - accuracy: 0.8012 - precision: 0.7061 - recall: 0.3511 - auc: 0.8441 - val_loss: 0.9459 - val_accuracy: 0.7925 - val_precision: 0.6733 - val_recall: 0.3304 - val_auc: 0.8253\n",
      "\n",
      "Epoch 00006: val_loss did not improve from 0.93178\n",
      "Epoch 7/100\n",
      "129/129 [==============================] - 55s 430ms/step - loss: 0.9008 - accuracy: 0.7995 - precision: 0.6941 - recall: 0.3543 - auc: 0.8451 - val_loss: 0.9452 - val_accuracy: 0.7928 - val_precision: 0.6747 - val_recall: 0.3304 - val_auc: 0.8242\n",
      "\n",
      "Epoch 00007: val_loss did not improve from 0.93178\n",
      "Epoch 8/100\n",
      "129/129 [==============================] - 55s 423ms/step - loss: 0.9073 - accuracy: 0.8028 - precision: 0.7066 - recall: 0.3609 - auc: 0.8457 - val_loss: 0.9487 - val_accuracy: 0.7903 - val_precision: 0.6602 - val_recall: 0.3324 - val_auc: 0.8245\n",
      "\n",
      "Epoch 00008: val_loss did not improve from 0.93178\n",
      "Epoch 9/100\n",
      "129/129 [==============================] - 54s 421ms/step - loss: 0.9091 - accuracy: 0.7994 - precision: 0.6934 - recall: 0.3538 - auc: 0.8434 - val_loss: 0.9455 - val_accuracy: 0.7928 - val_precision: 0.6761 - val_recall: 0.3284 - val_auc: 0.8237\n",
      "\n",
      "Epoch 00009: val_loss did not improve from 0.93178\n",
      "Epoch 10/100\n",
      "129/129 [==============================] - 54s 419ms/step - loss: 0.8997 - accuracy: 0.8005 - precision: 0.6957 - recall: 0.3587 - auc: 0.8469 - val_loss: 0.9488 - val_accuracy: 0.7911 - val_precision: 0.6641 - val_recall: 0.3324 - val_auc: 0.8237\n",
      "\n",
      "Epoch 00010: val_loss did not improve from 0.93178\n",
      "Epoch 11/100\n",
      "129/129 [==============================] - 54s 419ms/step - loss: 0.9041 - accuracy: 0.7987 - precision: 0.6920 - recall: 0.3514 - auc: 0.8444 - val_loss: 0.9492 - val_accuracy: 0.7913 - val_precision: 0.6647 - val_recall: 0.3333 - val_auc: 0.8236\n",
      "\n",
      "Epoch 00011: val_loss did not improve from 0.93178\n",
      "Epoch 12/100\n",
      "129/129 [==============================] - 54s 415ms/step - loss: 0.9048 - accuracy: 0.8014 - precision: 0.7018 - recall: 0.3572 - auc: 0.8445 - val_loss: 0.9502 - val_accuracy: 0.7903 - val_precision: 0.6596 - val_recall: 0.3333 - val_auc: 0.8235\n",
      "\n",
      "Epoch 00012: val_loss did not improve from 0.93178\n",
      "Epoch 13/100\n",
      "129/129 [==============================] - 54s 415ms/step - loss: 0.9044 - accuracy: 0.7996 - precision: 0.6953 - recall: 0.3531 - auc: 0.8440 - val_loss: 0.9490 - val_accuracy: 0.7913 - val_precision: 0.6673 - val_recall: 0.3294 - val_auc: 0.8233\n",
      "\n",
      "Epoch 00013: val_loss did not improve from 0.93178\n",
      "Epoch 14/100\n",
      "129/129 [==============================] - 53s 414ms/step - loss: 0.9116 - accuracy: 0.7978 - precision: 0.6846 - recall: 0.3543 - auc: 0.8420 - val_loss: 0.9486 - val_accuracy: 0.7930 - val_precision: 0.6781 - val_recall: 0.3275 - val_auc: 0.8227\n",
      "\n",
      "Epoch 00014: val_loss did not improve from 0.93178\n",
      "Epoch 15/100\n",
      "129/129 [==============================] - 53s 407ms/step - loss: 0.9026 - accuracy: 0.8011 - precision: 0.7007 - recall: 0.3570 - auc: 0.8454 - val_loss: 0.9485 - val_accuracy: 0.7923 - val_precision: 0.6747 - val_recall: 0.3265 - val_auc: 0.8226\n",
      "\n",
      "Epoch 00015: val_loss did not improve from 0.93178\n",
      "Epoch 16/100\n",
      "129/129 [==============================] - 52s 406ms/step - loss: 0.9139 - accuracy: 0.7986 - precision: 0.6928 - recall: 0.3494 - auc: 0.8420 - val_loss: 0.9495 - val_accuracy: 0.7918 - val_precision: 0.6713 - val_recall: 0.3275 - val_auc: 0.8226\n",
      "\n",
      "Epoch 00016: val_loss did not improve from 0.93178\n",
      "Epoch 17/100\n",
      "129/129 [==============================] - 52s 406ms/step - loss: 0.9132 - accuracy: 0.7959 - precision: 0.6801 - recall: 0.3470 - auc: 0.8400 - val_loss: 0.9482 - val_accuracy: 0.7920 - val_precision: 0.6720 - val_recall: 0.3284 - val_auc: 0.8229\n",
      "\n",
      "Epoch 00017: val_loss did not improve from 0.93178\n",
      "Epoch 18/100\n",
      "129/129 [==============================] - 52s 406ms/step - loss: 0.9158 - accuracy: 0.7973 - precision: 0.6836 - recall: 0.3521 - auc: 0.8417 - val_loss: 0.9472 - val_accuracy: 0.7930 - val_precision: 0.6774 - val_recall: 0.3284 - val_auc: 0.8230\n",
      "\n",
      "Epoch 00018: val_loss did not improve from 0.93178\n",
      "Epoch 19/100\n",
      "129/129 [==============================] - 53s 409ms/step - loss: 0.9019 - accuracy: 0.8014 - precision: 0.7000 - recall: 0.3599 - auc: 0.8459 - val_loss: 0.9469 - val_accuracy: 0.7925 - val_precision: 0.6754 - val_recall: 0.3275 - val_auc: 0.8233\n",
      "\n",
      "Epoch 00019: val_loss did not improve from 0.93178\n",
      "Epoch 20/100\n",
      "129/129 [==============================] - 53s 408ms/step - loss: 0.9110 - accuracy: 0.8000 - precision: 0.6944 - recall: 0.3570 - auc: 0.8437 - val_loss: 0.9481 - val_accuracy: 0.7920 - val_precision: 0.6734 - val_recall: 0.3265 - val_auc: 0.8228\n",
      "\n",
      "Epoch 00020: val_loss did not improve from 0.93178\n",
      "Epoch 21/100\n",
      "129/129 [==============================] - 53s 409ms/step - loss: 0.9152 - accuracy: 0.7996 - precision: 0.6969 - recall: 0.3511 - auc: 0.8416 - val_loss: 0.9474 - val_accuracy: 0.7933 - val_precision: 0.6795 - val_recall: 0.3275 - val_auc: 0.8229\n",
      "\n",
      "Epoch 00021: val_loss did not improve from 0.93178\n",
      "Epoch 22/100\n",
      "129/129 [==============================] - 53s 411ms/step - loss: 0.9019 - accuracy: 0.8017 - precision: 0.7050 - recall: 0.3558 - auc: 0.8453 - val_loss: 0.9501 - val_accuracy: 0.7913 - val_precision: 0.6667 - val_recall: 0.3304 - val_auc: 0.8229\n",
      "\n",
      "Epoch 00022: val_loss did not improve from 0.93178\n",
      "Epoch 23/100\n",
      "129/129 [==============================] - 53s 411ms/step - loss: 0.9052 - accuracy: 0.7981 - precision: 0.6905 - recall: 0.3485 - auc: 0.8432 - val_loss: 0.9483 - val_accuracy: 0.7933 - val_precision: 0.6788 - val_recall: 0.3284 - val_auc: 0.8226\n",
      "\n",
      "Epoch 00023: val_loss did not improve from 0.93178\n",
      "Epoch 24/100\n",
      "129/129 [==============================] - 54s 415ms/step - loss: 0.9091 - accuracy: 0.7987 - precision: 0.6907 - recall: 0.3531 - auc: 0.8423 - val_loss: 0.9480 - val_accuracy: 0.7925 - val_precision: 0.6747 - val_recall: 0.3284 - val_auc: 0.8229\n",
      "\n",
      "Epoch 00024: val_loss did not improve from 0.93178\n",
      "Epoch 25/100\n",
      "129/129 [==============================] - 56s 431ms/step - loss: 0.9054 - accuracy: 0.8004 - precision: 0.7017 - recall: 0.3507 - auc: 0.8433 - val_loss: 0.9468 - val_accuracy: 0.7925 - val_precision: 0.6768 - val_recall: 0.3255 - val_auc: 0.8229\n",
      "\n",
      "Epoch 00025: val_loss did not improve from 0.93178\n",
      "Epoch 26/100\n",
      "129/129 [==============================] - 54s 420ms/step - loss: 0.9148 - accuracy: 0.8000 - precision: 0.6940 - recall: 0.3575 - auc: 0.8413 - val_loss: 0.9489 - val_accuracy: 0.7915 - val_precision: 0.6687 - val_recall: 0.3294 - val_auc: 0.8228\n",
      "\n",
      "Epoch 00026: val_loss did not improve from 0.93178\n",
      "Epoch 27/100\n",
      "129/129 [==============================] - 54s 415ms/step - loss: 0.9048 - accuracy: 0.7987 - precision: 0.6903 - recall: 0.3536 - auc: 0.8444 - val_loss: 0.9502 - val_accuracy: 0.7913 - val_precision: 0.6680 - val_recall: 0.3284 - val_auc: 0.8229\n",
      "\n",
      "Epoch 00027: val_loss did not improve from 0.93178\n",
      "Epoch 28/100\n",
      "129/129 [==============================] - 54s 416ms/step - loss: 0.9100 - accuracy: 0.8015 - precision: 0.7033 - recall: 0.3563 - auc: 0.8435 - val_loss: 0.9495 - val_accuracy: 0.7920 - val_precision: 0.6713 - val_recall: 0.3294 - val_auc: 0.8230\n",
      "\n",
      "Epoch 00028: val_loss did not improve from 0.93178\n",
      "Epoch 29/100\n",
      "129/129 [==============================] - 54s 417ms/step - loss: 0.9107 - accuracy: 0.7969 - precision: 0.6860 - recall: 0.3460 - auc: 0.8422 - val_loss: 0.9479 - val_accuracy: 0.7937 - val_precision: 0.6830 - val_recall: 0.3265 - val_auc: 0.8224\n",
      "\n",
      "Epoch 00029: val_loss did not improve from 0.93178\n",
      "Epoch 30/100\n",
      "129/129 [==============================] - 54s 416ms/step - loss: 0.9052 - accuracy: 0.8031 - precision: 0.7055 - recall: 0.3648 - auc: 0.8461 - val_loss: 0.9479 - val_accuracy: 0.7915 - val_precision: 0.6693 - val_recall: 0.3284 - val_auc: 0.8230\n",
      "\n",
      "Epoch 00030: val_loss did not improve from 0.93178\n",
      "Epoch 31/100\n",
      "129/129 [==============================] - 54s 416ms/step - loss: 0.9081 - accuracy: 0.7979 - precision: 0.6927 - recall: 0.3443 - auc: 0.8430 - val_loss: 0.9480 - val_accuracy: 0.7933 - val_precision: 0.6810 - val_recall: 0.3255 - val_auc: 0.8226\n",
      "\n",
      "Epoch 00031: val_loss did not improve from 0.93178\n",
      "Epoch 32/100\n",
      "129/129 [==============================] - 54s 420ms/step - loss: 0.9035 - accuracy: 0.8024 - precision: 0.7084 - recall: 0.3563 - auc: 0.8452 - val_loss: 0.9471 - val_accuracy: 0.7935 - val_precision: 0.6816 - val_recall: 0.3265 - val_auc: 0.8229\n",
      "\n",
      "Epoch 00032: val_loss did not improve from 0.93178\n",
      "Epoch 33/100\n",
      "129/129 [==============================] - 55s 422ms/step - loss: 0.9083 - accuracy: 0.8014 - precision: 0.7014 - recall: 0.3577 - auc: 0.8448 - val_loss: 0.9478 - val_accuracy: 0.7925 - val_precision: 0.6754 - val_recall: 0.3275 - val_auc: 0.8231\n",
      "\n",
      "Epoch 00033: val_loss did not improve from 0.93178\n",
      "Epoch 34/100\n",
      "129/129 [==============================] - 54s 415ms/step - loss: 0.9023 - accuracy: 0.7996 - precision: 0.6955 - recall: 0.3529 - auc: 0.8455 - val_loss: 0.9497 - val_accuracy: 0.7908 - val_precision: 0.6634 - val_recall: 0.3314 - val_auc: 0.8233\n",
      "\n",
      "Epoch 00034: val_loss did not improve from 0.93178\n",
      "Epoch 35/100\n",
      "129/129 [==============================] - 53s 410ms/step - loss: 0.9046 - accuracy: 0.8008 - precision: 0.7021 - recall: 0.3526 - auc: 0.8456 - val_loss: 0.9508 - val_accuracy: 0.7908 - val_precision: 0.6634 - val_recall: 0.3314 - val_auc: 0.8228\n",
      "\n",
      "Epoch 00035: val_loss did not improve from 0.93178\n",
      "Epoch 36/100\n",
      "129/129 [==============================] - 54s 415ms/step - loss: 0.9015 - accuracy: 0.7992 - precision: 0.6943 - recall: 0.3519 - auc: 0.8439 - val_loss: 0.9492 - val_accuracy: 0.7911 - val_precision: 0.6647 - val_recall: 0.3314 - val_auc: 0.8231\n",
      "\n",
      "Epoch 00036: val_loss did not improve from 0.93178\n",
      "Epoch 37/100\n",
      "129/129 [==============================] - 55s 423ms/step - loss: 0.9048 - accuracy: 0.7994 - precision: 0.6930 - recall: 0.3548 - auc: 0.8445 - val_loss: 0.9480 - val_accuracy: 0.7933 - val_precision: 0.6781 - val_recall: 0.3294 - val_auc: 0.8229\n",
      "\n",
      "Epoch 00037: val_loss did not improve from 0.93178\n",
      "Epoch 38/100\n",
      "129/129 [==============================] - 55s 428ms/step - loss: 0.9070 - accuracy: 0.8000 - precision: 0.6969 - recall: 0.3541 - auc: 0.8431 - val_loss: 0.9492 - val_accuracy: 0.7913 - val_precision: 0.6667 - val_recall: 0.3304 - val_auc: 0.8232\n",
      "\n",
      "Epoch 00038: val_loss did not improve from 0.93178\n",
      "Epoch 39/100\n",
      "129/129 [==============================] - 56s 433ms/step - loss: 0.9082 - accuracy: 0.7985 - precision: 0.6896 - recall: 0.3529 - auc: 0.8435 - val_loss: 0.9486 - val_accuracy: 0.7906 - val_precision: 0.6640 - val_recall: 0.3284 - val_auc: 0.8234\n",
      "\n",
      "Epoch 00039: val_loss did not improve from 0.93178\n",
      "Epoch 40/100\n",
      "129/129 [==============================] - 55s 427ms/step - loss: 0.9129 - accuracy: 0.7969 - precision: 0.6825 - recall: 0.3504 - auc: 0.8421 - val_loss: 0.9502 - val_accuracy: 0.7911 - val_precision: 0.6641 - val_recall: 0.3324 - val_auc: 0.8232\n",
      "\n",
      "Epoch 00040: val_loss did not improve from 0.93178\n",
      "Epoch 41/100\n",
      "129/129 [==============================] - 55s 428ms/step - loss: 0.9055 - accuracy: 0.7972 - precision: 0.6848 - recall: 0.3494 - auc: 0.8434 - val_loss: 0.9497 - val_accuracy: 0.7908 - val_precision: 0.6653 - val_recall: 0.3284 - val_auc: 0.8232\n",
      "\n",
      "Epoch 00041: val_loss did not improve from 0.93178\n",
      "Epoch 42/100\n",
      "129/129 [==============================] - 55s 427ms/step - loss: 0.9150 - accuracy: 0.7961 - precision: 0.6821 - recall: 0.3455 - auc: 0.8398 - val_loss: 0.9483 - val_accuracy: 0.7915 - val_precision: 0.6693 - val_recall: 0.3284 - val_auc: 0.8234\n",
      "\n",
      "Epoch 00042: val_loss did not improve from 0.93178\n",
      "Epoch 43/100\n",
      "129/129 [==============================] - 55s 425ms/step - loss: 0.9147 - accuracy: 0.8000 - precision: 0.6965 - recall: 0.3546 - auc: 0.8421 - val_loss: 0.9494 - val_accuracy: 0.7913 - val_precision: 0.6680 - val_recall: 0.3284 - val_auc: 0.8229\n",
      "\n",
      "Epoch 00043: val_loss did not improve from 0.93178\n",
      "Epoch 44/100\n",
      "129/129 [==============================] - 55s 429ms/step - loss: 0.9125 - accuracy: 0.8014 - precision: 0.7001 - recall: 0.3594 - auc: 0.8426 - val_loss: 0.9483 - val_accuracy: 0.7918 - val_precision: 0.6707 - val_recall: 0.3284 - val_auc: 0.8232\n",
      "\n",
      "Epoch 00044: val_loss did not improve from 0.93178\n",
      "Epoch 45/100\n",
      "129/129 [==============================] - 56s 430ms/step - loss: 0.9053 - accuracy: 0.7987 - precision: 0.6876 - recall: 0.3572 - auc: 0.8434 - val_loss: 0.9492 - val_accuracy: 0.7908 - val_precision: 0.6647 - val_recall: 0.3294 - val_auc: 0.8231\n",
      "\n",
      "Epoch 00045: val_loss did not improve from 0.93178\n",
      "Epoch 46/100\n",
      "129/129 [==============================] - 56s 431ms/step - loss: 0.9048 - accuracy: 0.8001 - precision: 0.6946 - recall: 0.3580 - auc: 0.8456 - val_loss: 0.9489 - val_accuracy: 0.7908 - val_precision: 0.6647 - val_recall: 0.3294 - val_auc: 0.8235\n",
      "\n",
      "Epoch 00046: val_loss did not improve from 0.93178\n",
      "Epoch 47/100\n",
      "129/129 [==============================] - 56s 434ms/step - loss: 0.9064 - accuracy: 0.7990 - precision: 0.6896 - recall: 0.3568 - auc: 0.8448 - val_loss: 0.9481 - val_accuracy: 0.7908 - val_precision: 0.6647 - val_recall: 0.3294 - val_auc: 0.8236\n",
      "\n",
      "Epoch 00047: val_loss did not improve from 0.93178\n",
      "Epoch 48/100\n",
      "129/129 [==============================] - 56s 431ms/step - loss: 0.9065 - accuracy: 0.7987 - precision: 0.6894 - recall: 0.3548 - auc: 0.8442 - val_loss: 0.9479 - val_accuracy: 0.7911 - val_precision: 0.6654 - val_recall: 0.3304 - val_auc: 0.8238\n",
      "\n",
      "Epoch 00048: val_loss did not improve from 0.93178\n",
      "Epoch 49/100\n",
      "129/129 [==============================] - 56s 431ms/step - loss: 0.9159 - accuracy: 0.8000 - precision: 0.6972 - recall: 0.3533 - auc: 0.8406 - val_loss: 0.9492 - val_accuracy: 0.7908 - val_precision: 0.6634 - val_recall: 0.3314 - val_auc: 0.8234\n",
      "\n",
      "Epoch 00049: val_loss did not improve from 0.93178\n",
      "Epoch 50/100\n",
      "129/129 [==============================] - 56s 434ms/step - loss: 0.9208 - accuracy: 0.7965 - precision: 0.6818 - recall: 0.3487 - auc: 0.8415 - val_loss: 0.9488 - val_accuracy: 0.7911 - val_precision: 0.6667 - val_recall: 0.3284 - val_auc: 0.8230\n",
      "\n",
      "Epoch 00050: val_loss did not improve from 0.93178\n",
      "Epoch 51/100\n",
      "129/129 [==============================] - 56s 432ms/step - loss: 0.9040 - accuracy: 0.8008 - precision: 0.6972 - recall: 0.3590 - auc: 0.8434 - val_loss: 0.9484 - val_accuracy: 0.7911 - val_precision: 0.6667 - val_recall: 0.3284 - val_auc: 0.8232\n",
      "\n",
      "Epoch 00051: val_loss did not improve from 0.93178\n",
      "Epoch 52/100\n",
      "129/129 [==============================] - 56s 434ms/step - loss: 0.9123 - accuracy: 0.7980 - precision: 0.6889 - recall: 0.3502 - auc: 0.8415 - val_loss: 0.9479 - val_accuracy: 0.7935 - val_precision: 0.6802 - val_recall: 0.3284 - val_auc: 0.8225\n",
      "\n",
      "Epoch 00052: val_loss did not improve from 0.93178\n",
      "Epoch 53/100\n",
      "129/129 [==============================] - 55s 428ms/step - loss: 0.9094 - accuracy: 0.7994 - precision: 0.6921 - recall: 0.3560 - auc: 0.8426 - val_loss: 0.9478 - val_accuracy: 0.7913 - val_precision: 0.6680 - val_recall: 0.3284 - val_auc: 0.8234\n",
      "\n",
      "Epoch 00053: val_loss did not improve from 0.93178\n",
      "Epoch 54/100\n",
      "129/129 [==============================] - 55s 429ms/step - loss: 0.9087 - accuracy: 0.8008 - precision: 0.7045 - recall: 0.3502 - auc: 0.8420 - val_loss: 0.9483 - val_accuracy: 0.7918 - val_precision: 0.6707 - val_recall: 0.3284 - val_auc: 0.8230\n",
      "\n",
      "Epoch 00054: val_loss did not improve from 0.93178\n",
      "Epoch 55/100\n",
      "129/129 [==============================] - 56s 430ms/step - loss: 0.9017 - accuracy: 0.7998 - precision: 0.6935 - recall: 0.3568 - auc: 0.8437 - val_loss: 0.9480 - val_accuracy: 0.7918 - val_precision: 0.6707 - val_recall: 0.3284 - val_auc: 0.8235\n",
      "\n",
      "Epoch 00055: val_loss did not improve from 0.93178\n",
      "Epoch 56/100\n",
      "129/129 [==============================] - 55s 429ms/step - loss: 0.9047 - accuracy: 0.8034 - precision: 0.7145 - recall: 0.3560 - auc: 0.8438 - val_loss: 0.9492 - val_accuracy: 0.7920 - val_precision: 0.6720 - val_recall: 0.3284 - val_auc: 0.8231\n",
      "\n",
      "Epoch 00056: val_loss did not improve from 0.93178\n",
      "Epoch 57/100\n",
      "129/129 [==============================] - 55s 427ms/step - loss: 0.9021 - accuracy: 0.8028 - precision: 0.7060 - recall: 0.3621 - auc: 0.8452 - val_loss: 0.9508 - val_accuracy: 0.7913 - val_precision: 0.6647 - val_recall: 0.3333 - val_auc: 0.8233\n",
      "\n",
      "Epoch 00057: val_loss did not improve from 0.93178\n",
      "Epoch 58/100\n",
      "129/129 [==============================] - 56s 433ms/step - loss: 0.9075 - accuracy: 0.8023 - precision: 0.7066 - recall: 0.3580 - auc: 0.8448 - val_loss: 0.9488 - val_accuracy: 0.7906 - val_precision: 0.6640 - val_recall: 0.3284 - val_auc: 0.8235\n",
      "\n",
      "Epoch 00058: val_loss did not improve from 0.93178\n",
      "Epoch 59/100\n",
      "129/129 [==============================] - 56s 432ms/step - loss: 0.9075 - accuracy: 0.8022 - precision: 0.7038 - recall: 0.3607 - auc: 0.8436 - val_loss: 0.9486 - val_accuracy: 0.7911 - val_precision: 0.6654 - val_recall: 0.3304 - val_auc: 0.8235\n",
      "\n",
      "Epoch 00059: val_loss did not improve from 0.93178\n",
      "Epoch 60/100\n",
      "129/129 [==============================] - 56s 432ms/step - loss: 0.9072 - accuracy: 0.7988 - precision: 0.6925 - recall: 0.3511 - auc: 0.8436 - val_loss: 0.9485 - val_accuracy: 0.7913 - val_precision: 0.6667 - val_recall: 0.3304 - val_auc: 0.8234\n",
      "\n",
      "Epoch 00060: val_loss did not improve from 0.93178\n",
      "Epoch 61/100\n",
      "129/129 [==============================] - 56s 431ms/step - loss: 0.9075 - accuracy: 0.8027 - precision: 0.7030 - recall: 0.3651 - auc: 0.8435 - val_loss: 0.9477 - val_accuracy: 0.7913 - val_precision: 0.6680 - val_recall: 0.3284 - val_auc: 0.8234\n",
      "\n",
      "Epoch 00061: val_loss did not improve from 0.93178\n",
      "Epoch 62/100\n",
      "129/129 [==============================] - 56s 432ms/step - loss: 0.9077 - accuracy: 0.8011 - precision: 0.7014 - recall: 0.3560 - auc: 0.8442 - val_loss: 0.9479 - val_accuracy: 0.7923 - val_precision: 0.6733 - val_recall: 0.3284 - val_auc: 0.8232\n",
      "\n",
      "Epoch 00062: val_loss did not improve from 0.93178\n",
      "Epoch 63/100\n",
      "129/129 [==============================] - 55s 428ms/step - loss: 0.9023 - accuracy: 0.8012 - precision: 0.7020 - recall: 0.3558 - auc: 0.8433 - val_loss: 0.9479 - val_accuracy: 0.7920 - val_precision: 0.6720 - val_recall: 0.3284 - val_auc: 0.8231\n",
      "\n",
      "Epoch 00063: val_loss did not improve from 0.93178\n",
      "Epoch 64/100\n",
      "129/129 [==============================] - 55s 428ms/step - loss: 0.8975 - accuracy: 0.8036 - precision: 0.7094 - recall: 0.3633 - auc: 0.8468 - val_loss: 0.9486 - val_accuracy: 0.7915 - val_precision: 0.6693 - val_recall: 0.3284 - val_auc: 0.8233\n",
      "\n",
      "Epoch 00064: val_loss did not improve from 0.93178\n",
      "Epoch 65/100\n",
      "129/129 [==============================] - 55s 422ms/step - loss: 0.9099 - accuracy: 0.7991 - precision: 0.6916 - recall: 0.3546 - auc: 0.8412 - val_loss: 0.9496 - val_accuracy: 0.7908 - val_precision: 0.6647 - val_recall: 0.3294 - val_auc: 0.8231\n",
      "\n",
      "Epoch 00065: val_loss did not improve from 0.93178\n",
      "Epoch 66/100\n",
      "129/129 [==============================] - 54s 421ms/step - loss: 0.9087 - accuracy: 0.7961 - precision: 0.6797 - recall: 0.3485 - auc: 0.8430 - val_loss: 0.9504 - val_accuracy: 0.7908 - val_precision: 0.6634 - val_recall: 0.3314 - val_auc: 0.8233\n",
      "\n",
      "Epoch 00066: val_loss did not improve from 0.93178\n",
      "Epoch 67/100\n",
      "129/129 [==============================] - 55s 428ms/step - loss: 0.9094 - accuracy: 0.7994 - precision: 0.6951 - recall: 0.3521 - auc: 0.8437 - val_loss: 0.9495 - val_accuracy: 0.7906 - val_precision: 0.6627 - val_recall: 0.3304 - val_auc: 0.8233\n",
      "\n",
      "Epoch 00067: val_loss did not improve from 0.93178\n",
      "Epoch 68/100\n",
      "129/129 [==============================] - 56s 432ms/step - loss: 0.9004 - accuracy: 0.7993 - precision: 0.6935 - recall: 0.3533 - auc: 0.8453 - val_loss: 0.9493 - val_accuracy: 0.7911 - val_precision: 0.6660 - val_recall: 0.3294 - val_auc: 0.8234\n",
      "\n",
      "Epoch 00068: val_loss did not improve from 0.93178\n",
      "Epoch 69/100\n",
      "129/129 [==============================] - 56s 430ms/step - loss: 0.9029 - accuracy: 0.8039 - precision: 0.7120 - recall: 0.3619 - auc: 0.8458 - val_loss: 0.9475 - val_accuracy: 0.7915 - val_precision: 0.6693 - val_recall: 0.3284 - val_auc: 0.8237\n",
      "\n",
      "Epoch 00069: val_loss did not improve from 0.93178\n",
      "Epoch 70/100\n",
      "129/129 [==============================] - 56s 435ms/step - loss: 0.9127 - accuracy: 0.7991 - precision: 0.6951 - recall: 0.3499 - auc: 0.8408 - val_loss: 0.9479 - val_accuracy: 0.7913 - val_precision: 0.6673 - val_recall: 0.3294 - val_auc: 0.8240\n",
      "\n",
      "Epoch 00070: val_loss did not improve from 0.93178\n",
      "Epoch 71/100\n",
      "129/129 [==============================] - 56s 433ms/step - loss: 0.9049 - accuracy: 0.8008 - precision: 0.7003 - recall: 0.3553 - auc: 0.8445 - val_loss: 0.9474 - val_accuracy: 0.7923 - val_precision: 0.6733 - val_recall: 0.3284 - val_auc: 0.8238\n",
      "\n",
      "Epoch 00071: val_loss did not improve from 0.93178\n",
      "Epoch 72/100\n",
      "129/129 [==============================] - 56s 434ms/step - loss: 0.9046 - accuracy: 0.8008 - precision: 0.6973 - recall: 0.3587 - auc: 0.8461 - val_loss: 0.9481 - val_accuracy: 0.7923 - val_precision: 0.6733 - val_recall: 0.3284 - val_auc: 0.8230\n",
      "\n",
      "Epoch 00072: val_loss did not improve from 0.93178\n",
      "Epoch 73/100\n",
      "129/129 [==============================] - 55s 428ms/step - loss: 0.9091 - accuracy: 0.7993 - precision: 0.6926 - recall: 0.3546 - auc: 0.8427 - val_loss: 0.9486 - val_accuracy: 0.7913 - val_precision: 0.6673 - val_recall: 0.3294 - val_auc: 0.8235\n",
      "\n",
      "Epoch 00073: val_loss did not improve from 0.93178\n",
      "Epoch 74/100\n",
      "129/129 [==============================] - 55s 428ms/step - loss: 0.9043 - accuracy: 0.8038 - precision: 0.7104 - recall: 0.3633 - auc: 0.8468 - val_loss: 0.9489 - val_accuracy: 0.7911 - val_precision: 0.6660 - val_recall: 0.3294 - val_auc: 0.8232\n",
      "\n",
      "Epoch 00074: val_loss did not improve from 0.93178\n",
      "Epoch 75/100\n",
      "129/129 [==============================] - 55s 427ms/step - loss: 0.9149 - accuracy: 0.7988 - precision: 0.6927 - recall: 0.3509 - auc: 0.8409 - val_loss: 0.9492 - val_accuracy: 0.7913 - val_precision: 0.6654 - val_recall: 0.3324 - val_auc: 0.8235\n",
      "\n",
      "Epoch 00075: val_loss did not improve from 0.93178\n",
      "Epoch 76/100\n",
      "129/129 [==============================] - 55s 424ms/step - loss: 0.9053 - accuracy: 0.8011 - precision: 0.7046 - recall: 0.3516 - auc: 0.8436 - val_loss: 0.9492 - val_accuracy: 0.7906 - val_precision: 0.6640 - val_recall: 0.3284 - val_auc: 0.8235\n",
      "\n",
      "Epoch 00076: val_loss did not improve from 0.93178\n",
      "Epoch 77/100\n",
      "129/129 [==============================] - 56s 430ms/step - loss: 0.9091 - accuracy: 0.7983 - precision: 0.6897 - recall: 0.3514 - auc: 0.8422 - val_loss: 0.9480 - val_accuracy: 0.7915 - val_precision: 0.6693 - val_recall: 0.3284 - val_auc: 0.8231\n",
      "\n",
      "Epoch 00077: val_loss did not improve from 0.93178\n",
      "Epoch 78/100\n",
      "129/129 [==============================] - 56s 433ms/step - loss: 0.9121 - accuracy: 0.7997 - precision: 0.6968 - recall: 0.3521 - auc: 0.8413 - val_loss: 0.9477 - val_accuracy: 0.7913 - val_precision: 0.6680 - val_recall: 0.3284 - val_auc: 0.8237\n",
      "\n",
      "Epoch 00078: val_loss did not improve from 0.93178\n",
      "Epoch 79/100\n",
      "129/129 [==============================] - 56s 435ms/step - loss: 0.9152 - accuracy: 0.7975 - precision: 0.6847 - recall: 0.3524 - auc: 0.8395 - val_loss: 0.9494 - val_accuracy: 0.7915 - val_precision: 0.6660 - val_recall: 0.3333 - val_auc: 0.8236\n",
      "\n",
      "Epoch 00079: val_loss did not improve from 0.93178\n",
      "Epoch 80/100\n",
      "129/129 [==============================] - 55s 427ms/step - loss: 0.9075 - accuracy: 0.8014 - precision: 0.7016 - recall: 0.3580 - auc: 0.8436 - val_loss: 0.9494 - val_accuracy: 0.7911 - val_precision: 0.6641 - val_recall: 0.3324 - val_auc: 0.8232\n",
      "\n",
      "Epoch 00080: val_loss did not improve from 0.93178\n",
      "Epoch 81/100\n",
      "129/129 [==============================] - 55s 430ms/step - loss: 0.9059 - accuracy: 0.7988 - precision: 0.6912 - recall: 0.3529 - auc: 0.8430 - val_loss: 0.9492 - val_accuracy: 0.7908 - val_precision: 0.6647 - val_recall: 0.3294 - val_auc: 0.8232\n",
      "\n",
      "Epoch 00081: val_loss did not improve from 0.93178\n",
      "Epoch 82/100\n",
      "129/129 [==============================] - 55s 429ms/step - loss: 0.9121 - accuracy: 0.8020 - precision: 0.7046 - recall: 0.3585 - auc: 0.8444 - val_loss: 0.9496 - val_accuracy: 0.7908 - val_precision: 0.6640 - val_recall: 0.3304 - val_auc: 0.8235\n",
      "\n",
      "Epoch 00082: val_loss did not improve from 0.93178\n",
      "Epoch 83/100\n",
      "129/129 [==============================] - 55s 430ms/step - loss: 0.9151 - accuracy: 0.8003 - precision: 0.6963 - recall: 0.3570 - auc: 0.8429 - val_loss: 0.9504 - val_accuracy: 0.7903 - val_precision: 0.6627 - val_recall: 0.3284 - val_auc: 0.8230\n",
      "\n",
      "Epoch 00083: val_loss did not improve from 0.93178\n",
      "Epoch 84/100\n",
      "129/129 [==============================] - 56s 430ms/step - loss: 0.9083 - accuracy: 0.7976 - precision: 0.6875 - recall: 0.3490 - auc: 0.8432 - val_loss: 0.9481 - val_accuracy: 0.7918 - val_precision: 0.6707 - val_recall: 0.3284 - val_auc: 0.8230\n",
      "\n",
      "Epoch 00084: val_loss did not improve from 0.93178\n",
      "Epoch 85/100\n",
      "129/129 [==============================] - 56s 433ms/step - loss: 0.9060 - accuracy: 0.8028 - precision: 0.7062 - recall: 0.3619 - auc: 0.8456 - val_loss: 0.9497 - val_accuracy: 0.7908 - val_precision: 0.6647 - val_recall: 0.3294 - val_auc: 0.8230\n",
      "\n",
      "Epoch 00085: val_loss did not improve from 0.93178\n",
      "Epoch 86/100\n",
      "129/129 [==============================] - 56s 435ms/step - loss: 0.9169 - accuracy: 0.7986 - precision: 0.6917 - recall: 0.3504 - auc: 0.8409 - val_loss: 0.9490 - val_accuracy: 0.7906 - val_precision: 0.6640 - val_recall: 0.3284 - val_auc: 0.8231\n",
      "\n",
      "Epoch 00086: val_loss did not improve from 0.93178\n",
      "Epoch 87/100\n",
      "129/129 [==============================] - 56s 435ms/step - loss: 0.9125 - accuracy: 0.7986 - precision: 0.6908 - recall: 0.3516 - auc: 0.8428 - val_loss: 0.9504 - val_accuracy: 0.7908 - val_precision: 0.6640 - val_recall: 0.3304 - val_auc: 0.8230\n",
      "\n",
      "Epoch 00087: val_loss did not improve from 0.93178\n",
      "Epoch 88/100\n",
      "129/129 [==============================] - 56s 434ms/step - loss: 0.9067 - accuracy: 0.8018 - precision: 0.6988 - recall: 0.3641 - auc: 0.8455 - val_loss: 0.9488 - val_accuracy: 0.7918 - val_precision: 0.6700 - val_recall: 0.3294 - val_auc: 0.8232\n",
      "\n",
      "Epoch 00088: val_loss did not improve from 0.93178\n",
      "Epoch 89/100\n",
      "129/129 [==============================] - 55s 427ms/step - loss: 0.9044 - accuracy: 0.8012 - precision: 0.7012 - recall: 0.3568 - auc: 0.8449 - val_loss: 0.9469 - val_accuracy: 0.7928 - val_precision: 0.6768 - val_recall: 0.3275 - val_auc: 0.8231\n",
      "\n",
      "Epoch 00089: val_loss did not improve from 0.93178\n",
      "Epoch 90/100\n",
      "129/129 [==============================] - 55s 428ms/step - loss: 0.9069 - accuracy: 0.8019 - precision: 0.7055 - recall: 0.3565 - auc: 0.8449 - val_loss: 0.9485 - val_accuracy: 0.7920 - val_precision: 0.6727 - val_recall: 0.3275 - val_auc: 0.8228\n",
      "\n",
      "Epoch 00090: val_loss did not improve from 0.93178\n",
      "Epoch 91/100\n",
      "129/129 [==============================] - 56s 433ms/step - loss: 0.9034 - accuracy: 0.7973 - precision: 0.6820 - recall: 0.3548 - auc: 0.8441 - val_loss: 0.9485 - val_accuracy: 0.7911 - val_precision: 0.6667 - val_recall: 0.3284 - val_auc: 0.8234\n",
      "\n",
      "Epoch 00091: val_loss did not improve from 0.93178\n",
      "Epoch 92/100\n",
      "129/129 [==============================] - 56s 433ms/step - loss: 0.8968 - accuracy: 0.7997 - precision: 0.6973 - recall: 0.3514 - auc: 0.8456 - val_loss: 0.9481 - val_accuracy: 0.7906 - val_precision: 0.6640 - val_recall: 0.3284 - val_auc: 0.8235\n",
      "\n",
      "Epoch 00092: val_loss did not improve from 0.93178\n",
      "Epoch 93/100\n",
      "129/129 [==============================] - 56s 432ms/step - loss: 0.9065 - accuracy: 0.7981 - precision: 0.6878 - recall: 0.3526 - auc: 0.8432 - val_loss: 0.9489 - val_accuracy: 0.7908 - val_precision: 0.6647 - val_recall: 0.3294 - val_auc: 0.8235\n",
      "\n",
      "Epoch 00093: val_loss did not improve from 0.93178\n",
      "Epoch 94/100\n",
      "129/129 [==============================] - 56s 433ms/step - loss: 0.9096 - accuracy: 0.7985 - precision: 0.6867 - recall: 0.3568 - auc: 0.8428 - val_loss: 0.9491 - val_accuracy: 0.7908 - val_precision: 0.6647 - val_recall: 0.3294 - val_auc: 0.8232\n",
      "\n",
      "Epoch 00094: val_loss did not improve from 0.93178\n",
      "Epoch 95/100\n",
      "129/129 [==============================] - 56s 434ms/step - loss: 0.9085 - accuracy: 0.7994 - precision: 0.6970 - recall: 0.3497 - auc: 0.8444 - val_loss: 0.9495 - val_accuracy: 0.7911 - val_precision: 0.6641 - val_recall: 0.3324 - val_auc: 0.8236\n",
      "\n",
      "Epoch 00095: val_loss did not improve from 0.93178\n",
      "Epoch 96/100\n",
      "129/129 [==============================] - 56s 434ms/step - loss: 0.9067 - accuracy: 0.8025 - precision: 0.7030 - recall: 0.3638 - auc: 0.8460 - val_loss: 0.9494 - val_accuracy: 0.7915 - val_precision: 0.6673 - val_recall: 0.3314 - val_auc: 0.8237\n",
      "\n",
      "Epoch 00096: val_loss did not improve from 0.93178\n",
      "Epoch 97/100\n",
      "129/129 [==============================] - 56s 434ms/step - loss: 0.9102 - accuracy: 0.8031 - precision: 0.7109 - recall: 0.3582 - auc: 0.8435 - val_loss: 0.9477 - val_accuracy: 0.7928 - val_precision: 0.6768 - val_recall: 0.3275 - val_auc: 0.8232\n",
      "\n",
      "Epoch 00097: val_loss did not improve from 0.93178\n",
      "Epoch 98/100\n",
      "129/129 [==============================] - 56s 434ms/step - loss: 0.9077 - accuracy: 0.8012 - precision: 0.7002 - recall: 0.3580 - auc: 0.8423 - val_loss: 0.9478 - val_accuracy: 0.7925 - val_precision: 0.6754 - val_recall: 0.3275 - val_auc: 0.8229\n",
      "\n",
      "Epoch 00098: val_loss did not improve from 0.93178\n",
      "Epoch 99/100\n",
      "129/129 [==============================] - 55s 429ms/step - loss: 0.9130 - accuracy: 0.8007 - precision: 0.6963 - recall: 0.3597 - auc: 0.8415 - val_loss: 0.9485 - val_accuracy: 0.7920 - val_precision: 0.6720 - val_recall: 0.3284 - val_auc: 0.8230\n",
      "\n",
      "Epoch 00099: val_loss did not improve from 0.93178\n",
      "Epoch 100/100\n",
      "129/129 [==============================] - 55s 429ms/step - loss: 0.9150 - accuracy: 0.7988 - precision: 0.6890 - recall: 0.3558 - auc: 0.8402 - val_loss: 0.9492 - val_accuracy: 0.7915 - val_precision: 0.6693 - val_recall: 0.3284 - val_auc: 0.8229\n",
      "\n",
      "Epoch 00100: val_loss did not improve from 0.93178\n"
     ]
    }
   ],
   "source": [
    "history=model.fit(train_dataset,\n",
    "                  validation_data=valid_dataset,\n",
    "                  epochs = 100,\n",
    "                  verbose = 1,\n",
    "                  callbacks=callbacks)"
   ]
  },
  {
   "cell_type": "code",
   "execution_count": 22,
   "metadata": {
    "colab": {
     "base_uri": "https://localhost:8080/"
    },
    "id": "bcZDfF1AyyrB",
    "outputId": "ba66a80d-e5eb-4675-c675-dc8a00e0c6db"
   },
   "outputs": [
    {
     "name": "stderr",
     "output_type": "stream",
     "text": [
      "WARNING:absl:Function `_wrapped_model` contains input name(s) mobilenet_1.00_224_input with unsupported characters which will be renamed to mobilenet_1_00_224_input in the SavedModel.\n"
     ]
    },
    {
     "name": "stdout",
     "output_type": "stream",
     "text": [
      "INFO:tensorflow:Assets written to: /content/drive/MyDrive/Garvin/IEEE/saved_model/assets\n"
     ]
    },
    {
     "name": "stderr",
     "output_type": "stream",
     "text": [
      "INFO:tensorflow:Assets written to: /content/drive/MyDrive/Garvin/IEEE/saved_model/assets\n"
     ]
    }
   ],
   "source": [
    "model.save('/content/drive/MyDrive/Garvin/IEEE/saved_model')"
   ]
  },
  {
   "cell_type": "code",
   "execution_count": 23,
   "metadata": {
    "colab": {
     "base_uri": "https://localhost:8080/",
     "height": 370
    },
    "id": "KjGi8y2svMQu",
    "outputId": "c1d1510f-6ffd-4ef1-ee6b-b8dcd8e4b968"
   },
   "outputs": [
    {
     "data": {
      "image/png": "[encoded data removed]",
      "text/plain": [
       "<Figure size 1440x360 with 4 Axes>"
      ]
     },
     "metadata": {
      "needs_background": "light"
     },
     "output_type": "display_data"
    }
   ],
   "source": [
    "def Train_Val_Plot(acc,val_acc,loss,val_loss,auc,val_auc,precision,val_precision):\n",
    "    \n",
    "    fig, (ax1, ax2,ax3,ax4) = plt.subplots(1,4, figsize= (20,5))\n",
    "    fig.suptitle(\" MODEL'S METRICS VISUALIZATION \")\n",
    "\n",
    "    ax1.plot(range(1, len(acc) + 1), acc)\n",
    "    ax1.plot(range(1, len(val_acc) + 1), val_acc)\n",
    "    ax1.set_title('History of Accuracy')\n",
    "    ax1.set_xlabel('Epochs')\n",
    "    ax1.set_ylabel('Accuracy')\n",
    "    ax1.legend(['training', 'validation'])\n",
    "\n",
    "\n",
    "    ax2.plot(range(1, len(loss) + 1), loss)\n",
    "    ax2.plot(range(1, len(val_loss) + 1), val_loss)\n",
    "    ax2.set_title('History of Loss')\n",
    "    ax2.set_xlabel('Epochs')\n",
    "    ax2.set_ylabel('Loss')\n",
    "    ax2.legend(['training', 'validation'])\n",
    "    \n",
    "    ax3.plot(range(1, len(auc) + 1), auc)\n",
    "    ax3.plot(range(1, len(val_auc) + 1), val_auc)\n",
    "    ax3.set_title('History of AUC')\n",
    "    ax3.set_xlabel('Epochs')\n",
    "    ax3.set_ylabel('AUC')\n",
    "    ax3.legend(['training', 'validation'])\n",
    "    \n",
    "    ax4.plot(range(1, len(precision) + 1), precision)\n",
    "    ax4.plot(range(1, len(val_precision) + 1), val_precision)\n",
    "    ax4.set_title('History of Precision')\n",
    "    ax4.set_xlabel('Epochs')\n",
    "    ax4.set_ylabel('Precision')\n",
    "    ax4.legend(['training', 'validation'])\n",
    "    \n",
    "  \n",
    "    plt.show()\n",
    "    \n",
    "\n",
    "Train_Val_Plot(history.history['accuracy'],history.history['val_accuracy'],\n",
    "               history.history['loss'],history.history['val_loss'],\n",
    "               history.history['auc'],history.history['val_auc'],\n",
    "               history.history['precision'],history.history['val_precision']\n",
    "              )"
   ]
  },
  {
   "cell_type": "code",
   "execution_count": 24,
   "metadata": {
    "colab": {
     "base_uri": "https://localhost:8080/"
    },
    "id": "tw_eSoQRvOzP",
    "outputId": "6d51f80a-b527-4988-886e-140a019a4e56"
   },
   "outputs": [
    {
     "name": "stdout",
     "output_type": "stream",
     "text": [
      "40/40 [==============================] - 4s 89ms/step - loss: 0.9403 - accuracy: 0.7965 - precision: 0.6705 - recall: 0.3659 - auc: 0.8374\n"
     ]
    }
   ],
   "source": [
    "scores = model.evaluate(test_dataset)"
   ]
  },
  {
   "cell_type": "code",
   "execution_count": 25,
   "metadata": {
    "colab": {
     "base_uri": "https://localhost:8080/"
    },
    "id": "gPrIFSUOvQxI",
    "outputId": "e4a86777-b20a-4acb-b83b-48b65518627b"
   },
   "outputs": [
    {
     "name": "stdout",
     "output_type": "stream",
     "text": [
      "Accuracy =  0.7965207099914551\n",
      "Precision =  0.670487105846405\n",
      "Recall =  0.3659108579158783\n",
      "AUC =  0.837359607219696\n"
     ]
    }
   ],
   "source": [
    "print(\"Accuracy = \", scores[1])\n",
    "print(\"Precision = \", scores[2])\n",
    "print(\"Recall = \", scores[3])\n",
    "print(\"AUC = \", scores[4])"
   ]
  },
  {
   "cell_type": "code",
   "execution_count": null,
   "metadata": {
    "id": "07W4J_fdwbeO"
   },
   "outputs": [],
   "source": []
  }
 ],
 "metadata": {
  "accelerator": "GPU",
  "colab": {
   "name": "MobileNet.ipynb",
   "provenance": []
  },
  "kernelspec": {
   "display_name": "Python 3",
   "language": "python",
   "name": "python3"
  },
  "language_info": {
   "codemirror_mode": {
    "name": "ipython",
    "version": 3
   },
   "file_extension": ".py",
   "mimetype": "text/x-python",
   "name": "python",
   "nbconvert_exporter": "python",
   "pygments_lexer": "ipython3",
   "version": "3.8.3"
  }
 },
 "nbformat": 4,
 "nbformat_minor": 1
}
