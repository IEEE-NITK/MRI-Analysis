{
  "nbformat": 4,
  "nbformat_minor": 0,
  "metadata": {
    "colab": {
      "name": "mobilenet_wavelet.ipynb",
      "provenance": []
    },
    "kernelspec": {
      "name": "python3",
      "display_name": "Python 3"
    },
    "language_info": {
      "name": "python"
    },
    "accelerator": "GPU"
  },
  "cells": [
    {
      "cell_type": "code",
      "metadata": {
        "id": "vwDzrEmrtFdv"
      },
      "source": [
        "import numpy as np\n",
        "import pandas as pd\n",
        "import matplotlib.pyplot as plt\n",
        "import seaborn as sn\n",
        "import skimage.io\n",
        "import os \n",
        "import tqdm\n",
        "import glob\n",
        "import tensorflow \n",
        "import cv2\n",
        "import pywt\n",
        "\n",
        "from tqdm import tqdm\n",
        "from sklearn.utils import shuffle\n",
        "from sklearn import metrics\n",
        "from sklearn.metrics import confusion_matrix, classification_report\n",
        "from sklearn.model_selection import train_test_split\n",
        "\n",
        "from skimage.io import imread, imshow\n",
        "from skimage.transform import resize\n",
        "from skimage.color import grey2rgb\n",
        "\n",
        "import tensorflow as tf\n",
        "from tensorflow.keras.preprocessing.image import ImageDataGenerator\n",
        "from tensorflow.keras.preprocessing import image_dataset_from_directory\n",
        "from tensorflow.keras.models import Sequential\n",
        "from tensorflow.keras.layers import InputLayer, BatchNormalization, Dropout, Flatten, Dense, Activation, MaxPool2D, Conv2D\n",
        "from tensorflow.keras.callbacks import EarlyStopping, ModelCheckpoint\n",
        "from tensorflow.keras.applications.resnet50 import ResNet50\n",
        "from tensorflow.keras.utils import to_categorical\n",
        "from keras import optimizers\n",
        "\n",
        "from keras.callbacks import Callback,ModelCheckpoint\n",
        "from keras.models import Sequential,load_model\n",
        "from keras.layers import Dense, Dropout\n",
        "from keras.wrappers.scikit_learn import KerasClassifier\n",
        "import keras.backend as K\n",
        "\n",
        "from typeguard import typechecked\n",
        "from typing import Optional"
      ],
      "execution_count": null,
      "outputs": []
    },
    {
      "cell_type": "code",
      "metadata": {
        "colab": {
          "base_uri": "https://localhost:8080/"
        },
        "id": "7Ht_6wXrE4ob",
        "outputId": "36ef6dad-e1c8-468f-fcab-7e9e8a06e742"
      },
      "source": [
        "from google.colab import drive\n",
        "drive.mount('/content/drive')"
      ],
      "execution_count": null,
      "outputs": [
        {
          "output_type": "stream",
          "name": "stdout",
          "text": [
            "Drive already mounted at /content/drive; to attempt to forcibly remount, call drive.mount(\"/content/drive\", force_remount=True).\n"
          ]
        }
      ]
    },
    {
      "cell_type": "code",
      "metadata": {
        "id": "KFP54BDIt_KG"
      },
      "source": [
        "#Unziping the dataset\n",
        "\n",
        "!unzip -q \"/content/drive/MyDrive/Garvin/IEEE/Alzheimer's Disease Classification/Dataset.zip\""
      ],
      "execution_count": null,
      "outputs": []
    },
    {
      "cell_type": "code",
      "metadata": {
        "id": "ihNsyw1otfZy"
      },
      "source": [
        "def wavelet_transform(image):\n",
        "    image = cv2.resize(image,(image.shape[0]*2,image.shape[1]*2))\n",
        "    coeff_f = []\n",
        "    for i in range(image.shape[-1]):\n",
        "        c1,(c2,c3,c4) = pywt.dwt2(image[:,:,i], wavelet = 'db3', mode = 'periodization')\n",
        "        coeff_f.append(c1)\n",
        "        coeff_f.append(c2)\n",
        "        coeff_f.append(c3)\n",
        "        # coeff_f.append(c4)\n",
        "        return np.moveaxis(np.array(coeff_f),0,-1)\n",
        "\n",
        "train_datagen = ImageDataGenerator( rescale = 1./255,\n",
        "                                    validation_split = 0.2,                        \n",
        "                                    rotation_range=5,\n",
        "                                    width_shift_range=0.2,\n",
        "                                    height_shift_range=0.2,\n",
        "                                    shear_range=0.2,\n",
        "                                    #zoom_range=0.2,\n",
        "                                    horizontal_flip=True,\n",
        "                                    vertical_flip=True,\n",
        "                                    fill_mode='nearest',\n",
        "                                    preprocessing_function = wavelet_transform)\n",
        "\n",
        "valid_datagen = ImageDataGenerator(rescale = 1./255,\n",
        "                                  validation_split = 0.2,\n",
        "                                  preprocessing_function = wavelet_transform)\n",
        "\n",
        "test_datagen  = ImageDataGenerator(rescale = 1./255,\n",
        "                                   preprocessing_function = wavelet_transform)"
      ],
      "execution_count": null,
      "outputs": []
    },
    {
      "cell_type": "code",
      "metadata": {
        "colab": {
          "base_uri": "https://localhost:8080/"
        },
        "id": "iJsq_2JgtseK",
        "outputId": "6f290704-73bc-4c0b-d130-c8645b9f880d"
      },
      "source": [
        "train_dataset  = train_datagen.flow_from_directory(directory = '/content/Alzheimer_s Dataset/train',\n",
        "                                                   target_size = (224,224),\n",
        "                                                   class_mode = 'categorical',\n",
        "                                                   subset = 'training',\n",
        "                                                   batch_size = 32)\n",
        "\n",
        "valid_dataset = valid_datagen.flow_from_directory(directory = '/content/Alzheimer_s Dataset/train',\n",
        "                                                  target_size = (224,224),\n",
        "                                                  class_mode = 'categorical',\n",
        "                                                  subset = 'validation',\n",
        "                                                  batch_size = 32)\n",
        "\n",
        "test_dataset = test_datagen.flow_from_directory(directory = '/content/Alzheimer_s Dataset/test',\n",
        "                                                  target_size = (224,224),\n",
        "                                                  class_mode = 'categorical',\n",
        "                                                  batch_size = 32)"
      ],
      "execution_count": null,
      "outputs": [
        {
          "output_type": "stream",
          "name": "stdout",
          "text": [
            "Found 4098 images belonging to 4 classes.\n",
            "Found 1023 images belonging to 4 classes.\n",
            "Found 1279 images belonging to 4 classes.\n"
          ]
        }
      ]
    },
    {
      "cell_type": "code",
      "metadata": {
        "id": "aZDwiGWsuUCP"
      },
      "source": [
        "base_model = tf.keras.applications.MobileNet(input_shape=(224,224,3), \n",
        "                   include_top=False,\n",
        "                   weights=\"imagenet\")"
      ],
      "execution_count": null,
      "outputs": []
    },
    {
      "cell_type": "code",
      "metadata": {
        "id": "EnLOAEf4uYTr"
      },
      "source": [
        "# Freezing Layers\n",
        "\n",
        "for layer in base_model.layers:\n",
        "    layer.trainable=False"
      ],
      "execution_count": null,
      "outputs": []
    },
    {
      "cell_type": "code",
      "metadata": {
        "id": "gyUgh9TVufmC"
      },
      "source": [
        "# Building Model\n",
        "\n",
        "model=Sequential()\n",
        "model.add(base_model)\n",
        "model.add(Dropout(0.5))\n",
        "model.add(Flatten())\n",
        "model.add(BatchNormalization())\n",
        "model.add(Dense(32,kernel_initializer='he_uniform'))\n",
        "model.add(BatchNormalization())\n",
        "model.add(Activation('relu'))\n",
        "model.add(Dropout(0.5))\n",
        "model.add(Dense(32,kernel_initializer='he_uniform'))\n",
        "model.add(BatchNormalization())\n",
        "model.add(Activation('relu'))\n",
        "model.add(Dropout(0.5))\n",
        "model.add(Dense(32,kernel_initializer='he_uniform'))\n",
        "model.add(BatchNormalization())\n",
        "model.add(Activation('relu'))\n",
        "model.add(Dense(4,activation='softmax'))"
      ],
      "execution_count": null,
      "outputs": []
    },
    {
      "cell_type": "code",
      "metadata": {
        "colab": {
          "base_uri": "https://localhost:8080/"
        },
        "id": "yN5LeqDwugHZ",
        "outputId": "47049e43-4ba0-49fd-d670-22a3849f3548"
      },
      "source": [
        "model.summary()"
      ],
      "execution_count": null,
      "outputs": [
        {
          "output_type": "stream",
          "name": "stdout",
          "text": [
            "Model: \"sequential\"\n",
            "_________________________________________________________________\n",
            "Layer (type)                 Output Shape              Param #   \n",
            "=================================================================\n",
            "mobilenet_1.00_224 (Function (None, 7, 7, 1024)        3228864   \n",
            "_________________________________________________________________\n",
            "dropout (Dropout)            (None, 7, 7, 1024)        0         \n",
            "_________________________________________________________________\n",
            "flatten (Flatten)            (None, 50176)             0         \n",
            "_________________________________________________________________\n",
            "batch_normalization (BatchNo (None, 50176)             200704    \n",
            "_________________________________________________________________\n",
            "dense (Dense)                (None, 32)                1605664   \n",
            "_________________________________________________________________\n",
            "batch_normalization_1 (Batch (None, 32)                128       \n",
            "_________________________________________________________________\n",
            "activation (Activation)      (None, 32)                0         \n",
            "_________________________________________________________________\n",
            "dropout_1 (Dropout)          (None, 32)                0         \n",
            "_________________________________________________________________\n",
            "dense_1 (Dense)              (None, 32)                1056      \n",
            "_________________________________________________________________\n",
            "batch_normalization_2 (Batch (None, 32)                128       \n",
            "_________________________________________________________________\n",
            "activation_1 (Activation)    (None, 32)                0         \n",
            "_________________________________________________________________\n",
            "dropout_2 (Dropout)          (None, 32)                0         \n",
            "_________________________________________________________________\n",
            "dense_2 (Dense)              (None, 32)                1056      \n",
            "_________________________________________________________________\n",
            "batch_normalization_3 (Batch (None, 32)                128       \n",
            "_________________________________________________________________\n",
            "activation_2 (Activation)    (None, 32)                0         \n",
            "_________________________________________________________________\n",
            "dense_3 (Dense)              (None, 4)                 132       \n",
            "=================================================================\n",
            "Total params: 5,037,860\n",
            "Trainable params: 1,708,452\n",
            "Non-trainable params: 3,329,408\n",
            "_________________________________________________________________\n"
          ]
        }
      ]
    },
    {
      "cell_type": "code",
      "metadata": {
        "id": "tPcLa4utFdKH"
      },
      "source": [
        "def f1_score(y_true, y_pred): #taken from old keras source code\n",
        "    true_positives = K.sum(K.round(K.clip(y_true * y_pred, 0, 1)))\n",
        "    possible_positives = K.sum(K.round(K.clip(y_true, 0, 1)))\n",
        "    predicted_positives = K.sum(K.round(K.clip(y_pred, 0, 1)))\n",
        "    precision = true_positives / (predicted_positives + K.epsilon())\n",
        "    recall = true_positives / (possible_positives + K.epsilon())\n",
        "    f1_val = 2*(precision*recall)/(precision+recall+K.epsilon())\n",
        "    return f1_val "
      ],
      "execution_count": null,
      "outputs": []
    },
    {
      "cell_type": "code",
      "metadata": {
        "id": "bM3O44JouiuL"
      },
      "source": [
        "METRICS = [\n",
        "      tf.keras.metrics.BinaryAccuracy(name='accuracy'),\n",
        "      tf.keras.metrics.Precision(name='precision'),\n",
        "      tf.keras.metrics.Recall(name='recall'),  \n",
        "      tf.keras.metrics.AUC(name='auc'),\n",
        "       f1_score,\n",
        "]"
      ],
      "execution_count": null,
      "outputs": []
    },
    {
      "cell_type": "code",
      "metadata": {
        "id": "BfLBIPxvutKA"
      },
      "source": [
        "def exponential_decay(lr0, s):\n",
        "    def exponential_decay_fn(epoch):\n",
        "        return lr0 * 0.1 **(epoch / s)\n",
        "    return exponential_decay_fn\n",
        "\n",
        "exponential_decay_fn = exponential_decay(0.01, 5) # when i run it for 50 epochs\n",
        "\n",
        "lr_scheduler = tf.keras.callbacks.LearningRateScheduler(exponential_decay_fn)"
      ],
      "execution_count": null,
      "outputs": []
    },
    {
      "cell_type": "code",
      "metadata": {
        "id": "FGMaIK3ou7Zs"
      },
      "source": [
        "model.compile(optimizer='rmsprop', loss='categorical_crossentropy',metrics=METRICS)"
      ],
      "execution_count": null,
      "outputs": []
    },
    {
      "cell_type": "code",
      "metadata": {
        "colab": {
          "base_uri": "https://localhost:8080/",
          "height": 337
        },
        "id": "_ZGcA5Keu9el",
        "outputId": "5fec5a6b-7364-4df8-f1af-7be75e3f03dc"
      },
      "source": [
        "# history=model.fit(train_dataset,\n",
        "#                   validation_data=valid_dataset,\n",
        "#                   epochs = 100,\n",
        "#                   verbose = 1,\n",
        "#                   callbacks=lr_scheduler) "
      ],
      "execution_count": null,
      "outputs": [
        {
          "output_type": "error",
          "ename": "NameError",
          "evalue": "ignored",
          "traceback": [
            "\u001b[0;31m---------------------------------------------------------------------------\u001b[0m",
            "\u001b[0;31mNameError\u001b[0m                                 Traceback (most recent call last)",
            "\u001b[0;32m<ipython-input-19-deeb2dd5d50e>\u001b[0m in \u001b[0;36m<module>\u001b[0;34m()\u001b[0m\n\u001b[1;32m      3\u001b[0m                   \u001b[0mepochs\u001b[0m \u001b[0;34m=\u001b[0m \u001b[0;36m100\u001b[0m\u001b[0;34m,\u001b[0m\u001b[0;34m\u001b[0m\u001b[0;34m\u001b[0m\u001b[0m\n\u001b[1;32m      4\u001b[0m                   \u001b[0mverbose\u001b[0m \u001b[0;34m=\u001b[0m \u001b[0;36m1\u001b[0m\u001b[0;34m,\u001b[0m\u001b[0;34m\u001b[0m\u001b[0;34m\u001b[0m\u001b[0m\n\u001b[0;32m----> 5\u001b[0;31m                   callbacks=lr_scheduler) \n\u001b[0m",
            "\u001b[0;32m/usr/local/lib/python3.7/dist-packages/keras/engine/training.py\u001b[0m in \u001b[0;36mfit\u001b[0;34m(self, x, y, batch_size, epochs, verbose, callbacks, validation_split, validation_data, shuffle, class_weight, sample_weight, initial_epoch, steps_per_epoch, validation_steps, validation_batch_size, validation_freq, max_queue_size, workers, use_multiprocessing)\u001b[0m\n\u001b[1;32m   1146\u001b[0m           \u001b[0muse_multiprocessing\u001b[0m\u001b[0;34m=\u001b[0m\u001b[0muse_multiprocessing\u001b[0m\u001b[0;34m,\u001b[0m\u001b[0;34m\u001b[0m\u001b[0;34m\u001b[0m\u001b[0m\n\u001b[1;32m   1147\u001b[0m           \u001b[0mmodel\u001b[0m\u001b[0;34m=\u001b[0m\u001b[0mself\u001b[0m\u001b[0;34m,\u001b[0m\u001b[0;34m\u001b[0m\u001b[0;34m\u001b[0m\u001b[0m\n\u001b[0;32m-> 1148\u001b[0;31m           steps_per_execution=self._steps_per_execution)\n\u001b[0m\u001b[1;32m   1149\u001b[0m \u001b[0;34m\u001b[0m\u001b[0m\n\u001b[1;32m   1150\u001b[0m       \u001b[0;31m# Container that configures and calls `tf.keras.Callback`s.\u001b[0m\u001b[0;34m\u001b[0m\u001b[0;34m\u001b[0m\u001b[0;34m\u001b[0m\u001b[0m\n",
            "\u001b[0;32m/usr/local/lib/python3.7/dist-packages/keras/engine/data_adapter.py\u001b[0m in \u001b[0;36mget_data_handler\u001b[0;34m(*args, **kwargs)\u001b[0m\n\u001b[1;32m   1381\u001b[0m   \u001b[0;32mif\u001b[0m \u001b[0mgetattr\u001b[0m\u001b[0;34m(\u001b[0m\u001b[0mkwargs\u001b[0m\u001b[0;34m[\u001b[0m\u001b[0;34m\"model\"\u001b[0m\u001b[0;34m]\u001b[0m\u001b[0;34m,\u001b[0m \u001b[0;34m\"_cluster_coordinator\"\u001b[0m\u001b[0;34m,\u001b[0m \u001b[0;32mNone\u001b[0m\u001b[0;34m)\u001b[0m\u001b[0;34m:\u001b[0m\u001b[0;34m\u001b[0m\u001b[0;34m\u001b[0m\u001b[0m\n\u001b[1;32m   1382\u001b[0m     \u001b[0;32mreturn\u001b[0m \u001b[0m_ClusterCoordinatorDataHandler\u001b[0m\u001b[0;34m(\u001b[0m\u001b[0;34m*\u001b[0m\u001b[0margs\u001b[0m\u001b[0;34m,\u001b[0m \u001b[0;34m**\u001b[0m\u001b[0mkwargs\u001b[0m\u001b[0;34m)\u001b[0m\u001b[0;34m\u001b[0m\u001b[0;34m\u001b[0m\u001b[0m\n\u001b[0;32m-> 1383\u001b[0;31m   \u001b[0;32mreturn\u001b[0m \u001b[0mDataHandler\u001b[0m\u001b[0;34m(\u001b[0m\u001b[0;34m*\u001b[0m\u001b[0margs\u001b[0m\u001b[0;34m,\u001b[0m \u001b[0;34m**\u001b[0m\u001b[0mkwargs\u001b[0m\u001b[0;34m)\u001b[0m\u001b[0;34m\u001b[0m\u001b[0;34m\u001b[0m\u001b[0m\n\u001b[0m\u001b[1;32m   1384\u001b[0m \u001b[0;34m\u001b[0m\u001b[0m\n\u001b[1;32m   1385\u001b[0m \u001b[0;34m\u001b[0m\u001b[0m\n",
            "\u001b[0;32m/usr/local/lib/python3.7/dist-packages/keras/engine/data_adapter.py\u001b[0m in \u001b[0;36m__init__\u001b[0;34m(self, x, y, sample_weight, batch_size, steps_per_epoch, initial_epoch, epochs, shuffle, class_weight, max_queue_size, workers, use_multiprocessing, model, steps_per_execution, distribute)\u001b[0m\n\u001b[1;32m   1148\u001b[0m         \u001b[0muse_multiprocessing\u001b[0m\u001b[0;34m=\u001b[0m\u001b[0muse_multiprocessing\u001b[0m\u001b[0;34m,\u001b[0m\u001b[0;34m\u001b[0m\u001b[0;34m\u001b[0m\u001b[0m\n\u001b[1;32m   1149\u001b[0m         \u001b[0mdistribution_strategy\u001b[0m\u001b[0;34m=\u001b[0m\u001b[0mtf\u001b[0m\u001b[0;34m.\u001b[0m\u001b[0mdistribute\u001b[0m\u001b[0;34m.\u001b[0m\u001b[0mget_strategy\u001b[0m\u001b[0;34m(\u001b[0m\u001b[0;34m)\u001b[0m\u001b[0;34m,\u001b[0m\u001b[0;34m\u001b[0m\u001b[0;34m\u001b[0m\u001b[0m\n\u001b[0;32m-> 1150\u001b[0;31m         model=model)\n\u001b[0m\u001b[1;32m   1151\u001b[0m \u001b[0;34m\u001b[0m\u001b[0m\n\u001b[1;32m   1152\u001b[0m     \u001b[0mstrategy\u001b[0m \u001b[0;34m=\u001b[0m \u001b[0mtf\u001b[0m\u001b[0;34m.\u001b[0m\u001b[0mdistribute\u001b[0m\u001b[0;34m.\u001b[0m\u001b[0mget_strategy\u001b[0m\u001b[0;34m(\u001b[0m\u001b[0;34m)\u001b[0m\u001b[0;34m\u001b[0m\u001b[0;34m\u001b[0m\u001b[0m\n",
            "\u001b[0;32m/usr/local/lib/python3.7/dist-packages/keras/engine/data_adapter.py\u001b[0m in \u001b[0;36m__init__\u001b[0;34m(self, x, y, sample_weights, shuffle, workers, use_multiprocessing, max_queue_size, model, **kwargs)\u001b[0m\n\u001b[1;32m    922\u001b[0m         \u001b[0mmax_queue_size\u001b[0m\u001b[0;34m=\u001b[0m\u001b[0mmax_queue_size\u001b[0m\u001b[0;34m,\u001b[0m\u001b[0;34m\u001b[0m\u001b[0;34m\u001b[0m\u001b[0m\n\u001b[1;32m    923\u001b[0m         \u001b[0mmodel\u001b[0m\u001b[0;34m=\u001b[0m\u001b[0mmodel\u001b[0m\u001b[0;34m,\u001b[0m\u001b[0;34m\u001b[0m\u001b[0;34m\u001b[0m\u001b[0m\n\u001b[0;32m--> 924\u001b[0;31m         **kwargs)\n\u001b[0m\u001b[1;32m    925\u001b[0m \u001b[0;34m\u001b[0m\u001b[0m\n\u001b[1;32m    926\u001b[0m   \u001b[0;34m@\u001b[0m\u001b[0mstaticmethod\u001b[0m\u001b[0;34m\u001b[0m\u001b[0;34m\u001b[0m\u001b[0m\n",
            "\u001b[0;32m/usr/local/lib/python3.7/dist-packages/keras/engine/data_adapter.py\u001b[0m in \u001b[0;36m__init__\u001b[0;34m(self, x, y, sample_weights, workers, use_multiprocessing, max_queue_size, model, **kwargs)\u001b[0m\n\u001b[1;32m    792\u001b[0m     \u001b[0;31m# Since we have to know the dtype of the python generator when we build the\u001b[0m\u001b[0;34m\u001b[0m\u001b[0;34m\u001b[0m\u001b[0;34m\u001b[0m\u001b[0m\n\u001b[1;32m    793\u001b[0m     \u001b[0;31m# dataset, we have to look at a batch to infer the structure.\u001b[0m\u001b[0;34m\u001b[0m\u001b[0;34m\u001b[0m\u001b[0;34m\u001b[0m\u001b[0m\n\u001b[0;32m--> 794\u001b[0;31m     \u001b[0mpeek\u001b[0m\u001b[0;34m,\u001b[0m \u001b[0mx\u001b[0m \u001b[0;34m=\u001b[0m \u001b[0mself\u001b[0m\u001b[0;34m.\u001b[0m\u001b[0m_peek_and_restore\u001b[0m\u001b[0;34m(\u001b[0m\u001b[0mx\u001b[0m\u001b[0;34m)\u001b[0m\u001b[0;34m\u001b[0m\u001b[0;34m\u001b[0m\u001b[0m\n\u001b[0m\u001b[1;32m    795\u001b[0m     \u001b[0mpeek\u001b[0m \u001b[0;34m=\u001b[0m \u001b[0mself\u001b[0m\u001b[0;34m.\u001b[0m\u001b[0m_standardize_batch\u001b[0m\u001b[0;34m(\u001b[0m\u001b[0mpeek\u001b[0m\u001b[0;34m)\u001b[0m\u001b[0;34m\u001b[0m\u001b[0;34m\u001b[0m\u001b[0m\n\u001b[1;32m    796\u001b[0m     \u001b[0mpeek\u001b[0m \u001b[0;34m=\u001b[0m \u001b[0m_process_tensorlike\u001b[0m\u001b[0;34m(\u001b[0m\u001b[0mpeek\u001b[0m\u001b[0;34m)\u001b[0m\u001b[0;34m\u001b[0m\u001b[0;34m\u001b[0m\u001b[0m\n",
            "\u001b[0;32m/usr/local/lib/python3.7/dist-packages/keras/engine/data_adapter.py\u001b[0m in \u001b[0;36m_peek_and_restore\u001b[0;34m(x)\u001b[0m\n\u001b[1;32m    926\u001b[0m   \u001b[0;34m@\u001b[0m\u001b[0mstaticmethod\u001b[0m\u001b[0;34m\u001b[0m\u001b[0;34m\u001b[0m\u001b[0m\n\u001b[1;32m    927\u001b[0m   \u001b[0;32mdef\u001b[0m \u001b[0m_peek_and_restore\u001b[0m\u001b[0;34m(\u001b[0m\u001b[0mx\u001b[0m\u001b[0;34m)\u001b[0m\u001b[0;34m:\u001b[0m\u001b[0;34m\u001b[0m\u001b[0;34m\u001b[0m\u001b[0m\n\u001b[0;32m--> 928\u001b[0;31m     \u001b[0;32mreturn\u001b[0m \u001b[0mx\u001b[0m\u001b[0;34m[\u001b[0m\u001b[0;36m0\u001b[0m\u001b[0;34m]\u001b[0m\u001b[0;34m,\u001b[0m \u001b[0mx\u001b[0m\u001b[0;34m\u001b[0m\u001b[0;34m\u001b[0m\u001b[0m\n\u001b[0m\u001b[1;32m    929\u001b[0m \u001b[0;34m\u001b[0m\u001b[0m\n\u001b[1;32m    930\u001b[0m   def _handle_multiprocessing(self, x, workers, use_multiprocessing,\n",
            "\u001b[0;32m/usr/local/lib/python3.7/dist-packages/keras_preprocessing/image/iterator.py\u001b[0m in \u001b[0;36m__getitem__\u001b[0;34m(self, idx)\u001b[0m\n\u001b[1;32m     63\u001b[0m         index_array = self.index_array[self.batch_size * idx:\n\u001b[1;32m     64\u001b[0m                                        self.batch_size * (idx + 1)]\n\u001b[0;32m---> 65\u001b[0;31m         \u001b[0;32mreturn\u001b[0m \u001b[0mself\u001b[0m\u001b[0;34m.\u001b[0m\u001b[0m_get_batches_of_transformed_samples\u001b[0m\u001b[0;34m(\u001b[0m\u001b[0mindex_array\u001b[0m\u001b[0;34m)\u001b[0m\u001b[0;34m\u001b[0m\u001b[0;34m\u001b[0m\u001b[0m\n\u001b[0m\u001b[1;32m     66\u001b[0m \u001b[0;34m\u001b[0m\u001b[0m\n\u001b[1;32m     67\u001b[0m     \u001b[0;32mdef\u001b[0m \u001b[0m__len__\u001b[0m\u001b[0;34m(\u001b[0m\u001b[0mself\u001b[0m\u001b[0;34m)\u001b[0m\u001b[0;34m:\u001b[0m\u001b[0;34m\u001b[0m\u001b[0;34m\u001b[0m\u001b[0m\n",
            "\u001b[0;32m/usr/local/lib/python3.7/dist-packages/keras_preprocessing/image/iterator.py\u001b[0m in \u001b[0;36m_get_batches_of_transformed_samples\u001b[0;34m(self, index_array)\u001b[0m\n\u001b[1;32m    237\u001b[0m                 \u001b[0mparams\u001b[0m \u001b[0;34m=\u001b[0m \u001b[0mself\u001b[0m\u001b[0;34m.\u001b[0m\u001b[0mimage_data_generator\u001b[0m\u001b[0;34m.\u001b[0m\u001b[0mget_random_transform\u001b[0m\u001b[0;34m(\u001b[0m\u001b[0mx\u001b[0m\u001b[0;34m.\u001b[0m\u001b[0mshape\u001b[0m\u001b[0;34m)\u001b[0m\u001b[0;34m\u001b[0m\u001b[0;34m\u001b[0m\u001b[0m\n\u001b[1;32m    238\u001b[0m                 \u001b[0mx\u001b[0m \u001b[0;34m=\u001b[0m \u001b[0mself\u001b[0m\u001b[0;34m.\u001b[0m\u001b[0mimage_data_generator\u001b[0m\u001b[0;34m.\u001b[0m\u001b[0mapply_transform\u001b[0m\u001b[0;34m(\u001b[0m\u001b[0mx\u001b[0m\u001b[0;34m,\u001b[0m \u001b[0mparams\u001b[0m\u001b[0;34m)\u001b[0m\u001b[0;34m\u001b[0m\u001b[0;34m\u001b[0m\u001b[0m\n\u001b[0;32m--> 239\u001b[0;31m                 \u001b[0mx\u001b[0m \u001b[0;34m=\u001b[0m \u001b[0mself\u001b[0m\u001b[0;34m.\u001b[0m\u001b[0mimage_data_generator\u001b[0m\u001b[0;34m.\u001b[0m\u001b[0mstandardize\u001b[0m\u001b[0;34m(\u001b[0m\u001b[0mx\u001b[0m\u001b[0;34m)\u001b[0m\u001b[0;34m\u001b[0m\u001b[0;34m\u001b[0m\u001b[0m\n\u001b[0m\u001b[1;32m    240\u001b[0m             \u001b[0mbatch_x\u001b[0m\u001b[0;34m[\u001b[0m\u001b[0mi\u001b[0m\u001b[0;34m]\u001b[0m \u001b[0;34m=\u001b[0m \u001b[0mx\u001b[0m\u001b[0;34m\u001b[0m\u001b[0;34m\u001b[0m\u001b[0m\n\u001b[1;32m    241\u001b[0m         \u001b[0;31m# optionally save augmented images to disk for debugging purposes\u001b[0m\u001b[0;34m\u001b[0m\u001b[0;34m\u001b[0m\u001b[0;34m\u001b[0m\u001b[0m\n",
            "\u001b[0;32m/usr/local/lib/python3.7/dist-packages/keras_preprocessing/image/image_data_generator.py\u001b[0m in \u001b[0;36mstandardize\u001b[0;34m(self, x)\u001b[0m\n\u001b[1;32m    706\u001b[0m         \"\"\"\n\u001b[1;32m    707\u001b[0m         \u001b[0;32mif\u001b[0m \u001b[0mself\u001b[0m\u001b[0;34m.\u001b[0m\u001b[0mpreprocessing_function\u001b[0m\u001b[0;34m:\u001b[0m\u001b[0;34m\u001b[0m\u001b[0;34m\u001b[0m\u001b[0m\n\u001b[0;32m--> 708\u001b[0;31m             \u001b[0mx\u001b[0m \u001b[0;34m=\u001b[0m \u001b[0mself\u001b[0m\u001b[0;34m.\u001b[0m\u001b[0mpreprocessing_function\u001b[0m\u001b[0;34m(\u001b[0m\u001b[0mx\u001b[0m\u001b[0;34m)\u001b[0m\u001b[0;34m\u001b[0m\u001b[0;34m\u001b[0m\u001b[0m\n\u001b[0m\u001b[1;32m    709\u001b[0m         \u001b[0;32mif\u001b[0m \u001b[0mself\u001b[0m\u001b[0;34m.\u001b[0m\u001b[0mrescale\u001b[0m\u001b[0;34m:\u001b[0m\u001b[0;34m\u001b[0m\u001b[0;34m\u001b[0m\u001b[0m\n\u001b[1;32m    710\u001b[0m             \u001b[0mx\u001b[0m \u001b[0;34m*=\u001b[0m \u001b[0mself\u001b[0m\u001b[0;34m.\u001b[0m\u001b[0mrescale\u001b[0m\u001b[0;34m\u001b[0m\u001b[0;34m\u001b[0m\u001b[0m\n",
            "\u001b[0;32m<ipython-input-8-b8d82784af7b>\u001b[0m in \u001b[0;36mwavelet_transform\u001b[0;34m(image)\u001b[0m\n\u001b[1;32m      1\u001b[0m \u001b[0;32mdef\u001b[0m \u001b[0mwavelet_transform\u001b[0m\u001b[0;34m(\u001b[0m\u001b[0mimage\u001b[0m\u001b[0;34m)\u001b[0m\u001b[0;34m:\u001b[0m\u001b[0;34m\u001b[0m\u001b[0;34m\u001b[0m\u001b[0m\n\u001b[0;32m----> 2\u001b[0;31m     \u001b[0mimage\u001b[0m \u001b[0;34m=\u001b[0m \u001b[0mcv2\u001b[0m\u001b[0;34m.\u001b[0m\u001b[0mresize\u001b[0m\u001b[0;34m(\u001b[0m\u001b[0mimage\u001b[0m\u001b[0;34m,\u001b[0m\u001b[0;34m(\u001b[0m\u001b[0mimage\u001b[0m\u001b[0;34m.\u001b[0m\u001b[0mshape\u001b[0m\u001b[0;34m[\u001b[0m\u001b[0;36m0\u001b[0m\u001b[0;34m]\u001b[0m\u001b[0;34m*\u001b[0m\u001b[0;36m2\u001b[0m\u001b[0;34m,\u001b[0m\u001b[0mimage\u001b[0m\u001b[0;34m.\u001b[0m\u001b[0mshape\u001b[0m\u001b[0;34m[\u001b[0m\u001b[0;36m1\u001b[0m\u001b[0;34m]\u001b[0m\u001b[0;34m*\u001b[0m\u001b[0;36m2\u001b[0m\u001b[0;34m)\u001b[0m\u001b[0;34m)\u001b[0m\u001b[0;34m\u001b[0m\u001b[0;34m\u001b[0m\u001b[0m\n\u001b[0m\u001b[1;32m      3\u001b[0m     \u001b[0mcoeff_f\u001b[0m \u001b[0;34m=\u001b[0m \u001b[0;34m[\u001b[0m\u001b[0;34m]\u001b[0m\u001b[0;34m\u001b[0m\u001b[0;34m\u001b[0m\u001b[0m\n\u001b[1;32m      4\u001b[0m     \u001b[0;32mfor\u001b[0m \u001b[0mi\u001b[0m \u001b[0;32min\u001b[0m \u001b[0mrange\u001b[0m\u001b[0;34m(\u001b[0m\u001b[0mimage\u001b[0m\u001b[0;34m.\u001b[0m\u001b[0mshape\u001b[0m\u001b[0;34m[\u001b[0m\u001b[0;34m-\u001b[0m\u001b[0;36m1\u001b[0m\u001b[0;34m]\u001b[0m\u001b[0;34m)\u001b[0m\u001b[0;34m:\u001b[0m\u001b[0;34m\u001b[0m\u001b[0;34m\u001b[0m\u001b[0m\n\u001b[1;32m      5\u001b[0m         \u001b[0mc1\u001b[0m\u001b[0;34m,\u001b[0m\u001b[0;34m(\u001b[0m\u001b[0mc2\u001b[0m\u001b[0;34m,\u001b[0m\u001b[0mc3\u001b[0m\u001b[0;34m,\u001b[0m\u001b[0mc4\u001b[0m\u001b[0;34m)\u001b[0m \u001b[0;34m=\u001b[0m \u001b[0mpywt\u001b[0m\u001b[0;34m.\u001b[0m\u001b[0mdwt2\u001b[0m\u001b[0;34m(\u001b[0m\u001b[0mimage\u001b[0m\u001b[0;34m[\u001b[0m\u001b[0;34m:\u001b[0m\u001b[0;34m,\u001b[0m\u001b[0;34m:\u001b[0m\u001b[0;34m,\u001b[0m\u001b[0mi\u001b[0m\u001b[0;34m]\u001b[0m\u001b[0;34m,\u001b[0m \u001b[0mwavelet\u001b[0m \u001b[0;34m=\u001b[0m \u001b[0;34m'db3'\u001b[0m\u001b[0;34m,\u001b[0m \u001b[0mmode\u001b[0m \u001b[0;34m=\u001b[0m \u001b[0;34m'periodization'\u001b[0m\u001b[0;34m)\u001b[0m\u001b[0;34m\u001b[0m\u001b[0;34m\u001b[0m\u001b[0m\n",
            "\u001b[0;31mNameError\u001b[0m: name 'cv2' is not defined"
          ]
        }
      ]
    },
    {
      "cell_type": "code",
      "metadata": {
        "id": "cwpvy_ItvELn"
      },
      "source": [
        "# model.save_weights(\"/content/drive/MyDrive/Garvin/IEEE/Alzheimer's Disease Classification/model_mobile.hdf5\")"
      ],
      "execution_count": null,
      "outputs": []
    },
    {
      "cell_type": "code",
      "metadata": {
        "id": "4PnPlQOeuw0z"
      },
      "source": [
        "weights_file=os.path.join(\"/content/drive/MyDrive/Garvin/IEEE/Alzheimer's Disease Classification/model_mobile_wavelet.hdf5\")\n",
        " \n",
        "checkpoint = ModelCheckpoint(weights_file, monitor='val_accuracy', verbose=1, \n",
        "                             save_best_only=True, mode='max', save_weights_only = False)\n",
        "\n",
        "callbacks= [checkpoint, lr_scheduler]"
      ],
      "execution_count": null,
      "outputs": []
    },
    {
      "cell_type": "code",
      "metadata": {
        "colab": {
          "base_uri": "https://localhost:8080/"
        },
        "id": "ub-gRIr_vIq5",
        "outputId": "390e900f-9da7-4c3c-e05a-84d1c6ba4b16"
      },
      "source": [
        "history=model.fit(train_dataset,\n",
        "                  validation_data=valid_dataset,\n",
        "                  epochs = 100,\n",
        "                  verbose = 1,\n",
        "                  callbacks=callbacks)"
      ],
      "execution_count": null,
      "outputs": [
        {
          "output_type": "stream",
          "name": "stdout",
          "text": [
            "Epoch 1/100\n",
            "129/129 [==============================] - 79s 614ms/step - loss: 0.9893 - accuracy: 0.7818 - precision: 0.6379 - recall: 0.2940 - auc: 0.8118 - f1_score: 0.4004 - val_loss: 1.0327 - val_accuracy: 0.7879 - val_precision: 0.6396 - val_recall: 0.3470 - val_auc: 0.8167 - val_f1_score: 0.4468\n",
            "\n",
            "Epoch 00001: val_accuracy improved from -inf to 0.78788, saving model to /content/drive/MyDrive/Garvin/IEEE/Alzheimer's Disease Classification/model_mobile_wavelet.hdf5\n",
            "Epoch 2/100\n",
            "129/129 [==============================] - 80s 617ms/step - loss: 0.9563 - accuracy: 0.7900 - precision: 0.6775 - recall: 0.3050 - auc: 0.8239 - f1_score: 0.4194 - val_loss: 0.9897 - val_accuracy: 0.7881 - val_precision: 0.7484 - val_recall: 0.2297 - val_auc: 0.7938 - val_f1_score: 0.3461\n",
            "\n",
            "Epoch 00002: val_accuracy improved from 0.78788 to 0.78812, saving model to /content/drive/MyDrive/Garvin/IEEE/Alzheimer's Disease Classification/model_mobile_wavelet.hdf5\n",
            "Epoch 3/100\n",
            "129/129 [==============================] - 80s 620ms/step - loss: 0.9307 - accuracy: 0.7959 - precision: 0.7087 - recall: 0.3116 - auc: 0.8340 - f1_score: 0.4320 - val_loss: 0.9701 - val_accuracy: 0.7869 - val_precision: 0.7428 - val_recall: 0.2258 - val_auc: 0.8030 - val_f1_score: 0.3430\n",
            "\n",
            "Epoch 00003: val_accuracy did not improve from 0.78812\n",
            "Epoch 4/100\n",
            "129/129 [==============================] - 80s 618ms/step - loss: 0.9129 - accuracy: 0.8001 - precision: 0.7116 - recall: 0.3372 - auc: 0.8400 - f1_score: 0.4566 - val_loss: 0.9547 - val_accuracy: 0.7891 - val_precision: 0.7410 - val_recall: 0.2405 - val_auc: 0.8093 - val_f1_score: 0.3570\n",
            "\n",
            "Epoch 00004: val_accuracy improved from 0.78812 to 0.78910, saving model to /content/drive/MyDrive/Garvin/IEEE/Alzheimer's Disease Classification/model_mobile_wavelet.hdf5\n",
            "Epoch 5/100\n",
            "129/129 [==============================] - 80s 617ms/step - loss: 0.9181 - accuracy: 0.7964 - precision: 0.7016 - recall: 0.3231 - auc: 0.8363 - f1_score: 0.4381 - val_loss: 0.9582 - val_accuracy: 0.7893 - val_precision: 0.7639 - val_recall: 0.2278 - val_auc: 0.8092 - val_f1_score: 0.3460\n",
            "\n",
            "Epoch 00005: val_accuracy improved from 0.78910 to 0.78935, saving model to /content/drive/MyDrive/Garvin/IEEE/Alzheimer's Disease Classification/model_mobile_wavelet.hdf5\n",
            "Epoch 6/100\n",
            "129/129 [==============================] - 79s 614ms/step - loss: 0.9030 - accuracy: 0.8005 - precision: 0.7139 - recall: 0.3367 - auc: 0.8433 - f1_score: 0.4530 - val_loss: 0.9660 - val_accuracy: 0.7881 - val_precision: 0.7635 - val_recall: 0.2209 - val_auc: 0.8038 - val_f1_score: 0.3389\n",
            "\n",
            "Epoch 00006: val_accuracy did not improve from 0.78935\n",
            "Epoch 7/100\n",
            "129/129 [==============================] - 79s 612ms/step - loss: 0.8986 - accuracy: 0.8025 - precision: 0.7309 - recall: 0.3321 - auc: 0.8463 - f1_score: 0.4523 - val_loss: 0.9610 - val_accuracy: 0.7876 - val_precision: 0.7533 - val_recall: 0.2239 - val_auc: 0.8057 - val_f1_score: 0.3393\n",
            "\n",
            "Epoch 00007: val_accuracy did not improve from 0.78935\n",
            "Epoch 8/100\n",
            "129/129 [==============================] - 79s 613ms/step - loss: 0.9055 - accuracy: 0.8011 - precision: 0.7076 - recall: 0.3485 - auc: 0.8458 - f1_score: 0.4700 - val_loss: 0.9644 - val_accuracy: 0.7871 - val_precision: 0.7550 - val_recall: 0.2199 - val_auc: 0.8039 - val_f1_score: 0.3367\n",
            "\n",
            "Epoch 00008: val_accuracy did not improve from 0.78935\n",
            "Epoch 9/100\n",
            "129/129 [==============================] - 79s 612ms/step - loss: 0.9052 - accuracy: 0.8020 - precision: 0.7098 - recall: 0.3521 - auc: 0.8442 - f1_score: 0.4662 - val_loss: 0.9636 - val_accuracy: 0.7871 - val_precision: 0.7484 - val_recall: 0.2239 - val_auc: 0.8046 - val_f1_score: 0.3399\n",
            "\n",
            "Epoch 00009: val_accuracy did not improve from 0.78935\n",
            "Epoch 10/100\n",
            "129/129 [==============================] - 79s 611ms/step - loss: 0.9046 - accuracy: 0.8048 - precision: 0.7214 - recall: 0.3570 - auc: 0.8451 - f1_score: 0.4775 - val_loss: 0.9621 - val_accuracy: 0.7874 - val_precision: 0.7460 - val_recall: 0.2268 - val_auc: 0.8055 - val_f1_score: 0.3438\n",
            "\n",
            "Epoch 00010: val_accuracy did not improve from 0.78935\n",
            "Epoch 11/100\n",
            "129/129 [==============================] - 79s 611ms/step - loss: 0.9153 - accuracy: 0.8000 - precision: 0.7038 - recall: 0.3450 - auc: 0.8404 - f1_score: 0.4581 - val_loss: 0.9613 - val_accuracy: 0.7874 - val_precision: 0.7444 - val_recall: 0.2278 - val_auc: 0.8063 - val_f1_score: 0.3397\n",
            "\n",
            "Epoch 00011: val_accuracy did not improve from 0.78935\n",
            "Epoch 12/100\n",
            "129/129 [==============================] - 79s 614ms/step - loss: 0.9154 - accuracy: 0.8003 - precision: 0.7009 - recall: 0.3511 - auc: 0.8421 - f1_score: 0.4674 - val_loss: 0.9611 - val_accuracy: 0.7871 - val_precision: 0.7420 - val_recall: 0.2278 - val_auc: 0.8063 - val_f1_score: 0.3425\n",
            "\n",
            "Epoch 00012: val_accuracy did not improve from 0.78935\n",
            "Epoch 13/100\n",
            "129/129 [==============================] - 79s 616ms/step - loss: 0.9068 - accuracy: 0.8034 - precision: 0.7122 - recall: 0.3587 - auc: 0.8452 - f1_score: 0.4762 - val_loss: 0.9625 - val_accuracy: 0.7867 - val_precision: 0.7404 - val_recall: 0.2258 - val_auc: 0.8051 - val_f1_score: 0.3442\n",
            "\n",
            "Epoch 00013: val_accuracy did not improve from 0.78935\n",
            "Epoch 14/100\n",
            "129/129 [==============================] - 79s 611ms/step - loss: 0.9123 - accuracy: 0.8006 - precision: 0.7029 - recall: 0.3504 - auc: 0.8425 - f1_score: 0.4683 - val_loss: 0.9636 - val_accuracy: 0.7869 - val_precision: 0.7443 - val_recall: 0.2248 - val_auc: 0.8049 - val_f1_score: 0.3397\n",
            "\n",
            "Epoch 00014: val_accuracy did not improve from 0.78935\n",
            "Epoch 15/100\n",
            "129/129 [==============================] - 79s 610ms/step - loss: 0.9039 - accuracy: 0.8014 - precision: 0.7088 - recall: 0.3487 - auc: 0.8459 - f1_score: 0.4623 - val_loss: 0.9635 - val_accuracy: 0.7871 - val_precision: 0.7468 - val_recall: 0.2248 - val_auc: 0.8048 - val_f1_score: 0.3419\n",
            "\n",
            "Epoch 00015: val_accuracy did not improve from 0.78935\n",
            "Epoch 16/100\n",
            "129/129 [==============================] - 79s 610ms/step - loss: 0.9006 - accuracy: 0.8015 - precision: 0.7082 - recall: 0.3507 - auc: 0.8449 - f1_score: 0.4713 - val_loss: 0.9610 - val_accuracy: 0.7874 - val_precision: 0.7413 - val_recall: 0.2297 - val_auc: 0.8063 - val_f1_score: 0.3461\n",
            "\n",
            "Epoch 00016: val_accuracy did not improve from 0.78935\n",
            "Epoch 17/100\n",
            "129/129 [==============================] - 79s 611ms/step - loss: 0.9032 - accuracy: 0.8020 - precision: 0.7075 - recall: 0.3548 - auc: 0.8466 - f1_score: 0.4722 - val_loss: 0.9629 - val_accuracy: 0.7871 - val_precision: 0.7436 - val_recall: 0.2268 - val_auc: 0.8051 - val_f1_score: 0.3428\n",
            "\n",
            "Epoch 00017: val_accuracy did not improve from 0.78935\n",
            "Epoch 18/100\n",
            "129/129 [==============================] - 79s 612ms/step - loss: 0.9028 - accuracy: 0.8018 - precision: 0.7100 - recall: 0.3502 - auc: 0.8438 - f1_score: 0.4640 - val_loss: 0.9623 - val_accuracy: 0.7871 - val_precision: 0.7436 - val_recall: 0.2268 - val_auc: 0.8055 - val_f1_score: 0.3444\n",
            "\n",
            "Epoch 00018: val_accuracy did not improve from 0.78935\n",
            "Epoch 19/100\n",
            "129/129 [==============================] - 79s 610ms/step - loss: 0.9106 - accuracy: 0.8006 - precision: 0.7039 - recall: 0.3492 - auc: 0.8419 - f1_score: 0.4669 - val_loss: 0.9629 - val_accuracy: 0.7871 - val_precision: 0.7452 - val_recall: 0.2258 - val_auc: 0.8050 - val_f1_score: 0.3406\n",
            "\n",
            "Epoch 00019: val_accuracy did not improve from 0.78935\n",
            "Epoch 20/100\n",
            "129/129 [==============================] - 79s 613ms/step - loss: 0.9149 - accuracy: 0.8009 - precision: 0.7040 - recall: 0.3511 - auc: 0.8421 - f1_score: 0.4637 - val_loss: 0.9624 - val_accuracy: 0.7871 - val_precision: 0.7452 - val_recall: 0.2258 - val_auc: 0.8048 - val_f1_score: 0.3442\n",
            "\n",
            "Epoch 00020: val_accuracy did not improve from 0.78935\n",
            "Epoch 21/100\n",
            "129/129 [==============================] - 79s 611ms/step - loss: 0.9106 - accuracy: 0.7989 - precision: 0.6978 - recall: 0.3448 - auc: 0.8413 - f1_score: 0.4573 - val_loss: 0.9623 - val_accuracy: 0.7869 - val_precision: 0.7428 - val_recall: 0.2258 - val_auc: 0.8052 - val_f1_score: 0.3420\n",
            "\n",
            "Epoch 00021: val_accuracy did not improve from 0.78935\n",
            "Epoch 22/100\n",
            "129/129 [==============================] - 79s 611ms/step - loss: 0.9051 - accuracy: 0.8014 - precision: 0.7088 - recall: 0.3492 - auc: 0.8447 - f1_score: 0.4630 - val_loss: 0.9614 - val_accuracy: 0.7874 - val_precision: 0.7444 - val_recall: 0.2278 - val_auc: 0.8061 - val_f1_score: 0.3445\n",
            "\n",
            "Epoch 00022: val_accuracy did not improve from 0.78935\n",
            "Epoch 23/100\n",
            "129/129 [==============================] - 79s 609ms/step - loss: 0.9030 - accuracy: 0.8038 - precision: 0.7198 - recall: 0.3524 - auc: 0.8462 - f1_score: 0.4730 - val_loss: 0.9650 - val_accuracy: 0.7867 - val_precision: 0.7419 - val_recall: 0.2248 - val_auc: 0.8030 - val_f1_score: 0.3392\n",
            "\n",
            "Epoch 00023: val_accuracy did not improve from 0.78935\n",
            "Epoch 24/100\n",
            "129/129 [==============================] - 79s 610ms/step - loss: 0.9081 - accuracy: 0.8000 - precision: 0.7010 - recall: 0.3490 - auc: 0.8425 - f1_score: 0.4659 - val_loss: 0.9636 - val_accuracy: 0.7864 - val_precision: 0.7411 - val_recall: 0.2239 - val_auc: 0.8047 - val_f1_score: 0.3400\n",
            "\n",
            "Epoch 00024: val_accuracy did not improve from 0.78935\n",
            "Epoch 25/100\n",
            "129/129 [==============================] - 79s 613ms/step - loss: 0.9049 - accuracy: 0.8011 - precision: 0.7044 - recall: 0.3524 - auc: 0.8441 - f1_score: 0.4699 - val_loss: 0.9619 - val_accuracy: 0.7869 - val_precision: 0.7428 - val_recall: 0.2258 - val_auc: 0.8059 - val_f1_score: 0.3415\n",
            "\n",
            "Epoch 00025: val_accuracy did not improve from 0.78935\n",
            "Epoch 26/100\n",
            "129/129 [==============================] - 79s 613ms/step - loss: 0.9060 - accuracy: 0.8012 - precision: 0.7080 - recall: 0.3485 - auc: 0.8444 - f1_score: 0.4657 - val_loss: 0.9622 - val_accuracy: 0.7871 - val_precision: 0.7452 - val_recall: 0.2258 - val_auc: 0.8057 - val_f1_score: 0.3431\n",
            "\n",
            "Epoch 00026: val_accuracy did not improve from 0.78935\n",
            "Epoch 27/100\n",
            "129/129 [==============================] - 78s 606ms/step - loss: 0.9112 - accuracy: 0.7994 - precision: 0.7009 - recall: 0.3448 - auc: 0.8433 - f1_score: 0.4571 - val_loss: 0.9607 - val_accuracy: 0.7874 - val_precision: 0.7429 - val_recall: 0.2287 - val_auc: 0.8065 - val_f1_score: 0.3470\n",
            "\n",
            "Epoch 00027: val_accuracy did not improve from 0.78935\n",
            "Epoch 28/100\n",
            "129/129 [==============================] - 79s 611ms/step - loss: 0.9025 - accuracy: 0.8001 - precision: 0.7066 - recall: 0.3426 - auc: 0.8451 - f1_score: 0.4620 - val_loss: 0.9625 - val_accuracy: 0.7874 - val_precision: 0.7460 - val_recall: 0.2268 - val_auc: 0.8055 - val_f1_score: 0.3445\n",
            "\n",
            "Epoch 00028: val_accuracy did not improve from 0.78935\n",
            "Epoch 29/100\n",
            "129/129 [==============================] - 79s 608ms/step - loss: 0.9094 - accuracy: 0.8019 - precision: 0.7112 - recall: 0.3492 - auc: 0.8428 - f1_score: 0.4682 - val_loss: 0.9609 - val_accuracy: 0.7871 - val_precision: 0.7405 - val_recall: 0.2287 - val_auc: 0.8066 - val_f1_score: 0.3454\n",
            "\n",
            "Epoch 00029: val_accuracy did not improve from 0.78935\n",
            "Epoch 30/100\n",
            "129/129 [==============================] - 79s 611ms/step - loss: 0.9058 - accuracy: 0.7992 - precision: 0.6941 - recall: 0.3516 - auc: 0.8444 - f1_score: 0.4667 - val_loss: 0.9640 - val_accuracy: 0.7869 - val_precision: 0.7443 - val_recall: 0.2248 - val_auc: 0.8044 - val_f1_score: 0.3427\n",
            "\n",
            "Epoch 00030: val_accuracy did not improve from 0.78935\n",
            "Epoch 31/100\n",
            "129/129 [==============================] - 79s 611ms/step - loss: 0.9038 - accuracy: 0.7999 - precision: 0.7033 - recall: 0.3453 - auc: 0.8440 - f1_score: 0.4636 - val_loss: 0.9626 - val_accuracy: 0.7874 - val_precision: 0.7460 - val_recall: 0.2268 - val_auc: 0.8057 - val_f1_score: 0.3421\n",
            "\n",
            "Epoch 00031: val_accuracy did not improve from 0.78935\n",
            "Epoch 32/100\n",
            "129/129 [==============================] - 79s 612ms/step - loss: 0.8937 - accuracy: 0.8012 - precision: 0.7075 - recall: 0.3494 - auc: 0.8471 - f1_score: 0.4675 - val_loss: 0.9628 - val_accuracy: 0.7874 - val_precision: 0.7460 - val_recall: 0.2268 - val_auc: 0.8052 - val_f1_score: 0.3451\n",
            "\n",
            "Epoch 00032: val_accuracy did not improve from 0.78935\n",
            "Epoch 33/100\n",
            "129/129 [==============================] - 79s 611ms/step - loss: 0.9101 - accuracy: 0.8012 - precision: 0.7121 - recall: 0.3441 - auc: 0.8426 - f1_score: 0.4623 - val_loss: 0.9638 - val_accuracy: 0.7871 - val_precision: 0.7452 - val_recall: 0.2258 - val_auc: 0.8047 - val_f1_score: 0.3432\n",
            "\n",
            "Epoch 00033: val_accuracy did not improve from 0.78935\n",
            "Epoch 34/100\n",
            "129/129 [==============================] - 78s 608ms/step - loss: 0.9126 - accuracy: 0.8012 - precision: 0.7008 - recall: 0.3572 - auc: 0.8429 - f1_score: 0.4688 - val_loss: 0.9633 - val_accuracy: 0.7871 - val_precision: 0.7452 - val_recall: 0.2258 - val_auc: 0.8046 - val_f1_score: 0.3437\n",
            "\n",
            "Epoch 00034: val_accuracy did not improve from 0.78935\n",
            "Epoch 35/100\n",
            "129/129 [==============================] - 79s 610ms/step - loss: 0.9084 - accuracy: 0.7986 - precision: 0.6955 - recall: 0.3455 - auc: 0.8420 - f1_score: 0.4571 - val_loss: 0.9630 - val_accuracy: 0.7871 - val_precision: 0.7452 - val_recall: 0.2258 - val_auc: 0.8046 - val_f1_score: 0.3420\n",
            "\n",
            "Epoch 00035: val_accuracy did not improve from 0.78935\n",
            "Epoch 36/100\n",
            "129/129 [==============================] - 79s 612ms/step - loss: 0.9033 - accuracy: 0.8001 - precision: 0.7019 - recall: 0.3487 - auc: 0.8448 - f1_score: 0.4654 - val_loss: 0.9634 - val_accuracy: 0.7869 - val_precision: 0.7443 - val_recall: 0.2248 - val_auc: 0.8050 - val_f1_score: 0.3416\n",
            "\n",
            "Epoch 00036: val_accuracy did not improve from 0.78935\n",
            "Epoch 37/100\n",
            "129/129 [==============================] - 79s 610ms/step - loss: 0.9124 - accuracy: 0.8008 - precision: 0.7041 - recall: 0.3507 - auc: 0.8426 - f1_score: 0.4674 - val_loss: 0.9622 - val_accuracy: 0.7867 - val_precision: 0.7389 - val_recall: 0.2268 - val_auc: 0.8057 - val_f1_score: 0.3417\n",
            "\n",
            "Epoch 00037: val_accuracy did not improve from 0.78935\n",
            "Epoch 38/100\n",
            "129/129 [==============================] - 78s 606ms/step - loss: 0.9096 - accuracy: 0.8015 - precision: 0.7033 - recall: 0.3563 - auc: 0.8445 - f1_score: 0.4677 - val_loss: 0.9617 - val_accuracy: 0.7874 - val_precision: 0.7444 - val_recall: 0.2278 - val_auc: 0.8054 - val_f1_score: 0.3463\n",
            "\n",
            "Epoch 00038: val_accuracy did not improve from 0.78935\n",
            "Epoch 39/100\n",
            "129/129 [==============================] - 79s 609ms/step - loss: 0.9127 - accuracy: 0.7992 - precision: 0.7005 - recall: 0.3436 - auc: 0.8425 - f1_score: 0.4562 - val_loss: 0.9612 - val_accuracy: 0.7871 - val_precision: 0.7390 - val_recall: 0.2297 - val_auc: 0.8063 - val_f1_score: 0.3469\n",
            "\n",
            "Epoch 00039: val_accuracy did not improve from 0.78935\n",
            "Epoch 40/100\n",
            "129/129 [==============================] - 79s 609ms/step - loss: 0.9073 - accuracy: 0.8049 - precision: 0.7172 - recall: 0.3626 - auc: 0.8448 - f1_score: 0.4766 - val_loss: 0.9608 - val_accuracy: 0.7871 - val_precision: 0.7390 - val_recall: 0.2297 - val_auc: 0.8064 - val_f1_score: 0.3471\n",
            "\n",
            "Epoch 00040: val_accuracy did not improve from 0.78935\n",
            "Epoch 41/100\n",
            "129/129 [==============================] - 79s 612ms/step - loss: 0.9079 - accuracy: 0.8009 - precision: 0.7050 - recall: 0.3499 - auc: 0.8438 - f1_score: 0.4626 - val_loss: 0.9607 - val_accuracy: 0.7874 - val_precision: 0.7413 - val_recall: 0.2297 - val_auc: 0.8069 - val_f1_score: 0.3457\n",
            "\n",
            "Epoch 00041: val_accuracy did not improve from 0.78935\n",
            "Epoch 42/100\n",
            "129/129 [==============================] - 79s 608ms/step - loss: 0.9007 - accuracy: 0.8026 - precision: 0.7115 - recall: 0.3538 - auc: 0.8448 - f1_score: 0.4718 - val_loss: 0.9620 - val_accuracy: 0.7871 - val_precision: 0.7420 - val_recall: 0.2278 - val_auc: 0.8059 - val_f1_score: 0.3458\n",
            "\n",
            "Epoch 00042: val_accuracy did not improve from 0.78935\n",
            "Epoch 43/100\n",
            "129/129 [==============================] - 79s 612ms/step - loss: 0.9117 - accuracy: 0.8003 - precision: 0.7081 - recall: 0.3421 - auc: 0.8419 - f1_score: 0.4567 - val_loss: 0.9628 - val_accuracy: 0.7874 - val_precision: 0.7460 - val_recall: 0.2268 - val_auc: 0.8055 - val_f1_score: 0.3425\n",
            "\n",
            "Epoch 00043: val_accuracy did not improve from 0.78935\n",
            "Epoch 44/100\n",
            "129/129 [==============================] - 79s 609ms/step - loss: 0.9076 - accuracy: 0.7987 - precision: 0.6993 - recall: 0.3421 - auc: 0.8423 - f1_score: 0.4545 - val_loss: 0.9638 - val_accuracy: 0.7874 - val_precision: 0.7476 - val_recall: 0.2258 - val_auc: 0.8048 - val_f1_score: 0.3403\n",
            "\n",
            "Epoch 00044: val_accuracy did not improve from 0.78935\n",
            "Epoch 45/100\n",
            "129/129 [==============================] - 79s 610ms/step - loss: 0.9065 - accuracy: 0.8011 - precision: 0.7046 - recall: 0.3516 - auc: 0.8426 - f1_score: 0.4693 - val_loss: 0.9641 - val_accuracy: 0.7869 - val_precision: 0.7443 - val_recall: 0.2248 - val_auc: 0.8040 - val_f1_score: 0.3403\n",
            "\n",
            "Epoch 00045: val_accuracy did not improve from 0.78935\n",
            "Epoch 46/100\n",
            "129/129 [==============================] - 79s 612ms/step - loss: 0.8991 - accuracy: 0.8044 - precision: 0.7197 - recall: 0.3565 - auc: 0.8476 - f1_score: 0.4749 - val_loss: 0.9613 - val_accuracy: 0.7874 - val_precision: 0.7413 - val_recall: 0.2297 - val_auc: 0.8063 - val_f1_score: 0.3457\n",
            "\n",
            "Epoch 00046: val_accuracy did not improve from 0.78935\n",
            "Epoch 47/100\n",
            "129/129 [==============================] - 79s 611ms/step - loss: 0.8987 - accuracy: 0.8032 - precision: 0.7182 - recall: 0.3502 - auc: 0.8467 - f1_score: 0.4710 - val_loss: 0.9634 - val_accuracy: 0.7869 - val_precision: 0.7443 - val_recall: 0.2248 - val_auc: 0.8042 - val_f1_score: 0.3403\n",
            "\n",
            "Epoch 00047: val_accuracy did not improve from 0.78935\n",
            "Epoch 48/100\n",
            "129/129 [==============================] - 79s 612ms/step - loss: 0.9071 - accuracy: 0.8017 - precision: 0.7105 - recall: 0.3492 - auc: 0.8433 - f1_score: 0.4637 - val_loss: 0.9620 - val_accuracy: 0.7876 - val_precision: 0.7468 - val_recall: 0.2278 - val_auc: 0.8056 - val_f1_score: 0.3440\n",
            "\n",
            "Epoch 00048: val_accuracy did not improve from 0.78935\n",
            "Epoch 49/100\n",
            "129/129 [==============================] - 79s 610ms/step - loss: 0.9034 - accuracy: 0.8005 - precision: 0.7077 - recall: 0.3438 - auc: 0.8437 - f1_score: 0.4628 - val_loss: 0.9620 - val_accuracy: 0.7871 - val_precision: 0.7452 - val_recall: 0.2258 - val_auc: 0.8063 - val_f1_score: 0.3430\n",
            "\n",
            "Epoch 00049: val_accuracy did not improve from 0.78935\n",
            "Epoch 50/100\n",
            "129/129 [==============================] - 79s 612ms/step - loss: 0.9031 - accuracy: 0.8003 - precision: 0.7050 - recall: 0.3458 - auc: 0.8448 - f1_score: 0.4627 - val_loss: 0.9630 - val_accuracy: 0.7874 - val_precision: 0.7460 - val_recall: 0.2268 - val_auc: 0.8055 - val_f1_score: 0.3425\n",
            "\n",
            "Epoch 00050: val_accuracy did not improve from 0.78935\n",
            "Epoch 51/100\n",
            "129/129 [==============================] - 79s 611ms/step - loss: 0.9019 - accuracy: 0.8014 - precision: 0.7132 - recall: 0.3441 - auc: 0.8446 - f1_score: 0.4647 - val_loss: 0.9636 - val_accuracy: 0.7871 - val_precision: 0.7452 - val_recall: 0.2258 - val_auc: 0.8049 - val_f1_score: 0.3399\n",
            "\n",
            "Epoch 00051: val_accuracy did not improve from 0.78935\n",
            "Epoch 52/100\n",
            "129/129 [==============================] - 79s 610ms/step - loss: 0.9026 - accuracy: 0.8019 - precision: 0.7112 - recall: 0.3492 - auc: 0.8469 - f1_score: 0.4638 - val_loss: 0.9639 - val_accuracy: 0.7869 - val_precision: 0.7443 - val_recall: 0.2248 - val_auc: 0.8047 - val_f1_score: 0.3417\n",
            "\n",
            "Epoch 00052: val_accuracy did not improve from 0.78935\n",
            "Epoch 53/100\n",
            "129/129 [==============================] - 79s 612ms/step - loss: 0.9134 - accuracy: 0.8012 - precision: 0.7068 - recall: 0.3499 - auc: 0.8433 - f1_score: 0.4703 - val_loss: 0.9648 - val_accuracy: 0.7871 - val_precision: 0.7468 - val_recall: 0.2248 - val_auc: 0.8041 - val_f1_score: 0.3404\n",
            "\n",
            "Epoch 00053: val_accuracy did not improve from 0.78935\n",
            "Epoch 54/100\n",
            "129/129 [==============================] - 78s 608ms/step - loss: 0.9044 - accuracy: 0.8021 - precision: 0.7120 - recall: 0.3499 - auc: 0.8446 - f1_score: 0.4643 - val_loss: 0.9648 - val_accuracy: 0.7874 - val_precision: 0.7492 - val_recall: 0.2248 - val_auc: 0.8041 - val_f1_score: 0.3429\n",
            "\n",
            "Epoch 00054: val_accuracy did not improve from 0.78935\n",
            "Epoch 55/100\n",
            "129/129 [==============================] - 79s 610ms/step - loss: 0.9180 - accuracy: 0.7992 - precision: 0.6981 - recall: 0.3470 - auc: 0.8414 - f1_score: 0.4620 - val_loss: 0.9621 - val_accuracy: 0.7871 - val_precision: 0.7436 - val_recall: 0.2268 - val_auc: 0.8056 - val_f1_score: 0.3418\n",
            "\n",
            "Epoch 00055: val_accuracy did not improve from 0.78935\n",
            "Epoch 56/100\n",
            "129/129 [==============================] - 79s 610ms/step - loss: 0.8979 - accuracy: 0.8028 - precision: 0.7125 - recall: 0.3538 - auc: 0.8468 - f1_score: 0.4681 - val_loss: 0.9644 - val_accuracy: 0.7871 - val_precision: 0.7468 - val_recall: 0.2248 - val_auc: 0.8038 - val_f1_score: 0.3401\n",
            "\n",
            "Epoch 00056: val_accuracy did not improve from 0.78935\n",
            "Epoch 57/100\n",
            "129/129 [==============================] - 79s 609ms/step - loss: 0.9151 - accuracy: 0.8012 - precision: 0.7081 - recall: 0.3487 - auc: 0.8425 - f1_score: 0.4678 - val_loss: 0.9639 - val_accuracy: 0.7871 - val_precision: 0.7452 - val_recall: 0.2258 - val_auc: 0.8044 - val_f1_score: 0.3421\n",
            "\n",
            "Epoch 00057: val_accuracy did not improve from 0.78935\n",
            "Epoch 58/100\n",
            "129/129 [==============================] - 79s 609ms/step - loss: 0.9051 - accuracy: 0.8034 - precision: 0.7181 - recall: 0.3519 - auc: 0.8439 - f1_score: 0.4725 - val_loss: 0.9641 - val_accuracy: 0.7867 - val_precision: 0.7435 - val_recall: 0.2239 - val_auc: 0.8043 - val_f1_score: 0.3409\n",
            "\n",
            "Epoch 00058: val_accuracy did not improve from 0.78935\n",
            "Epoch 59/100\n",
            "129/129 [==============================] - 79s 609ms/step - loss: 0.9083 - accuracy: 0.8008 - precision: 0.7057 - recall: 0.3487 - auc: 0.8426 - f1_score: 0.4685 - val_loss: 0.9631 - val_accuracy: 0.7869 - val_precision: 0.7443 - val_recall: 0.2248 - val_auc: 0.8051 - val_f1_score: 0.3396\n",
            "\n",
            "Epoch 00059: val_accuracy did not improve from 0.78935\n",
            "Epoch 60/100\n",
            "129/129 [==============================] - 79s 612ms/step - loss: 0.9048 - accuracy: 0.8018 - precision: 0.7117 - recall: 0.3482 - auc: 0.8437 - f1_score: 0.4677 - val_loss: 0.9623 - val_accuracy: 0.7871 - val_precision: 0.7452 - val_recall: 0.2258 - val_auc: 0.8055 - val_f1_score: 0.3424\n",
            "\n",
            "Epoch 00060: val_accuracy did not improve from 0.78935\n",
            "Epoch 61/100\n",
            "129/129 [==============================] - 79s 610ms/step - loss: 0.8998 - accuracy: 0.8020 - precision: 0.7096 - recall: 0.3524 - auc: 0.8459 - f1_score: 0.4709 - val_loss: 0.9626 - val_accuracy: 0.7869 - val_precision: 0.7428 - val_recall: 0.2258 - val_auc: 0.8057 - val_f1_score: 0.3432\n",
            "\n",
            "Epoch 00061: val_accuracy did not improve from 0.78935\n",
            "Epoch 62/100\n",
            "129/129 [==============================] - 78s 608ms/step - loss: 0.9085 - accuracy: 0.8023 - precision: 0.7110 - recall: 0.3524 - auc: 0.8436 - f1_score: 0.4714 - val_loss: 0.9617 - val_accuracy: 0.7869 - val_precision: 0.7428 - val_recall: 0.2258 - val_auc: 0.8057 - val_f1_score: 0.3389\n",
            "\n",
            "Epoch 00062: val_accuracy did not improve from 0.78935\n",
            "Epoch 63/100\n",
            "129/129 [==============================] - 79s 611ms/step - loss: 0.9048 - accuracy: 0.8008 - precision: 0.7023 - recall: 0.3524 - auc: 0.8451 - f1_score: 0.4648 - val_loss: 0.9644 - val_accuracy: 0.7869 - val_precision: 0.7443 - val_recall: 0.2248 - val_auc: 0.8039 - val_f1_score: 0.3411\n",
            "\n",
            "Epoch 00063: val_accuracy did not improve from 0.78935\n",
            "Epoch 64/100\n",
            "129/129 [==============================] - 79s 611ms/step - loss: 0.9121 - accuracy: 0.8000 - precision: 0.7042 - recall: 0.3446 - auc: 0.8423 - f1_score: 0.4632 - val_loss: 0.9652 - val_accuracy: 0.7867 - val_precision: 0.7435 - val_recall: 0.2239 - val_auc: 0.8029 - val_f1_score: 0.3371\n",
            "\n",
            "Epoch 00064: val_accuracy did not improve from 0.78935\n",
            "Epoch 65/100\n",
            "129/129 [==============================] - 79s 613ms/step - loss: 0.9136 - accuracy: 0.8020 - precision: 0.7086 - recall: 0.3531 - auc: 0.8427 - f1_score: 0.4710 - val_loss: 0.9608 - val_accuracy: 0.7874 - val_precision: 0.7429 - val_recall: 0.2287 - val_auc: 0.8062 - val_f1_score: 0.3460\n",
            "\n",
            "Epoch 00065: val_accuracy did not improve from 0.78935\n",
            "Epoch 66/100\n",
            "129/129 [==============================] - 79s 609ms/step - loss: 0.9051 - accuracy: 0.8004 - precision: 0.6991 - recall: 0.3538 - auc: 0.8437 - f1_score: 0.4692 - val_loss: 0.9602 - val_accuracy: 0.7867 - val_precision: 0.7344 - val_recall: 0.2297 - val_auc: 0.8067 - val_f1_score: 0.3471\n",
            "\n",
            "Epoch 00066: val_accuracy did not improve from 0.78935\n",
            "Epoch 67/100\n",
            "129/129 [==============================] - 79s 609ms/step - loss: 0.9096 - accuracy: 0.8008 - precision: 0.7039 - recall: 0.3509 - auc: 0.8424 - f1_score: 0.4674 - val_loss: 0.9622 - val_accuracy: 0.7867 - val_precision: 0.7373 - val_recall: 0.2278 - val_auc: 0.8049 - val_f1_score: 0.3440\n",
            "\n",
            "Epoch 00067: val_accuracy did not improve from 0.78935\n",
            "Epoch 68/100\n",
            "129/129 [==============================] - 79s 609ms/step - loss: 0.9095 - accuracy: 0.7987 - precision: 0.6961 - recall: 0.3460 - auc: 0.8424 - f1_score: 0.4648 - val_loss: 0.9635 - val_accuracy: 0.7874 - val_precision: 0.7476 - val_recall: 0.2258 - val_auc: 0.8046 - val_f1_score: 0.3440\n",
            "\n",
            "Epoch 00068: val_accuracy did not improve from 0.78935\n",
            "Epoch 69/100\n",
            "129/129 [==============================] - 79s 613ms/step - loss: 0.9037 - accuracy: 0.7992 - precision: 0.7019 - recall: 0.3419 - auc: 0.8440 - f1_score: 0.4582 - val_loss: 0.9656 - val_accuracy: 0.7876 - val_precision: 0.7516 - val_recall: 0.2248 - val_auc: 0.8035 - val_f1_score: 0.3433\n",
            "\n",
            "Epoch 00069: val_accuracy did not improve from 0.78935\n",
            "Epoch 70/100\n",
            "129/129 [==============================] - 79s 613ms/step - loss: 0.9117 - accuracy: 0.8016 - precision: 0.7069 - recall: 0.3526 - auc: 0.8425 - f1_score: 0.4690 - val_loss: 0.9626 - val_accuracy: 0.7869 - val_precision: 0.7443 - val_recall: 0.2248 - val_auc: 0.8052 - val_f1_score: 0.3396\n",
            "\n",
            "Epoch 00070: val_accuracy did not improve from 0.78935\n",
            "Epoch 71/100\n",
            "129/129 [==============================] - 79s 614ms/step - loss: 0.9159 - accuracy: 0.7995 - precision: 0.6985 - recall: 0.3482 - auc: 0.8407 - f1_score: 0.4635 - val_loss: 0.9631 - val_accuracy: 0.7869 - val_precision: 0.7459 - val_recall: 0.2239 - val_auc: 0.8044 - val_f1_score: 0.3400\n",
            "\n",
            "Epoch 00071: val_accuracy did not improve from 0.78935\n",
            "Epoch 72/100\n",
            "129/129 [==============================] - 79s 612ms/step - loss: 0.9075 - accuracy: 0.8014 - precision: 0.7056 - recall: 0.3526 - auc: 0.8435 - f1_score: 0.4706 - val_loss: 0.9624 - val_accuracy: 0.7867 - val_precision: 0.7435 - val_recall: 0.2239 - val_auc: 0.8050 - val_f1_score: 0.3391\n",
            "\n",
            "Epoch 00072: val_accuracy did not improve from 0.78935\n",
            "Epoch 73/100\n",
            "129/129 [==============================] - 80s 617ms/step - loss: 0.9036 - accuracy: 0.8001 - precision: 0.6990 - recall: 0.3519 - auc: 0.8443 - f1_score: 0.4702 - val_loss: 0.9601 - val_accuracy: 0.7874 - val_precision: 0.7413 - val_recall: 0.2297 - val_auc: 0.8071 - val_f1_score: 0.3485\n",
            "\n",
            "Epoch 00073: val_accuracy did not improve from 0.78935\n",
            "Epoch 74/100\n",
            "129/129 [==============================] - 79s 613ms/step - loss: 0.9053 - accuracy: 0.8001 - precision: 0.7011 - recall: 0.3497 - auc: 0.8441 - f1_score: 0.4665 - val_loss: 0.9597 - val_accuracy: 0.7862 - val_precision: 0.7312 - val_recall: 0.2287 - val_auc: 0.8071 - val_f1_score: 0.3443\n",
            "\n",
            "Epoch 00074: val_accuracy did not improve from 0.78935\n",
            "Epoch 75/100\n",
            "129/129 [==============================] - 79s 611ms/step - loss: 0.9174 - accuracy: 0.7979 - precision: 0.6933 - recall: 0.3436 - auc: 0.8387 - f1_score: 0.4590 - val_loss: 0.9614 - val_accuracy: 0.7874 - val_precision: 0.7429 - val_recall: 0.2287 - val_auc: 0.8060 - val_f1_score: 0.3479\n",
            "\n",
            "Epoch 00075: val_accuracy did not improve from 0.78935\n",
            "Epoch 76/100\n",
            "129/129 [==============================] - 79s 612ms/step - loss: 0.9104 - accuracy: 0.8017 - precision: 0.7067 - recall: 0.3533 - auc: 0.8420 - f1_score: 0.4709 - val_loss: 0.9637 - val_accuracy: 0.7869 - val_precision: 0.7443 - val_recall: 0.2248 - val_auc: 0.8048 - val_f1_score: 0.3411\n",
            "\n",
            "Epoch 00076: val_accuracy did not improve from 0.78935\n",
            "Epoch 77/100\n",
            "129/129 [==============================] - 79s 614ms/step - loss: 0.9017 - accuracy: 0.8004 - precision: 0.7028 - recall: 0.3492 - auc: 0.8427 - f1_score: 0.4616 - val_loss: 0.9630 - val_accuracy: 0.7871 - val_precision: 0.7452 - val_recall: 0.2258 - val_auc: 0.8051 - val_f1_score: 0.3420\n",
            "\n",
            "Epoch 00077: val_accuracy did not improve from 0.78935\n",
            "Epoch 78/100\n",
            "129/129 [==============================] - 79s 610ms/step - loss: 0.9125 - accuracy: 0.8023 - precision: 0.7118 - recall: 0.3514 - auc: 0.8421 - f1_score: 0.4657 - val_loss: 0.9620 - val_accuracy: 0.7879 - val_precision: 0.7476 - val_recall: 0.2287 - val_auc: 0.8053 - val_f1_score: 0.3449\n",
            "\n",
            "Epoch 00078: val_accuracy did not improve from 0.78935\n",
            "Epoch 79/100\n",
            "129/129 [==============================] - 79s 611ms/step - loss: 0.9024 - accuracy: 0.8034 - precision: 0.7154 - recall: 0.3546 - auc: 0.8471 - f1_score: 0.4689 - val_loss: 0.9643 - val_accuracy: 0.7874 - val_precision: 0.7460 - val_recall: 0.2268 - val_auc: 0.8042 - val_f1_score: 0.3423\n",
            "\n",
            "Epoch 00079: val_accuracy did not improve from 0.78935\n",
            "Epoch 80/100\n",
            "129/129 [==============================] - 79s 615ms/step - loss: 0.8981 - accuracy: 0.8020 - precision: 0.7153 - recall: 0.3458 - auc: 0.8468 - f1_score: 0.4613 - val_loss: 0.9633 - val_accuracy: 0.7871 - val_precision: 0.7452 - val_recall: 0.2258 - val_auc: 0.8050 - val_f1_score: 0.3426\n",
            "\n",
            "Epoch 00080: val_accuracy did not improve from 0.78935\n",
            "Epoch 81/100\n",
            "129/129 [==============================] - 79s 615ms/step - loss: 0.9090 - accuracy: 0.8003 - precision: 0.7041 - recall: 0.3472 - auc: 0.8435 - f1_score: 0.4649 - val_loss: 0.9640 - val_accuracy: 0.7869 - val_precision: 0.7443 - val_recall: 0.2248 - val_auc: 0.8040 - val_f1_score: 0.3417\n",
            "\n",
            "Epoch 00081: val_accuracy did not improve from 0.78935\n",
            "Epoch 82/100\n",
            "129/129 [==============================] - 79s 612ms/step - loss: 0.8925 - accuracy: 0.8019 - precision: 0.7075 - recall: 0.3536 - auc: 0.8475 - f1_score: 0.4667 - val_loss: 0.9624 - val_accuracy: 0.7871 - val_precision: 0.7452 - val_recall: 0.2258 - val_auc: 0.8055 - val_f1_score: 0.3437\n",
            "\n",
            "Epoch 00082: val_accuracy did not improve from 0.78935\n",
            "Epoch 83/100\n",
            "129/129 [==============================] - 79s 612ms/step - loss: 0.9134 - accuracy: 0.8003 - precision: 0.7029 - recall: 0.3487 - auc: 0.8427 - f1_score: 0.4686 - val_loss: 0.9626 - val_accuracy: 0.7874 - val_precision: 0.7460 - val_recall: 0.2268 - val_auc: 0.8050 - val_f1_score: 0.3426\n",
            "\n",
            "Epoch 00083: val_accuracy did not improve from 0.78935\n",
            "Epoch 84/100\n",
            "129/129 [==============================] - 79s 615ms/step - loss: 0.9188 - accuracy: 0.7994 - precision: 0.6972 - recall: 0.3490 - auc: 0.8414 - f1_score: 0.4601 - val_loss: 0.9633 - val_accuracy: 0.7871 - val_precision: 0.7452 - val_recall: 0.2258 - val_auc: 0.8050 - val_f1_score: 0.3432\n",
            "\n",
            "Epoch 00084: val_accuracy did not improve from 0.78935\n",
            "Epoch 85/100\n",
            "129/129 [==============================] - 79s 611ms/step - loss: 0.9092 - accuracy: 0.7989 - precision: 0.6957 - recall: 0.3475 - auc: 0.8419 - f1_score: 0.4587 - val_loss: 0.9625 - val_accuracy: 0.7871 - val_precision: 0.7452 - val_recall: 0.2258 - val_auc: 0.8058 - val_f1_score: 0.3423\n",
            "\n",
            "Epoch 00085: val_accuracy did not improve from 0.78935\n",
            "Epoch 86/100\n",
            "129/129 [==============================] - 79s 616ms/step - loss: 0.8975 - accuracy: 0.8032 - precision: 0.7176 - recall: 0.3509 - auc: 0.8467 - f1_score: 0.4696 - val_loss: 0.9625 - val_accuracy: 0.7871 - val_precision: 0.7452 - val_recall: 0.2258 - val_auc: 0.8060 - val_f1_score: 0.3427\n",
            "\n",
            "Epoch 00086: val_accuracy did not improve from 0.78935\n",
            "Epoch 87/100\n",
            "129/129 [==============================] - 79s 614ms/step - loss: 0.9108 - accuracy: 0.7994 - precision: 0.6985 - recall: 0.3477 - auc: 0.8412 - f1_score: 0.4650 - val_loss: 0.9608 - val_accuracy: 0.7876 - val_precision: 0.7437 - val_recall: 0.2297 - val_auc: 0.8062 - val_f1_score: 0.3445\n",
            "\n",
            "Epoch 00087: val_accuracy did not improve from 0.78935\n",
            "Epoch 88/100\n",
            "129/129 [==============================] - 80s 618ms/step - loss: 0.8943 - accuracy: 0.8016 - precision: 0.7090 - recall: 0.3502 - auc: 0.8477 - f1_score: 0.4690 - val_loss: 0.9618 - val_accuracy: 0.7869 - val_precision: 0.7412 - val_recall: 0.2268 - val_auc: 0.8053 - val_f1_score: 0.3405\n",
            "\n",
            "Epoch 00088: val_accuracy did not improve from 0.78935\n",
            "Epoch 89/100\n",
            "129/129 [==============================] - 80s 617ms/step - loss: 0.9031 - accuracy: 0.8043 - precision: 0.7156 - recall: 0.3604 - auc: 0.8469 - f1_score: 0.4745 - val_loss: 0.9636 - val_accuracy: 0.7874 - val_precision: 0.7460 - val_recall: 0.2268 - val_auc: 0.8045 - val_f1_score: 0.3459\n",
            "\n",
            "Epoch 00089: val_accuracy did not improve from 0.78935\n",
            "Epoch 90/100\n",
            "129/129 [==============================] - 79s 614ms/step - loss: 0.9104 - accuracy: 0.8008 - precision: 0.7045 - recall: 0.3497 - auc: 0.8430 - f1_score: 0.4677 - val_loss: 0.9608 - val_accuracy: 0.7869 - val_precision: 0.7367 - val_recall: 0.2297 - val_auc: 0.8062 - val_f1_score: 0.3480\n",
            "\n",
            "Epoch 00090: val_accuracy did not improve from 0.78935\n",
            "Epoch 91/100\n",
            "129/129 [==============================] - 79s 615ms/step - loss: 0.9103 - accuracy: 0.7986 - precision: 0.6936 - recall: 0.3480 - auc: 0.8428 - f1_score: 0.4591 - val_loss: 0.9613 - val_accuracy: 0.7869 - val_precision: 0.7382 - val_recall: 0.2287 - val_auc: 0.8056 - val_f1_score: 0.3449\n",
            "\n",
            "Epoch 00091: val_accuracy did not improve from 0.78935\n",
            "Epoch 92/100\n",
            "129/129 [==============================] - 79s 612ms/step - loss: 0.9090 - accuracy: 0.8014 - precision: 0.7053 - recall: 0.3533 - auc: 0.8439 - f1_score: 0.4655 - val_loss: 0.9612 - val_accuracy: 0.7871 - val_precision: 0.7420 - val_recall: 0.2278 - val_auc: 0.8061 - val_f1_score: 0.3443\n",
            "\n",
            "Epoch 00092: val_accuracy did not improve from 0.78935\n",
            "Epoch 93/100\n",
            "129/129 [==============================] - 79s 615ms/step - loss: 0.9049 - accuracy: 0.8004 - precision: 0.7026 - recall: 0.3494 - auc: 0.8451 - f1_score: 0.4618 - val_loss: 0.9613 - val_accuracy: 0.7871 - val_precision: 0.7420 - val_recall: 0.2278 - val_auc: 0.8062 - val_f1_score: 0.3452\n",
            "\n",
            "Epoch 00093: val_accuracy did not improve from 0.78935\n",
            "Epoch 94/100\n",
            "129/129 [==============================] - 80s 617ms/step - loss: 0.9109 - accuracy: 0.7996 - precision: 0.6998 - recall: 0.3475 - auc: 0.8424 - f1_score: 0.4630 - val_loss: 0.9621 - val_accuracy: 0.7869 - val_precision: 0.7443 - val_recall: 0.2248 - val_auc: 0.8060 - val_f1_score: 0.3425\n",
            "\n",
            "Epoch 00094: val_accuracy did not improve from 0.78935\n",
            "Epoch 95/100\n",
            "129/129 [==============================] - 79s 616ms/step - loss: 0.9141 - accuracy: 0.8005 - precision: 0.7044 - recall: 0.3477 - auc: 0.8398 - f1_score: 0.4653 - val_loss: 0.9636 - val_accuracy: 0.7871 - val_precision: 0.7452 - val_recall: 0.2258 - val_auc: 0.8051 - val_f1_score: 0.3427\n",
            "\n",
            "Epoch 00095: val_accuracy did not improve from 0.78935\n",
            "Epoch 96/100\n",
            "129/129 [==============================] - 80s 616ms/step - loss: 0.9019 - accuracy: 0.8014 - precision: 0.7100 - recall: 0.3477 - auc: 0.8452 - f1_score: 0.4655 - val_loss: 0.9632 - val_accuracy: 0.7869 - val_precision: 0.7412 - val_recall: 0.2268 - val_auc: 0.8051 - val_f1_score: 0.3423\n",
            "\n",
            "Epoch 00096: val_accuracy did not improve from 0.78935\n",
            "Epoch 97/100\n",
            "129/129 [==============================] - 79s 613ms/step - loss: 0.8993 - accuracy: 0.8026 - precision: 0.7112 - recall: 0.3546 - auc: 0.8469 - f1_score: 0.4683 - val_loss: 0.9631 - val_accuracy: 0.7874 - val_precision: 0.7460 - val_recall: 0.2268 - val_auc: 0.8048 - val_f1_score: 0.3439\n",
            "\n",
            "Epoch 00097: val_accuracy did not improve from 0.78935\n",
            "Epoch 98/100\n",
            "129/129 [==============================] - 79s 615ms/step - loss: 0.9018 - accuracy: 0.8037 - precision: 0.7182 - recall: 0.3538 - auc: 0.8466 - f1_score: 0.4757 - val_loss: 0.9635 - val_accuracy: 0.7871 - val_precision: 0.7452 - val_recall: 0.2258 - val_auc: 0.8048 - val_f1_score: 0.3442\n",
            "\n",
            "Epoch 00098: val_accuracy did not improve from 0.78935\n",
            "Epoch 99/100\n",
            "129/129 [==============================] - 80s 616ms/step - loss: 0.9077 - accuracy: 0.8007 - precision: 0.7016 - recall: 0.3529 - auc: 0.8423 - f1_score: 0.4700 - val_loss: 0.9647 - val_accuracy: 0.7869 - val_precision: 0.7459 - val_recall: 0.2239 - val_auc: 0.8034 - val_f1_score: 0.3400\n",
            "\n",
            "Epoch 00099: val_accuracy did not improve from 0.78935\n",
            "Epoch 100/100\n",
            "129/129 [==============================] - 79s 613ms/step - loss: 0.9160 - accuracy: 0.8007 - precision: 0.7091 - recall: 0.3438 - auc: 0.8405 - f1_score: 0.4578 - val_loss: 0.9648 - val_accuracy: 0.7867 - val_precision: 0.7435 - val_recall: 0.2239 - val_auc: 0.8037 - val_f1_score: 0.3399\n",
            "\n",
            "Epoch 00100: val_accuracy did not improve from 0.78935\n"
          ]
        }
      ]
    },
    {
      "cell_type": "code",
      "metadata": {
        "colab": {
          "base_uri": "https://localhost:8080/"
        },
        "id": "bcZDfF1AyyrB",
        "outputId": "de7db56c-04db-490c-bdaa-50d4793352ef"
      },
      "source": [
        "model.save('/content/drive/MyDrive/Garvin/IEEE/saved_model')"
      ],
      "execution_count": null,
      "outputs": [
        {
          "output_type": "stream",
          "name": "stderr",
          "text": [
            "WARNING:absl:Function `_wrapped_model` contains input name(s) mobilenet_1.00_224_input with unsupported characters which will be renamed to mobilenet_1_00_224_input in the SavedModel.\n"
          ]
        },
        {
          "output_type": "stream",
          "name": "stdout",
          "text": [
            "INFO:tensorflow:Assets written to: /content/drive/MyDrive/Garvin/IEEE/saved_model/assets\n"
          ]
        },
        {
          "output_type": "stream",
          "name": "stderr",
          "text": [
            "INFO:tensorflow:Assets written to: /content/drive/MyDrive/Garvin/IEEE/saved_model/assets\n"
          ]
        }
      ]
    },
    {
      "cell_type": "code",
      "metadata": {
        "colab": {
          "base_uri": "https://localhost:8080/",
          "height": 370
        },
        "id": "KjGi8y2svMQu",
        "outputId": "39482f34-a40a-46ac-b41a-54adb6d5ba93"
      },
      "source": [
        "def Train_Val_Plot(acc,val_acc,loss,val_loss,auc,val_auc,precision,val_precision):\n",
        "    \n",
        "    fig, (ax1, ax2,ax3,ax4) = plt.subplots(1,4, figsize= (20,5))\n",
        "    fig.suptitle(\" MODEL'S METRICS VISUALIZATION \")\n",
        "\n",
        "    ax1.plot(range(1, len(acc) + 1), acc)\n",
        "    ax1.plot(range(1, len(val_acc) + 1), val_acc)\n",
        "    ax1.set_title('History of Accuracy')\n",
        "    ax1.set_xlabel('Epochs')\n",
        "    ax1.set_ylabel('Accuracy')\n",
        "    ax1.legend(['training', 'validation'])\n",
        "\n",
        "\n",
        "    ax2.plot(range(1, len(loss) + 1), loss)\n",
        "    ax2.plot(range(1, len(val_loss) + 1), val_loss)\n",
        "    ax2.set_title('History of Loss')\n",
        "    ax2.set_xlabel('Epochs')\n",
        "    ax2.set_ylabel('Loss')\n",
        "    ax2.legend(['training', 'validation'])\n",
        "    \n",
        "    ax3.plot(range(1, len(auc) + 1), auc)\n",
        "    ax3.plot(range(1, len(val_auc) + 1), val_auc)\n",
        "    ax3.set_title('History of AUC')\n",
        "    ax3.set_xlabel('Epochs')\n",
        "    ax3.set_ylabel('AUC')\n",
        "    ax3.legend(['training', 'validation'])\n",
        "    \n",
        "    ax4.plot(range(1, len(precision) + 1), precision)\n",
        "    ax4.plot(range(1, len(val_precision) + 1), val_precision)\n",
        "    ax4.set_title('History of Precision')\n",
        "    ax4.set_xlabel('Epochs')\n",
        "    ax4.set_ylabel('Precision')\n",
        "    ax4.legend(['training', 'validation'])\n",
        "    \n",
        "  \n",
        "    plt.show()\n",
        "    \n",
        "\n",
        "Train_Val_Plot(history.history['accuracy'],history.history['val_accuracy'],\n",
        "               history.history['loss'],history.history['val_loss'],\n",
        "               history.history['auc'],history.history['val_auc'],\n",
        "               history.history['precision'],history.history['val_precision']\n",
        "              )"
      ],
      "execution_count": null,
      "outputs": [
        {
          "output_type": "display_data",
          "data": {
            "image/png": "[encoded data removed]",
            "text/plain": [
              "<Figure size 1440x360 with 4 Axes>"
            ]
          },
          "metadata": {
            "needs_background": "light"
          }
        }
      ]
    },
    {
      "cell_type": "code",
      "metadata": {
        "colab": {
          "base_uri": "https://localhost:8080/"
        },
        "id": "tw_eSoQRvOzP",
        "outputId": "2d2b9952-5fdf-40bb-f7e9-57c976442f1c"
      },
      "source": [
        "scores = model.evaluate(test_dataset)"
      ],
      "execution_count": null,
      "outputs": [
        {
          "output_type": "stream",
          "name": "stdout",
          "text": [
            "40/40 [==============================] - 10s 238ms/step - loss: 0.9138 - accuracy: 0.7969 - precision: 0.6695 - recall: 0.3706 - auc: 0.8400 - f1_score: 0.4738\n"
          ]
        }
      ]
    },
    {
      "cell_type": "code",
      "metadata": {
        "colab": {
          "base_uri": "https://localhost:8080/"
        },
        "id": "gPrIFSUOvQxI",
        "outputId": "f4057070-65b1-498c-bbe4-b7d74f18c9f8"
      },
      "source": [
        "print(\"Accuracy = \", scores[1])\n",
        "print(\"Precision = \", scores[2])\n",
        "print(\"Recall = \", scores[3])\n",
        "print(\"AUC = \", scores[4])\n",
        "print(\"F1 = \", scores[5])"
      ],
      "execution_count": null,
      "outputs": [
        {
          "output_type": "stream",
          "name": "stdout",
          "text": [
            "Accuracy =  0.7969116568565369\n",
            "Precision =  0.6694915294647217\n",
            "Recall =  0.3706020414829254\n",
            "AUC =  0.8399645686149597\n",
            "F1 =  0.47383180260658264\n"
          ]
        }
      ]
    },
    {
      "cell_type": "code",
      "metadata": {
        "id": "07W4J_fdwbeO"
      },
      "source": [
        ""
      ],
      "execution_count": null,
      "outputs": []
    }
  ]
}