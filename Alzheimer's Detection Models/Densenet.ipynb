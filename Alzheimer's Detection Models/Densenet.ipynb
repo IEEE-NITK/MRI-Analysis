{
 "cells": [
  {
   "cell_type": "code",
   "execution_count": 1,
   "metadata": {
    "id": "pw2WNpqCkvsQ"
   },
   "outputs": [],
   "source": [
    "import numpy as np\n",
    "import pandas as pd\n",
    "import matplotlib.pyplot as plt\n",
    "import seaborn as sn\n",
    "import skimage.io\n",
    "import os \n",
    "import tqdm\n",
    "import glob\n",
    "import tensorflow \n",
    "\n",
    "\n",
    "from tqdm import tqdm\n",
    "from sklearn.utils import shuffle\n",
    "from sklearn import metrics\n",
    "from sklearn.metrics import confusion_matrix, classification_report\n",
    "from sklearn.model_selection import train_test_split\n",
    "\n",
    "import tensorflow as tf\n",
    "from tensorflow.keras.preprocessing.image import ImageDataGenerator\n",
    "from tensorflow.keras.preprocessing import image_dataset_from_directory\n",
    "from tensorflow.keras.models import Sequential\n",
    "from tensorflow.keras.layers import InputLayer, BatchNormalization, Dropout, Flatten, Dense, Activation, MaxPool2D, Conv2D\n",
    "from tensorflow.keras.callbacks import EarlyStopping, ModelCheckpoint\n",
    "from tensorflow.keras.applications.vgg16 import VGG16 # VGG16\n",
    "from tensorflow.keras.applications.vgg19 import VGG19 # VGG19\n",
    "from tensorflow.keras.applications.resnet50 import ResNet50 # ResNet50\n",
    "from tensorflow.keras.applications.xception import Xception # Xception\n",
    "from tensorflow.keras.applications.mobilenet import MobileNet # MobileNet\n",
    "from tensorflow.keras.applications.nasnet import NASNetMobile # NASNetMobile\n",
    "from tensorflow.keras.applications.densenet import DenseNet169 # DenseNet169\n",
    "from tensorflow.keras.applications.densenet import DenseNet121 # DenseNet121\n",
    "from tensorflow.keras.applications.mobilenet_v2 import MobileNetV2 # MobileNetV2\n",
    "from tensorflow.keras.applications.inception_v3 import InceptionV3\n",
    "from tensorflow.keras.utils import to_categorical\n",
    "from keras import optimizers\n",
    "\n",
    "import tensorflow as tf\n",
    "from tensorflow.keras.preprocessing.image import ImageDataGenerator\n",
    "from tensorflow.keras.preprocessing import image_dataset_from_directory\n",
    "from tensorflow.keras.models import Sequential\n",
    "from tensorflow.keras.layers import InputLayer, BatchNormalization, Dropout, Flatten, Dense, Activation, MaxPool2D, Conv2D\n",
    "from tensorflow.keras.callbacks import EarlyStopping, ModelCheckpoint\n",
    "from tensorflow.keras.applications.vgg16 import VGG16 # VGG16\n",
    "from tensorflow.keras.applications.vgg19 import VGG19 # VGG19\n",
    "from tensorflow.keras.applications.resnet50 import ResNet50 # ResNet50\n",
    "from tensorflow.keras.applications.xception import Xception # Xception\n",
    "from tensorflow.keras.applications.mobilenet import MobileNet # MobileNet\n",
    "from tensorflow.keras.applications.nasnet import NASNetMobile # NASNetMobile\n",
    "from tensorflow.keras.applications.densenet import DenseNet169 # DenseNet169\n",
    "from tensorflow.keras.applications.densenet import DenseNet121 # DenseNet121\n",
    "from tensorflow.keras.applications.mobilenet_v2 import MobileNetV2 # MobileNetV2\n",
    "from tensorflow.keras.applications.inception_v3 import InceptionV3\n",
    "from tensorflow.keras.utils import to_categorical\n",
    "from keras import optimizers\n"
   ]
  },
  {
   "cell_type": "code",
   "execution_count": 2,
   "metadata": {
    "colab": {
     "base_uri": "https://localhost:8080/"
    },
    "id": "ePZ45-b5q4Bc",
    "outputId": "4960f432-74ca-421e-f54b-864acb6bfc34"
   },
   "outputs": [
    {
     "name": "stdout",
     "output_type": "stream",
     "text": [
      "Drive already mounted at /content/drive; to attempt to forcibly remount, call drive.mount(\"/content/drive\", force_remount=True).\n"
     ]
    }
   ],
   "source": [
    "from google.colab import drive\n",
    "drive.mount('/content/drive')"
   ]
  },
  {
   "cell_type": "code",
   "execution_count": 3,
   "metadata": {
    "id": "JFQVJsRknRGI"
   },
   "outputs": [],
   "source": [
    "#Unziping the dataset\n",
    "\n",
    "!unzip -q \"/content/drive/MyDrive/Garvin/IEEE/Alzheimer's Disease Classification/Dataset.zip\""
   ]
  },
  {
   "cell_type": "code",
   "execution_count": 4,
   "metadata": {
    "id": "dWfEz433lj5C"
   },
   "outputs": [],
   "source": [
    "train_datagen = ImageDataGenerator(rescale = 1./255,\n",
    "                                   validation_split = 0.2,                         \n",
    "                                   rotation_range=5,\n",
    "                                   width_shift_range=0.2,\n",
    "                                   height_shift_range=0.2,\n",
    "                                   shear_range=0.2,\n",
    "                                   #zoom_range=0.2,\n",
    "                                   horizontal_flip=True,\n",
    "                                   vertical_flip=True,\n",
    "                                   fill_mode='nearest')\n",
    "\n",
    "valid_datagen = ImageDataGenerator(rescale = 1./255,\n",
    "                                  validation_split = 0.2)\n",
    "\n",
    "test_datagen  = ImageDataGenerator(rescale = 1./255)"
   ]
  },
  {
   "cell_type": "code",
   "execution_count": 5,
   "metadata": {
    "colab": {
     "base_uri": "https://localhost:8080/"
    },
    "id": "A934IDG9lrkp",
    "outputId": "617e2d04-fec2-463f-9e12-bec8bda42999"
   },
   "outputs": [
    {
     "name": "stdout",
     "output_type": "stream",
     "text": [
      "Found 4098 images belonging to 4 classes.\n"
     ]
    }
   ],
   "source": [
    "train_dataset  = train_datagen.flow_from_directory(directory = '/content/Alzheimer_s Dataset/train',\n",
    "                                                   target_size = (224,224),\n",
    "                                                   class_mode = 'categorical',\n",
    "                                                   subset = 'training',\n",
    "                                                   batch_size = 32)"
   ]
  },
  {
   "cell_type": "code",
   "execution_count": 6,
   "metadata": {
    "colab": {
     "base_uri": "https://localhost:8080/"
    },
    "id": "0MxAowO0ltpt",
    "outputId": "f100618a-de3d-440a-9cbd-635eda59a892"
   },
   "outputs": [
    {
     "name": "stdout",
     "output_type": "stream",
     "text": [
      "Found 1023 images belonging to 4 classes.\n"
     ]
    }
   ],
   "source": [
    "valid_dataset = valid_datagen.flow_from_directory(directory = '/content/Alzheimer_s Dataset/train',\n",
    "                                                  target_size = (224,224),\n",
    "                                                  class_mode = 'categorical',\n",
    "                                                  subset = 'validation',\n",
    "                                                  batch_size = 32)"
   ]
  },
  {
   "cell_type": "code",
   "execution_count": 7,
   "metadata": {
    "colab": {
     "base_uri": "https://localhost:8080/"
    },
    "id": "43Mkb456lwcI",
    "outputId": "76e9a911-3f60-49f3-eb71-f0a394ac9fe7"
   },
   "outputs": [
    {
     "name": "stdout",
     "output_type": "stream",
     "text": [
      "Found 1279 images belonging to 4 classes.\n"
     ]
    }
   ],
   "source": [
    "test_dataset = test_datagen.flow_from_directory(directory = '/content/Alzheimer_s Dataset/test',\n",
    "                                                  target_size = (224,224),\n",
    "                                                  class_mode = 'categorical',\n",
    "                                                  batch_size = 32)"
   ]
  },
  {
   "cell_type": "code",
   "execution_count": 8,
   "metadata": {
    "colab": {
     "base_uri": "https://localhost:8080/"
    },
    "id": "aI-2TgIEl1MV",
    "outputId": "189d6c45-25f1-48aa-c00f-112ae9f6c782"
   },
   "outputs": [
    {
     "name": "stdout",
     "output_type": "stream",
     "text": [
      "Downloading data from https://storage.googleapis.com/tensorflow/keras-applications/densenet/densenet121_weights_tf_dim_ordering_tf_kernels_notop.h5\n",
      "29089792/29084464 [==============================] - 1s 0us/step\n",
      "29097984/29084464 [==============================] - 1s 0us/step\n"
     ]
    }
   ],
   "source": [
    "base_model = DenseNet121(input_shape=(224,224,3), \n",
    "                   include_top=False,\n",
    "                   weights=\"imagenet\")"
   ]
  },
  {
   "cell_type": "code",
   "execution_count": 10,
   "metadata": {
    "id": "e9d5TAUWl5-w"
   },
   "outputs": [],
   "source": [
    "for layer in base_model.layers:\n",
    "    layer.trainable=False"
   ]
  },
  {
   "cell_type": "code",
   "execution_count": 11,
   "metadata": {
    "id": "023fI1k_mCU6"
   },
   "outputs": [],
   "source": [
    "# Building Model\n",
    "\n",
    "model=Sequential()\n",
    "model.add(base_model)\n",
    "model.add(Dropout(0.5))\n",
    "model.add(Flatten())\n",
    "model.add(BatchNormalization())\n",
    "model.add(Dense(64,kernel_initializer='he_uniform'))\n",
    "model.add(BatchNormalization())\n",
    "model.add(Activation('relu'))\n",
    "model.add(Dropout(0.5))\n",
    "model.add(Dense(64,kernel_initializer='he_uniform'))\n",
    "model.add(BatchNormalization())\n",
    "model.add(Activation('relu'))\n",
    "model.add(Dropout(0.5))\n",
    "model.add(Dense(64,kernel_initializer='he_uniform'))\n",
    "model.add(BatchNormalization())\n",
    "model.add(Activation('relu'))\n",
    "model.add(Dropout(0.5))\n",
    "model.add(Dense(32,kernel_initializer='he_uniform'))\n",
    "model.add(BatchNormalization())\n",
    "model.add(Activation('relu'))\n",
    "model.add(Dropout(0.5))\n",
    "model.add(Dense(32,kernel_initializer='he_uniform'))\n",
    "model.add(BatchNormalization())\n",
    "model.add(Activation('relu'))\n",
    "model.add(Dense(4,activation='softmax'))"
   ]
  },
  {
   "cell_type": "code",
   "execution_count": 12,
   "metadata": {
    "colab": {
     "base_uri": "https://localhost:8080/"
    },
    "id": "td4wECw3mJfa",
    "outputId": "5a7984d1-e4e5-4ea6-ba46-2540d08a30aa"
   },
   "outputs": [
    {
     "name": "stdout",
     "output_type": "stream",
     "text": [
      "Model: \"sequential\"\n",
      "_________________________________________________________________\n",
      "Layer (type)                 Output Shape              Param #   \n",
      "=================================================================\n",
      "densenet121 (Functional)     (None, 7, 7, 1024)        7037504   \n",
      "_________________________________________________________________\n",
      "dropout (Dropout)            (None, 7, 7, 1024)        0         \n",
      "_________________________________________________________________\n",
      "flatten (Flatten)            (None, 50176)             0         \n",
      "_________________________________________________________________\n",
      "batch_normalization (BatchNo (None, 50176)             200704    \n",
      "_________________________________________________________________\n",
      "dense (Dense)                (None, 64)                3211328   \n",
      "_________________________________________________________________\n",
      "batch_normalization_1 (Batch (None, 64)                256       \n",
      "_________________________________________________________________\n",
      "activation (Activation)      (None, 64)                0         \n",
      "_________________________________________________________________\n",
      "dropout_1 (Dropout)          (None, 64)                0         \n",
      "_________________________________________________________________\n",
      "dense_1 (Dense)              (None, 64)                4160      \n",
      "_________________________________________________________________\n",
      "batch_normalization_2 (Batch (None, 64)                256       \n",
      "_________________________________________________________________\n",
      "activation_1 (Activation)    (None, 64)                0         \n",
      "_________________________________________________________________\n",
      "dropout_2 (Dropout)          (None, 64)                0         \n",
      "_________________________________________________________________\n",
      "dense_2 (Dense)              (None, 64)                4160      \n",
      "_________________________________________________________________\n",
      "batch_normalization_3 (Batch (None, 64)                256       \n",
      "_________________________________________________________________\n",
      "activation_2 (Activation)    (None, 64)                0         \n",
      "_________________________________________________________________\n",
      "dropout_3 (Dropout)          (None, 64)                0         \n",
      "_________________________________________________________________\n",
      "dense_3 (Dense)              (None, 32)                2080      \n",
      "_________________________________________________________________\n",
      "batch_normalization_4 (Batch (None, 32)                128       \n",
      "_________________________________________________________________\n",
      "activation_3 (Activation)    (None, 32)                0         \n",
      "_________________________________________________________________\n",
      "dropout_4 (Dropout)          (None, 32)                0         \n",
      "_________________________________________________________________\n",
      "dense_4 (Dense)              (None, 32)                1056      \n",
      "_________________________________________________________________\n",
      "batch_normalization_5 (Batch (None, 32)                128       \n",
      "_________________________________________________________________\n",
      "activation_4 (Activation)    (None, 32)                0         \n",
      "_________________________________________________________________\n",
      "dense_5 (Dense)              (None, 4)                 132       \n",
      "=================================================================\n",
      "Total params: 10,462,148\n",
      "Trainable params: 3,323,780\n",
      "Non-trainable params: 7,138,368\n",
      "_________________________________________________________________\n"
     ]
    }
   ],
   "source": [
    "model.summary()"
   ]
  },
  {
   "cell_type": "code",
   "execution_count": 12,
   "metadata": {
    "id": "AH50-jkHmQ4j"
   },
   "outputs": [],
   "source": [
    "# def f1_score(y_true, y_pred): #taken from old keras source code\n",
    "#     true_positives = K.sum(K.round(K.clip(y_true * y_pred, 0, 1)))\n",
    "#     possible_positives = K.sum(K.round(K.clip(y_true, 0, 1)))\n",
    "#     predicted_positives = K.sum(K.round(K.clip(y_pred, 0, 1)))\n",
    "#     precision = true_positives / (predicted_positives + K.epsilon())\n",
    "#     recall = true_positives / (possible_positives + K.epsilon())\n",
    "#     f1_val = 2*(precision*recall)/(precision+recall+K.epsilon())\n",
    "#     return f1_val"
   ]
  },
  {
   "cell_type": "code",
   "execution_count": 13,
   "metadata": {
    "id": "CHua7ZlXmUWf"
   },
   "outputs": [],
   "source": [
    "METRICS = [\n",
    "      tf.keras.metrics.BinaryAccuracy(name='accuracy'),\n",
    "      tf.keras.metrics.Precision(name='precision'),\n",
    "      tf.keras.metrics.Recall(name='recall'),  \n",
    "      tf.keras.metrics.AUC(name='auc')\n",
    "        # f1_score,\n",
    "]"
   ]
  },
  {
   "cell_type": "code",
   "execution_count": 14,
   "metadata": {
    "id": "4uNdRle3mXZi"
   },
   "outputs": [],
   "source": [
    "def exponential_decay(lr0, s):\n",
    "    def exponential_decay_fn(epoch):\n",
    "        return lr0 * 0.1 **(epoch / s)\n",
    "    return exponential_decay_fn\n",
    "\n",
    "exponential_decay_fn = exponential_decay(0.01, 5) # when i run it for 50 epochs\n",
    "\n",
    "lr_scheduler = tf.keras.callbacks.LearningRateScheduler(exponential_decay_fn)"
   ]
  },
  {
   "cell_type": "code",
   "execution_count": 15,
   "metadata": {
    "id": "wbd9sZ8fm_0Q"
   },
   "outputs": [],
   "source": [
    "weights_file=os.path.join(\"/content/drive/MyDrive/Garvin/IEEE/Alzheimer's Disease Classification/model.hdf5\")\n",
    " \n",
    "checkpoint = ModelCheckpoint(weights_file, monitor='val_loss', verbose=1, \n",
    "                             save_best_only=True, mode='min', save_weights_only = True)\n",
    "\n",
    "callbacks= [checkpoint, lr_scheduler]"
   ]
  },
  {
   "cell_type": "code",
   "execution_count": 16,
   "metadata": {
    "id": "699AigaYmZ5g"
   },
   "outputs": [],
   "source": [
    "model.compile(optimizer='rmsprop', loss='categorical_crossentropy',metrics=METRICS)"
   ]
  },
  {
   "cell_type": "code",
   "execution_count": 17,
   "metadata": {
    "colab": {
     "base_uri": "https://localhost:8080/"
    },
    "id": "3uqGkhgymbcp",
    "outputId": "eb0e9117-d1a9-4461-8a51-b686c2d9f99f"
   },
   "outputs": [
    {
     "name": "stdout",
     "output_type": "stream",
     "text": [
      "Epoch 1/100\n",
      "129/129 [==============================] - 111s 552ms/step - loss: 1.0894 - accuracy: 0.7416 - precision: 0.4649 - recall: 0.2216 - auc: 0.7645 - val_loss: 1.0521 - val_accuracy: 0.7827 - val_precision: 0.6264 - val_recall: 0.3245 - val_auc: 0.7975\n",
      "\n",
      "Epoch 00001: val_loss improved from inf to 1.05206, saving model to /content/drive/MyDrive/Garvin/IEEE/Alzheimer's Disease Classification/model.hdf5\n",
      "Epoch 2/100\n",
      "129/129 [==============================] - 66s 514ms/step - loss: 1.0521 - accuracy: 0.7504 - precision: 0.5016 - recall: 0.2240 - auc: 0.7806 - val_loss: 1.0749 - val_accuracy: 0.7495 - val_precision: 0.0000e+00 - val_recall: 0.0000e+00 - val_auc: 0.7436\n",
      "\n",
      "Epoch 00002: val_loss did not improve from 1.05206\n",
      "Epoch 3/100\n",
      "129/129 [==============================] - 67s 517ms/step - loss: 1.0410 - accuracy: 0.7582 - precision: 0.5468 - recall: 0.1925 - auc: 0.7857 - val_loss: 1.0182 - val_accuracy: 0.7840 - val_precision: 0.6815 - val_recall: 0.2551 - val_auc: 0.8045\n",
      "\n",
      "Epoch 00003: val_loss improved from 1.05206 to 1.01825, saving model to /content/drive/MyDrive/Garvin/IEEE/Alzheimer's Disease Classification/model.hdf5\n",
      "Epoch 4/100\n",
      "129/129 [==============================] - 67s 520ms/step - loss: 1.0228 - accuracy: 0.7699 - precision: 0.6119 - recall: 0.2182 - auc: 0.7956 - val_loss: 0.9840 - val_accuracy: 0.7876 - val_precision: 0.7437 - val_recall: 0.2297 - val_auc: 0.8121\n",
      "\n",
      "Epoch 00004: val_loss improved from 1.01825 to 0.98395, saving model to /content/drive/MyDrive/Garvin/IEEE/Alzheimer's Disease Classification/model.hdf5\n",
      "Epoch 5/100\n",
      "129/129 [==============================] - 66s 510ms/step - loss: 1.0046 - accuracy: 0.7753 - precision: 0.6496 - recall: 0.2194 - auc: 0.8016 - val_loss: 0.9769 - val_accuracy: 0.7886 - val_precision: 0.7705 - val_recall: 0.2199 - val_auc: 0.8132\n",
      "\n",
      "Epoch 00005: val_loss improved from 0.98395 to 0.97686, saving model to /content/drive/MyDrive/Garvin/IEEE/Alzheimer's Disease Classification/model.hdf5\n",
      "Epoch 6/100\n",
      "129/129 [==============================] - 66s 513ms/step - loss: 0.9921 - accuracy: 0.7788 - precision: 0.6723 - recall: 0.2247 - auc: 0.8055 - val_loss: 0.9620 - val_accuracy: 0.7901 - val_precision: 0.7060 - val_recall: 0.2747 - val_auc: 0.8150\n",
      "\n",
      "Epoch 00006: val_loss improved from 0.97686 to 0.96201, saving model to /content/drive/MyDrive/Garvin/IEEE/Alzheimer's Disease Classification/model.hdf5\n",
      "Epoch 7/100\n",
      "129/129 [==============================] - 66s 510ms/step - loss: 0.9839 - accuracy: 0.7829 - precision: 0.6989 - recall: 0.2311 - auc: 0.8086 - val_loss: 0.9559 - val_accuracy: 0.7903 - val_precision: 0.7165 - val_recall: 0.2669 - val_auc: 0.8212\n",
      "\n",
      "Epoch 00007: val_loss improved from 0.96201 to 0.95589, saving model to /content/drive/MyDrive/Garvin/IEEE/Alzheimer's Disease Classification/model.hdf5\n",
      "Epoch 8/100\n",
      "129/129 [==============================] - 66s 512ms/step - loss: 0.9755 - accuracy: 0.7848 - precision: 0.7077 - recall: 0.2369 - auc: 0.8130 - val_loss: 0.9542 - val_accuracy: 0.7920 - val_precision: 0.7529 - val_recall: 0.2502 - val_auc: 0.8242\n",
      "\n",
      "Epoch 00008: val_loss improved from 0.95589 to 0.95415, saving model to /content/drive/MyDrive/Garvin/IEEE/Alzheimer's Disease Classification/model.hdf5\n",
      "Epoch 9/100\n",
      "129/129 [==============================] - 66s 508ms/step - loss: 0.9820 - accuracy: 0.7829 - precision: 0.6974 - recall: 0.2323 - auc: 0.8111 - val_loss: 0.9559 - val_accuracy: 0.7915 - val_precision: 0.7673 - val_recall: 0.2385 - val_auc: 0.8249\n",
      "\n",
      "Epoch 00009: val_loss did not improve from 0.95415\n",
      "Epoch 10/100\n",
      "129/129 [==============================] - 66s 508ms/step - loss: 0.9728 - accuracy: 0.7866 - precision: 0.7219 - recall: 0.2382 - auc: 0.8135 - val_loss: 0.9543 - val_accuracy: 0.7928 - val_precision: 0.7628 - val_recall: 0.2483 - val_auc: 0.8248\n",
      "\n",
      "Epoch 00010: val_loss did not improve from 0.95415\n",
      "Epoch 11/100\n",
      "129/129 [==============================] - 66s 508ms/step - loss: 0.9865 - accuracy: 0.7810 - precision: 0.6930 - recall: 0.2225 - auc: 0.8083 - val_loss: 0.9564 - val_accuracy: 0.7923 - val_precision: 0.7678 - val_recall: 0.2424 - val_auc: 0.8251\n",
      "\n",
      "Epoch 00011: val_loss did not improve from 0.95415\n",
      "Epoch 12/100\n",
      "129/129 [==============================] - 66s 514ms/step - loss: 0.9829 - accuracy: 0.7819 - precision: 0.6927 - recall: 0.2294 - auc: 0.8098 - val_loss: 0.9561 - val_accuracy: 0.7925 - val_precision: 0.7736 - val_recall: 0.2405 - val_auc: 0.8241\n",
      "\n",
      "Epoch 00012: val_loss did not improve from 0.95415\n",
      "Epoch 13/100\n",
      "129/129 [==============================] - 66s 510ms/step - loss: 0.9804 - accuracy: 0.7826 - precision: 0.6934 - recall: 0.2340 - auc: 0.8097 - val_loss: 0.9550 - val_accuracy: 0.7933 - val_precision: 0.7706 - val_recall: 0.2463 - val_auc: 0.8242\n",
      "\n",
      "Epoch 00013: val_loss did not improve from 0.95415\n",
      "Epoch 14/100\n",
      "129/129 [==============================] - 66s 511ms/step - loss: 0.9818 - accuracy: 0.7849 - precision: 0.7119 - recall: 0.2345 - auc: 0.8134 - val_loss: 0.9558 - val_accuracy: 0.7928 - val_precision: 0.7743 - val_recall: 0.2414 - val_auc: 0.8257\n",
      "\n",
      "Epoch 00014: val_loss did not improve from 0.95415\n",
      "Epoch 15/100\n",
      "129/129 [==============================] - 66s 515ms/step - loss: 0.9804 - accuracy: 0.7836 - precision: 0.7043 - recall: 0.2313 - auc: 0.8132 - val_loss: 0.9571 - val_accuracy: 0.7908 - val_precision: 0.7702 - val_recall: 0.2326 - val_auc: 0.8245\n",
      "\n",
      "Epoch 00015: val_loss did not improve from 0.95415\n",
      "Epoch 16/100\n",
      "129/129 [==============================] - 66s 510ms/step - loss: 0.9737 - accuracy: 0.7858 - precision: 0.7229 - recall: 0.2323 - auc: 0.8131 - val_loss: 0.9575 - val_accuracy: 0.7913 - val_precision: 0.7770 - val_recall: 0.2317 - val_auc: 0.8242\n",
      "\n",
      "Epoch 00016: val_loss did not improve from 0.95415\n",
      "Epoch 17/100\n",
      "129/129 [==============================] - 65s 504ms/step - loss: 0.9811 - accuracy: 0.7841 - precision: 0.7057 - recall: 0.2340 - auc: 0.8120 - val_loss: 0.9556 - val_accuracy: 0.7923 - val_precision: 0.7712 - val_recall: 0.2405 - val_auc: 0.8242\n",
      "\n",
      "Epoch 00017: val_loss did not improve from 0.95415\n",
      "Epoch 18/100\n",
      "129/129 [==============================] - 66s 515ms/step - loss: 0.9739 - accuracy: 0.7846 - precision: 0.7136 - recall: 0.2311 - auc: 0.8120 - val_loss: 0.9565 - val_accuracy: 0.7915 - val_precision: 0.7707 - val_recall: 0.2366 - val_auc: 0.8250\n",
      "\n",
      "Epoch 00018: val_loss did not improve from 0.95415\n",
      "Epoch 19/100\n",
      "129/129 [==============================] - 66s 509ms/step - loss: 0.9739 - accuracy: 0.7829 - precision: 0.6991 - recall: 0.2313 - auc: 0.8121 - val_loss: 0.9569 - val_accuracy: 0.7913 - val_precision: 0.7752 - val_recall: 0.2326 - val_auc: 0.8254\n",
      "\n",
      "Epoch 00019: val_loss did not improve from 0.95415\n",
      "Epoch 20/100\n",
      "129/129 [==============================] - 66s 510ms/step - loss: 0.9702 - accuracy: 0.7842 - precision: 0.7080 - recall: 0.2326 - auc: 0.8140 - val_loss: 0.9559 - val_accuracy: 0.7923 - val_precision: 0.7729 - val_recall: 0.2395 - val_auc: 0.8241\n",
      "\n",
      "Epoch 00020: val_loss did not improve from 0.95415\n",
      "Epoch 21/100\n",
      "129/129 [==============================] - 66s 510ms/step - loss: 0.9806 - accuracy: 0.7852 - precision: 0.7114 - recall: 0.2369 - auc: 0.8132 - val_loss: 0.9560 - val_accuracy: 0.7915 - val_precision: 0.7707 - val_recall: 0.2366 - val_auc: 0.8243\n",
      "\n",
      "Epoch 00021: val_loss did not improve from 0.95415\n",
      "Epoch 22/100\n",
      "129/129 [==============================] - 65s 505ms/step - loss: 0.9757 - accuracy: 0.7831 - precision: 0.7016 - recall: 0.2306 - auc: 0.8139 - val_loss: 0.9570 - val_accuracy: 0.7913 - val_precision: 0.7717 - val_recall: 0.2346 - val_auc: 0.8244\n",
      "\n",
      "Epoch 00022: val_loss did not improve from 0.95415\n",
      "Epoch 23/100\n",
      "129/129 [==============================] - 65s 505ms/step - loss: 0.9829 - accuracy: 0.7842 - precision: 0.7090 - recall: 0.2318 - auc: 0.8131 - val_loss: 0.9555 - val_accuracy: 0.7928 - val_precision: 0.7709 - val_recall: 0.2434 - val_auc: 0.8238\n",
      "\n",
      "Epoch 00023: val_loss did not improve from 0.95415\n",
      "Epoch 24/100\n",
      "129/129 [==============================] - 65s 507ms/step - loss: 0.9801 - accuracy: 0.7837 - precision: 0.7026 - recall: 0.2340 - auc: 0.8118 - val_loss: 0.9557 - val_accuracy: 0.7920 - val_precision: 0.7722 - val_recall: 0.2385 - val_auc: 0.8238\n",
      "\n",
      "Epoch 00024: val_loss did not improve from 0.95415\n",
      "Epoch 25/100\n",
      "129/129 [==============================] - 65s 500ms/step - loss: 0.9791 - accuracy: 0.7818 - precision: 0.6917 - recall: 0.2294 - auc: 0.8140 - val_loss: 0.9553 - val_accuracy: 0.7930 - val_precision: 0.7750 - val_recall: 0.2424 - val_auc: 0.8242\n",
      "\n",
      "Epoch 00025: val_loss did not improve from 0.95415\n",
      "Epoch 26/100\n",
      "129/129 [==============================] - 65s 504ms/step - loss: 0.9802 - accuracy: 0.7830 - precision: 0.6979 - recall: 0.2328 - auc: 0.8131 - val_loss: 0.9557 - val_accuracy: 0.7925 - val_precision: 0.7736 - val_recall: 0.2405 - val_auc: 0.8239\n",
      "\n",
      "Epoch 00026: val_loss did not improve from 0.95415\n",
      "Epoch 27/100\n",
      "129/129 [==============================] - 65s 503ms/step - loss: 0.9920 - accuracy: 0.7839 - precision: 0.7081 - recall: 0.2308 - auc: 0.8084 - val_loss: 0.9572 - val_accuracy: 0.7911 - val_precision: 0.7727 - val_recall: 0.2326 - val_auc: 0.8243\n",
      "\n",
      "Epoch 00027: val_loss did not improve from 0.95415\n",
      "Epoch 28/100\n",
      "129/129 [==============================] - 66s 507ms/step - loss: 0.9794 - accuracy: 0.7818 - precision: 0.6983 - recall: 0.2243 - auc: 0.8101 - val_loss: 0.9573 - val_accuracy: 0.7908 - val_precision: 0.7720 - val_recall: 0.2317 - val_auc: 0.8250\n",
      "\n",
      "Epoch 00028: val_loss did not improve from 0.95415\n",
      "Epoch 29/100\n",
      "129/129 [==============================] - 65s 501ms/step - loss: 0.9737 - accuracy: 0.7862 - precision: 0.7162 - recall: 0.2401 - auc: 0.8145 - val_loss: 0.9570 - val_accuracy: 0.7911 - val_precision: 0.7781 - val_recall: 0.2297 - val_auc: 0.8252\n",
      "\n",
      "Epoch 00029: val_loss did not improve from 0.95415\n",
      "Epoch 30/100\n",
      "129/129 [==============================] - 67s 516ms/step - loss: 0.9803 - accuracy: 0.7828 - precision: 0.7026 - recall: 0.2277 - auc: 0.8108 - val_loss: 0.9582 - val_accuracy: 0.7906 - val_precision: 0.7804 - val_recall: 0.2258 - val_auc: 0.8240\n",
      "\n",
      "Epoch 00030: val_loss did not improve from 0.95415\n",
      "Epoch 31/100\n",
      "129/129 [==============================] - 67s 519ms/step - loss: 0.9791 - accuracy: 0.7842 - precision: 0.7035 - recall: 0.2362 - auc: 0.8117 - val_loss: 0.9560 - val_accuracy: 0.7920 - val_precision: 0.7739 - val_recall: 0.2375 - val_auc: 0.8243\n",
      "\n",
      "Epoch 00031: val_loss did not improve from 0.95415\n",
      "Epoch 32/100\n",
      "129/129 [==============================] - 66s 509ms/step - loss: 0.9835 - accuracy: 0.7819 - precision: 0.7001 - recall: 0.2233 - auc: 0.8089 - val_loss: 0.9565 - val_accuracy: 0.7925 - val_precision: 0.7753 - val_recall: 0.2395 - val_auc: 0.8250\n",
      "\n",
      "Epoch 00032: val_loss did not improve from 0.95415\n",
      "Epoch 33/100\n",
      "129/129 [==============================] - 65s 507ms/step - loss: 0.9771 - accuracy: 0.7837 - precision: 0.7038 - recall: 0.2330 - auc: 0.8132 - val_loss: 0.9567 - val_accuracy: 0.7918 - val_precision: 0.7767 - val_recall: 0.2346 - val_auc: 0.8242\n",
      "\n",
      "Epoch 00033: val_loss did not improve from 0.95415\n",
      "Epoch 34/100\n",
      "129/129 [==============================] - 66s 510ms/step - loss: 0.9796 - accuracy: 0.7845 - precision: 0.7131 - recall: 0.2311 - auc: 0.8133 - val_loss: 0.9569 - val_accuracy: 0.7915 - val_precision: 0.7760 - val_recall: 0.2336 - val_auc: 0.8244\n",
      "\n",
      "Epoch 00034: val_loss did not improve from 0.95415\n",
      "Epoch 35/100\n",
      "129/129 [==============================] - 67s 517ms/step - loss: 0.9806 - accuracy: 0.7843 - precision: 0.7141 - recall: 0.2291 - auc: 0.8104 - val_loss: 0.9583 - val_accuracy: 0.7911 - val_precision: 0.7781 - val_recall: 0.2297 - val_auc: 0.8250\n",
      "\n",
      "Epoch 00035: val_loss did not improve from 0.95415\n",
      "Epoch 36/100\n",
      "129/129 [==============================] - 66s 512ms/step - loss: 0.9808 - accuracy: 0.7862 - precision: 0.7171 - recall: 0.2394 - auc: 0.8133 - val_loss: 0.9578 - val_accuracy: 0.7903 - val_precision: 0.7778 - val_recall: 0.2258 - val_auc: 0.8243\n",
      "\n",
      "Epoch 00036: val_loss did not improve from 0.95415\n",
      "Epoch 37/100\n",
      "129/129 [==============================] - 65s 504ms/step - loss: 0.9836 - accuracy: 0.7835 - precision: 0.7020 - recall: 0.2328 - auc: 0.8111 - val_loss: 0.9572 - val_accuracy: 0.7908 - val_precision: 0.7720 - val_recall: 0.2317 - val_auc: 0.8247\n",
      "\n",
      "Epoch 00037: val_loss did not improve from 0.95415\n",
      "Epoch 38/100\n",
      "129/129 [==============================] - 64s 496ms/step - loss: 0.9856 - accuracy: 0.7845 - precision: 0.7079 - recall: 0.2347 - auc: 0.8123 - val_loss: 0.9560 - val_accuracy: 0.7915 - val_precision: 0.7724 - val_recall: 0.2356 - val_auc: 0.8243\n",
      "\n",
      "Epoch 00038: val_loss did not improve from 0.95415\n",
      "Epoch 39/100\n",
      "129/129 [==============================] - 64s 495ms/step - loss: 0.9842 - accuracy: 0.7850 - precision: 0.7066 - recall: 0.2391 - auc: 0.8106 - val_loss: 0.9552 - val_accuracy: 0.7920 - val_precision: 0.7722 - val_recall: 0.2385 - val_auc: 0.8243\n",
      "\n",
      "Epoch 00039: val_loss did not improve from 0.95415\n",
      "Epoch 40/100\n",
      "129/129 [==============================] - 64s 495ms/step - loss: 0.9861 - accuracy: 0.7847 - precision: 0.7091 - recall: 0.2350 - auc: 0.8100 - val_loss: 0.9571 - val_accuracy: 0.7913 - val_precision: 0.7717 - val_recall: 0.2346 - val_auc: 0.8251\n",
      "\n",
      "Epoch 00040: val_loss did not improve from 0.95415\n",
      "Epoch 41/100\n",
      "129/129 [==============================] - 63s 491ms/step - loss: 0.9757 - accuracy: 0.7838 - precision: 0.7108 - recall: 0.2279 - auc: 0.8119 - val_loss: 0.9577 - val_accuracy: 0.7913 - val_precision: 0.7789 - val_recall: 0.2307 - val_auc: 0.8257\n",
      "\n",
      "Epoch 00041: val_loss did not improve from 0.95415\n",
      "Epoch 42/100\n",
      "129/129 [==============================] - 64s 497ms/step - loss: 0.9703 - accuracy: 0.7848 - precision: 0.7169 - recall: 0.2299 - auc: 0.8131 - val_loss: 0.9586 - val_accuracy: 0.7903 - val_precision: 0.7778 - val_recall: 0.2258 - val_auc: 0.8254\n",
      "\n",
      "Epoch 00042: val_loss did not improve from 0.95415\n",
      "Epoch 43/100\n",
      "129/129 [==============================] - 64s 498ms/step - loss: 0.9709 - accuracy: 0.7868 - precision: 0.7264 - recall: 0.2365 - auc: 0.8130 - val_loss: 0.9563 - val_accuracy: 0.7923 - val_precision: 0.7729 - val_recall: 0.2395 - val_auc: 0.8246\n",
      "\n",
      "Epoch 00043: val_loss did not improve from 0.95415\n",
      "Epoch 44/100\n",
      "129/129 [==============================] - 64s 498ms/step - loss: 0.9762 - accuracy: 0.7855 - precision: 0.7208 - recall: 0.2318 - auc: 0.8129 - val_loss: 0.9572 - val_accuracy: 0.7911 - val_precision: 0.7745 - val_recall: 0.2317 - val_auc: 0.8241\n",
      "\n",
      "Epoch 00044: val_loss did not improve from 0.95415\n",
      "Epoch 45/100\n",
      "129/129 [==============================] - 65s 500ms/step - loss: 0.9759 - accuracy: 0.7827 - precision: 0.6951 - recall: 0.2330 - auc: 0.8114 - val_loss: 0.9560 - val_accuracy: 0.7913 - val_precision: 0.7717 - val_recall: 0.2346 - val_auc: 0.8243\n",
      "\n",
      "Epoch 00045: val_loss did not improve from 0.95415\n",
      "Epoch 46/100\n",
      "129/129 [==============================] - 65s 506ms/step - loss: 0.9805 - accuracy: 0.7835 - precision: 0.7038 - recall: 0.2313 - auc: 0.8141 - val_loss: 0.9573 - val_accuracy: 0.7913 - val_precision: 0.7789 - val_recall: 0.2307 - val_auc: 0.8235\n",
      "\n",
      "Epoch 00046: val_loss did not improve from 0.95415\n",
      "Epoch 47/100\n",
      "129/129 [==============================] - 66s 511ms/step - loss: 0.9763 - accuracy: 0.7851 - precision: 0.7170 - recall: 0.2318 - auc: 0.8142 - val_loss: 0.9586 - val_accuracy: 0.7906 - val_precision: 0.7823 - val_recall: 0.2248 - val_auc: 0.8244\n",
      "\n",
      "Epoch 00047: val_loss did not improve from 0.95415\n",
      "Epoch 48/100\n",
      "129/129 [==============================] - 66s 508ms/step - loss: 0.9753 - accuracy: 0.7847 - precision: 0.7088 - recall: 0.2352 - auc: 0.8129 - val_loss: 0.9588 - val_accuracy: 0.7901 - val_precision: 0.7789 - val_recall: 0.2239 - val_auc: 0.8239\n",
      "\n",
      "Epoch 00048: val_loss did not improve from 0.95415\n",
      "Epoch 49/100\n",
      "129/129 [==============================] - 66s 509ms/step - loss: 0.9737 - accuracy: 0.7839 - precision: 0.7100 - recall: 0.2294 - auc: 0.8127 - val_loss: 0.9588 - val_accuracy: 0.7906 - val_precision: 0.7823 - val_recall: 0.2248 - val_auc: 0.8253\n",
      "\n",
      "Epoch 00049: val_loss did not improve from 0.95415\n",
      "Epoch 50/100\n",
      "129/129 [==============================] - 66s 512ms/step - loss: 0.9772 - accuracy: 0.7842 - precision: 0.7077 - recall: 0.2328 - auc: 0.8122 - val_loss: 0.9575 - val_accuracy: 0.7911 - val_precision: 0.7800 - val_recall: 0.2287 - val_auc: 0.8246\n",
      "\n",
      "Epoch 00050: val_loss did not improve from 0.95415\n",
      "Epoch 51/100\n",
      "129/129 [==============================] - 66s 507ms/step - loss: 0.9753 - accuracy: 0.7851 - precision: 0.7072 - recall: 0.2399 - auc: 0.8129 - val_loss: 0.9551 - val_accuracy: 0.7930 - val_precision: 0.7733 - val_recall: 0.2434 - val_auc: 0.8250\n",
      "\n",
      "Epoch 00051: val_loss did not improve from 0.95415\n",
      "Epoch 52/100\n",
      "129/129 [==============================] - 65s 502ms/step - loss: 0.9791 - accuracy: 0.7837 - precision: 0.7009 - recall: 0.2350 - auc: 0.8147 - val_loss: 0.9556 - val_accuracy: 0.7920 - val_precision: 0.7739 - val_recall: 0.2375 - val_auc: 0.8243\n",
      "\n",
      "Epoch 00052: val_loss did not improve from 0.95415\n",
      "Epoch 53/100\n",
      "129/129 [==============================] - 65s 501ms/step - loss: 0.9723 - accuracy: 0.7845 - precision: 0.7135 - recall: 0.2304 - auc: 0.8161 - val_loss: 0.9551 - val_accuracy: 0.7935 - val_precision: 0.7747 - val_recall: 0.2454 - val_auc: 0.8241\n",
      "\n",
      "Epoch 00053: val_loss did not improve from 0.95415\n",
      "Epoch 54/100\n",
      "129/129 [==============================] - 64s 493ms/step - loss: 0.9824 - accuracy: 0.7834 - precision: 0.7051 - recall: 0.2299 - auc: 0.8107 - val_loss: 0.9566 - val_accuracy: 0.7911 - val_precision: 0.7692 - val_recall: 0.2346 - val_auc: 0.8244\n",
      "\n",
      "Epoch 00054: val_loss did not improve from 0.95415\n",
      "Epoch 55/100\n",
      "129/129 [==============================] - 63s 492ms/step - loss: 0.9842 - accuracy: 0.7857 - precision: 0.7181 - recall: 0.2350 - auc: 0.8132 - val_loss: 0.9551 - val_accuracy: 0.7935 - val_precision: 0.7764 - val_recall: 0.2444 - val_auc: 0.8246\n",
      "\n",
      "Epoch 00055: val_loss did not improve from 0.95415\n",
      "Epoch 56/100\n",
      "129/129 [==============================] - 64s 498ms/step - loss: 0.9785 - accuracy: 0.7835 - precision: 0.7100 - recall: 0.2265 - auc: 0.8109 - val_loss: 0.9592 - val_accuracy: 0.7906 - val_precision: 0.7804 - val_recall: 0.2258 - val_auc: 0.8247\n",
      "\n",
      "Epoch 00056: val_loss did not improve from 0.95415\n",
      "Epoch 57/100\n",
      "129/129 [==============================] - 64s 498ms/step - loss: 0.9760 - accuracy: 0.7845 - precision: 0.7137 - recall: 0.2306 - auc: 0.8115 - val_loss: 0.9583 - val_accuracy: 0.7903 - val_precision: 0.7778 - val_recall: 0.2258 - val_auc: 0.8233\n",
      "\n",
      "Epoch 00057: val_loss did not improve from 0.95415\n",
      "Epoch 58/100\n",
      "129/129 [==============================] - 65s 499ms/step - loss: 0.9850 - accuracy: 0.7848 - precision: 0.7107 - recall: 0.2350 - auc: 0.8127 - val_loss: 0.9566 - val_accuracy: 0.7918 - val_precision: 0.7732 - val_recall: 0.2366 - val_auc: 0.8250\n",
      "\n",
      "Epoch 00058: val_loss did not improve from 0.95415\n",
      "Epoch 59/100\n",
      "129/129 [==============================] - 64s 499ms/step - loss: 0.9753 - accuracy: 0.7849 - precision: 0.7134 - recall: 0.2333 - auc: 0.8117 - val_loss: 0.9579 - val_accuracy: 0.7908 - val_precision: 0.7811 - val_recall: 0.2268 - val_auc: 0.8242\n",
      "\n",
      "Epoch 00059: val_loss did not improve from 0.95415\n",
      "Epoch 60/100\n",
      "129/129 [==============================] - 65s 500ms/step - loss: 0.9722 - accuracy: 0.7865 - precision: 0.7288 - recall: 0.2328 - auc: 0.8140 - val_loss: 0.9580 - val_accuracy: 0.7915 - val_precision: 0.7833 - val_recall: 0.2297 - val_auc: 0.8256\n",
      "\n",
      "Epoch 00060: val_loss did not improve from 0.95415\n",
      "Epoch 61/100\n",
      "129/129 [==============================] - 65s 500ms/step - loss: 0.9875 - accuracy: 0.7827 - precision: 0.6968 - recall: 0.2316 - auc: 0.8090 - val_loss: 0.9578 - val_accuracy: 0.7906 - val_precision: 0.7785 - val_recall: 0.2268 - val_auc: 0.8238\n",
      "\n",
      "Epoch 00061: val_loss did not improve from 0.95415\n",
      "Epoch 62/100\n",
      "129/129 [==============================] - 65s 501ms/step - loss: 0.9767 - accuracy: 0.7823 - precision: 0.6981 - recall: 0.2274 - auc: 0.8117 - val_loss: 0.9568 - val_accuracy: 0.7915 - val_precision: 0.7724 - val_recall: 0.2356 - val_auc: 0.8247\n",
      "\n",
      "Epoch 00062: val_loss did not improve from 0.95415\n",
      "Epoch 63/100\n",
      "129/129 [==============================] - 66s 509ms/step - loss: 0.9721 - accuracy: 0.7847 - precision: 0.7106 - recall: 0.2343 - auc: 0.8119 - val_loss: 0.9584 - val_accuracy: 0.7906 - val_precision: 0.7730 - val_recall: 0.2297 - val_auc: 0.8248\n",
      "\n",
      "Epoch 00063: val_loss did not improve from 0.95415\n",
      "Epoch 64/100\n",
      "129/129 [==============================] - 65s 506ms/step - loss: 0.9778 - accuracy: 0.7821 - precision: 0.6939 - recall: 0.2301 - auc: 0.8130 - val_loss: 0.9559 - val_accuracy: 0.7930 - val_precision: 0.7750 - val_recall: 0.2424 - val_auc: 0.8252\n",
      "\n",
      "Epoch 00064: val_loss did not improve from 0.95415\n",
      "Epoch 65/100\n",
      "129/129 [==============================] - 65s 505ms/step - loss: 0.9798 - accuracy: 0.7839 - precision: 0.7072 - recall: 0.2316 - auc: 0.8111 - val_loss: 0.9566 - val_accuracy: 0.7915 - val_precision: 0.7724 - val_recall: 0.2356 - val_auc: 0.8246\n",
      "\n",
      "Epoch 00065: val_loss did not improve from 0.95415\n",
      "Epoch 66/100\n",
      "129/129 [==============================] - 66s 507ms/step - loss: 0.9718 - accuracy: 0.7831 - precision: 0.7043 - recall: 0.2284 - auc: 0.8145 - val_loss: 0.9584 - val_accuracy: 0.7908 - val_precision: 0.7720 - val_recall: 0.2317 - val_auc: 0.8242\n",
      "\n",
      "Epoch 00066: val_loss did not improve from 0.95415\n",
      "Epoch 67/100\n",
      "129/129 [==============================] - 65s 503ms/step - loss: 0.9843 - accuracy: 0.7827 - precision: 0.6985 - recall: 0.2301 - auc: 0.8113 - val_loss: 0.9584 - val_accuracy: 0.7903 - val_precision: 0.7797 - val_recall: 0.2248 - val_auc: 0.8252\n",
      "\n",
      "Epoch 00067: val_loss did not improve from 0.95415\n",
      "Epoch 68/100\n",
      "129/129 [==============================] - 64s 499ms/step - loss: 0.9863 - accuracy: 0.7829 - precision: 0.7040 - recall: 0.2269 - auc: 0.8107 - val_loss: 0.9579 - val_accuracy: 0.7901 - val_precision: 0.7752 - val_recall: 0.2258 - val_auc: 0.8241\n",
      "\n",
      "Epoch 00068: val_loss did not improve from 0.95415\n",
      "Epoch 69/100\n",
      "129/129 [==============================] - 65s 501ms/step - loss: 0.9723 - accuracy: 0.7867 - precision: 0.7253 - recall: 0.2365 - auc: 0.8152 - val_loss: 0.9572 - val_accuracy: 0.7915 - val_precision: 0.7707 - val_recall: 0.2366 - val_auc: 0.8249\n",
      "\n",
      "Epoch 00069: val_loss did not improve from 0.95415\n",
      "Epoch 70/100\n",
      "129/129 [==============================] - 65s 501ms/step - loss: 0.9783 - accuracy: 0.7837 - precision: 0.7035 - recall: 0.2333 - auc: 0.8119 - val_loss: 0.9561 - val_accuracy: 0.7915 - val_precision: 0.7707 - val_recall: 0.2366 - val_auc: 0.8244\n",
      "\n",
      "Epoch 00070: val_loss did not improve from 0.95415\n",
      "Epoch 71/100\n",
      "129/129 [==============================] - 65s 503ms/step - loss: 0.9698 - accuracy: 0.7848 - precision: 0.7161 - recall: 0.2308 - auc: 0.8156 - val_loss: 0.9575 - val_accuracy: 0.7911 - val_precision: 0.7727 - val_recall: 0.2326 - val_auc: 0.8255\n",
      "\n",
      "Epoch 00071: val_loss did not improve from 0.95415\n",
      "Epoch 72/100\n",
      "129/129 [==============================] - 64s 498ms/step - loss: 0.9757 - accuracy: 0.7851 - precision: 0.7100 - recall: 0.2372 - auc: 0.8123 - val_loss: 0.9562 - val_accuracy: 0.7915 - val_precision: 0.7724 - val_recall: 0.2356 - val_auc: 0.8242\n",
      "\n",
      "Epoch 00072: val_loss did not improve from 0.95415\n",
      "Epoch 73/100\n",
      "129/129 [==============================] - 64s 496ms/step - loss: 0.9790 - accuracy: 0.7840 - precision: 0.7071 - recall: 0.2321 - auc: 0.8128 - val_loss: 0.9569 - val_accuracy: 0.7918 - val_precision: 0.7732 - val_recall: 0.2366 - val_auc: 0.8233\n",
      "\n",
      "Epoch 00073: val_loss did not improve from 0.95415\n",
      "Epoch 74/100\n",
      "129/129 [==============================] - 64s 493ms/step - loss: 0.9783 - accuracy: 0.7836 - precision: 0.7058 - recall: 0.2301 - auc: 0.8121 - val_loss: 0.9577 - val_accuracy: 0.7911 - val_precision: 0.7727 - val_recall: 0.2326 - val_auc: 0.8239\n",
      "\n",
      "Epoch 00074: val_loss did not improve from 0.95415\n",
      "Epoch 75/100\n",
      "129/129 [==============================] - 64s 494ms/step - loss: 0.9807 - accuracy: 0.7840 - precision: 0.7070 - recall: 0.2326 - auc: 0.8123 - val_loss: 0.9591 - val_accuracy: 0.7903 - val_precision: 0.7797 - val_recall: 0.2248 - val_auc: 0.8252\n",
      "\n",
      "Epoch 00075: val_loss did not improve from 0.95415\n",
      "Epoch 76/100\n",
      "129/129 [==============================] - 63s 487ms/step - loss: 0.9767 - accuracy: 0.7846 - precision: 0.7089 - recall: 0.2347 - auc: 0.8116 - val_loss: 0.9581 - val_accuracy: 0.7911 - val_precision: 0.7781 - val_recall: 0.2297 - val_auc: 0.8245\n",
      "\n",
      "Epoch 00076: val_loss did not improve from 0.95415\n",
      "Epoch 77/100\n",
      "129/129 [==============================] - 64s 492ms/step - loss: 0.9805 - accuracy: 0.7853 - precision: 0.7140 - recall: 0.2357 - auc: 0.8145 - val_loss: 0.9569 - val_accuracy: 0.7915 - val_precision: 0.7707 - val_recall: 0.2366 - val_auc: 0.8238\n",
      "\n",
      "Epoch 00077: val_loss did not improve from 0.95415\n",
      "Epoch 78/100\n",
      "129/129 [==============================] - 63s 492ms/step - loss: 0.9880 - accuracy: 0.7817 - precision: 0.6955 - recall: 0.2257 - auc: 0.8079 - val_loss: 0.9569 - val_accuracy: 0.7918 - val_precision: 0.7732 - val_recall: 0.2366 - val_auc: 0.8252\n",
      "\n",
      "Epoch 00078: val_loss did not improve from 0.95415\n",
      "Epoch 79/100\n",
      "129/129 [==============================] - 64s 496ms/step - loss: 0.9828 - accuracy: 0.7818 - precision: 0.6922 - recall: 0.2294 - auc: 0.8112 - val_loss: 0.9566 - val_accuracy: 0.7913 - val_precision: 0.7717 - val_recall: 0.2346 - val_auc: 0.8242\n",
      "\n",
      "Epoch 00079: val_loss did not improve from 0.95415\n",
      "Epoch 80/100\n",
      "129/129 [==============================] - 64s 497ms/step - loss: 0.9721 - accuracy: 0.7845 - precision: 0.7115 - recall: 0.2323 - auc: 0.8159 - val_loss: 0.9563 - val_accuracy: 0.7920 - val_precision: 0.7722 - val_recall: 0.2385 - val_auc: 0.8251\n",
      "\n",
      "Epoch 00080: val_loss did not improve from 0.95415\n",
      "Epoch 81/100\n",
      "129/129 [==============================] - 64s 496ms/step - loss: 0.9858 - accuracy: 0.7847 - precision: 0.7107 - recall: 0.2338 - auc: 0.8125 - val_loss: 0.9568 - val_accuracy: 0.7915 - val_precision: 0.7707 - val_recall: 0.2366 - val_auc: 0.8235\n",
      "\n",
      "Epoch 00081: val_loss did not improve from 0.95415\n",
      "Epoch 82/100\n",
      "129/129 [==============================] - 63s 487ms/step - loss: 0.9882 - accuracy: 0.7818 - precision: 0.6957 - recall: 0.2260 - auc: 0.8076 - val_loss: 0.9578 - val_accuracy: 0.7911 - val_precision: 0.7781 - val_recall: 0.2297 - val_auc: 0.8241\n",
      "\n",
      "Epoch 00082: val_loss did not improve from 0.95415\n",
      "Epoch 83/100\n",
      "129/129 [==============================] - 64s 492ms/step - loss: 0.9723 - accuracy: 0.7850 - precision: 0.7169 - recall: 0.2311 - auc: 0.8127 - val_loss: 0.9567 - val_accuracy: 0.7913 - val_precision: 0.7752 - val_recall: 0.2326 - val_auc: 0.8241\n",
      "\n",
      "Epoch 00083: val_loss did not improve from 0.95415\n",
      "Epoch 84/100\n",
      "129/129 [==============================] - 64s 497ms/step - loss: 0.9767 - accuracy: 0.7836 - precision: 0.7036 - recall: 0.2323 - auc: 0.8137 - val_loss: 0.9567 - val_accuracy: 0.7918 - val_precision: 0.7732 - val_recall: 0.2366 - val_auc: 0.8240\n",
      "\n",
      "Epoch 00084: val_loss did not improve from 0.95415\n",
      "Epoch 85/100\n",
      "129/129 [==============================] - 64s 501ms/step - loss: 0.9764 - accuracy: 0.7862 - precision: 0.7181 - recall: 0.2387 - auc: 0.8149 - val_loss: 0.9587 - val_accuracy: 0.7908 - val_precision: 0.7811 - val_recall: 0.2268 - val_auc: 0.8251\n",
      "\n",
      "Epoch 00085: val_loss did not improve from 0.95415\n",
      "Epoch 86/100\n",
      "129/129 [==============================] - 64s 498ms/step - loss: 0.9764 - accuracy: 0.7828 - precision: 0.6999 - recall: 0.2299 - auc: 0.8147 - val_loss: 0.9574 - val_accuracy: 0.7913 - val_precision: 0.7717 - val_recall: 0.2346 - val_auc: 0.8239\n",
      "\n",
      "Epoch 00086: val_loss did not improve from 0.95415\n",
      "Epoch 87/100\n",
      "129/129 [==============================] - 64s 494ms/step - loss: 0.9866 - accuracy: 0.7806 - precision: 0.6859 - recall: 0.2260 - auc: 0.8073 - val_loss: 0.9571 - val_accuracy: 0.7913 - val_precision: 0.7700 - val_recall: 0.2356 - val_auc: 0.8244\n",
      "\n",
      "Epoch 00087: val_loss did not improve from 0.95415\n",
      "Epoch 88/100\n",
      "129/129 [==============================] - 64s 496ms/step - loss: 0.9686 - accuracy: 0.7871 - precision: 0.7249 - recall: 0.2391 - auc: 0.8103 - val_loss: 0.9576 - val_accuracy: 0.7913 - val_precision: 0.7807 - val_recall: 0.2297 - val_auc: 0.8241\n",
      "\n",
      "Epoch 00088: val_loss did not improve from 0.95415\n",
      "Epoch 89/100\n",
      "129/129 [==============================] - 64s 492ms/step - loss: 0.9721 - accuracy: 0.7859 - precision: 0.7203 - recall: 0.2350 - auc: 0.8114 - val_loss: 0.9565 - val_accuracy: 0.7915 - val_precision: 0.7707 - val_recall: 0.2366 - val_auc: 0.8240\n",
      "\n",
      "Epoch 00089: val_loss did not improve from 0.95415\n",
      "Epoch 90/100\n",
      "129/129 [==============================] - 64s 494ms/step - loss: 0.9800 - accuracy: 0.7852 - precision: 0.7174 - recall: 0.2323 - auc: 0.8120 - val_loss: 0.9561 - val_accuracy: 0.7915 - val_precision: 0.7707 - val_recall: 0.2366 - val_auc: 0.8253\n",
      "\n",
      "Epoch 00090: val_loss did not improve from 0.95415\n",
      "Epoch 91/100\n",
      "129/129 [==============================] - 64s 493ms/step - loss: 0.9766 - accuracy: 0.7850 - precision: 0.7111 - recall: 0.2355 - auc: 0.8148 - val_loss: 0.9573 - val_accuracy: 0.7908 - val_precision: 0.7756 - val_recall: 0.2297 - val_auc: 0.8258\n",
      "\n",
      "Epoch 00091: val_loss did not improve from 0.95415\n",
      "Epoch 92/100\n",
      "129/129 [==============================] - 64s 495ms/step - loss: 0.9838 - accuracy: 0.7837 - precision: 0.7020 - recall: 0.2340 - auc: 0.8114 - val_loss: 0.9563 - val_accuracy: 0.7911 - val_precision: 0.7692 - val_recall: 0.2346 - val_auc: 0.8247\n",
      "\n",
      "Epoch 00092: val_loss did not improve from 0.95415\n",
      "Epoch 93/100\n",
      "129/129 [==============================] - 64s 495ms/step - loss: 0.9783 - accuracy: 0.7829 - precision: 0.7037 - recall: 0.2272 - auc: 0.8105 - val_loss: 0.9571 - val_accuracy: 0.7915 - val_precision: 0.7724 - val_recall: 0.2356 - val_auc: 0.8241\n",
      "\n",
      "Epoch 00093: val_loss did not improve from 0.95415\n",
      "Epoch 94/100\n",
      "129/129 [==============================] - 64s 497ms/step - loss: 0.9835 - accuracy: 0.7829 - precision: 0.7006 - recall: 0.2301 - auc: 0.8096 - val_loss: 0.9546 - val_accuracy: 0.7930 - val_precision: 0.7651 - val_recall: 0.2483 - val_auc: 0.8240\n",
      "\n",
      "Epoch 00094: val_loss did not improve from 0.95415\n",
      "Epoch 95/100\n",
      "129/129 [==============================] - 64s 496ms/step - loss: 0.9847 - accuracy: 0.7818 - precision: 0.6992 - recall: 0.2235 - auc: 0.8108 - val_loss: 0.9575 - val_accuracy: 0.7913 - val_precision: 0.7735 - val_recall: 0.2336 - val_auc: 0.8252\n",
      "\n",
      "Epoch 00095: val_loss did not improve from 0.95415\n",
      "Epoch 96/100\n",
      "129/129 [==============================] - 64s 494ms/step - loss: 0.9800 - accuracy: 0.7847 - precision: 0.7147 - recall: 0.2311 - auc: 0.8107 - val_loss: 0.9563 - val_accuracy: 0.7918 - val_precision: 0.7714 - val_recall: 0.2375 - val_auc: 0.8238\n",
      "\n",
      "Epoch 00096: val_loss did not improve from 0.95415\n",
      "Epoch 97/100\n",
      "129/129 [==============================] - 64s 494ms/step - loss: 0.9736 - accuracy: 0.7849 - precision: 0.7160 - recall: 0.2313 - auc: 0.8160 - val_loss: 0.9574 - val_accuracy: 0.7911 - val_precision: 0.7727 - val_recall: 0.2326 - val_auc: 0.8235\n",
      "\n",
      "Epoch 00097: val_loss did not improve from 0.95415\n",
      "Epoch 98/100\n",
      "129/129 [==============================] - 64s 494ms/step - loss: 0.9781 - accuracy: 0.7842 - precision: 0.7089 - recall: 0.2323 - auc: 0.8123 - val_loss: 0.9560 - val_accuracy: 0.7915 - val_precision: 0.7707 - val_recall: 0.2366 - val_auc: 0.8243\n",
      "\n",
      "Epoch 00098: val_loss did not improve from 0.95415\n",
      "Epoch 99/100\n",
      "129/129 [==============================] - 64s 494ms/step - loss: 0.9707 - accuracy: 0.7839 - precision: 0.7075 - recall: 0.2313 - auc: 0.8147 - val_loss: 0.9566 - val_accuracy: 0.7915 - val_precision: 0.7724 - val_recall: 0.2356 - val_auc: 0.8250\n",
      "\n",
      "Epoch 00099: val_loss did not improve from 0.95415\n",
      "Epoch 100/100\n",
      "129/129 [==============================] - 64s 494ms/step - loss: 0.9909 - accuracy: 0.7811 - precision: 0.6889 - recall: 0.2265 - auc: 0.8056 - val_loss: 0.9574 - val_accuracy: 0.7911 - val_precision: 0.7745 - val_recall: 0.2317 - val_auc: 0.8241\n",
      "\n",
      "Epoch 00100: val_loss did not improve from 0.95415\n"
     ]
    }
   ],
   "source": [
    "history=model.fit(train_dataset,\n",
    "                  validation_data=valid_dataset,\n",
    "                  epochs = 100,\n",
    "                  verbose = 1,\n",
    "                  callbacks=callbacks) "
   ]
  },
  {
   "cell_type": "code",
   "execution_count": 22,
   "metadata": {
    "id": "vNYw_SKZotYl"
   },
   "outputs": [],
   "source": [
    "# model.save_weights(\"/content/drive/MyDrive/Garvin/IEEE/Alzheimer's Disease Classification/model.hdf5\")"
   ]
  },
  {
   "cell_type": "code",
   "execution_count": 18,
   "metadata": {
    "colab": {
     "base_uri": "https://localhost:8080/",
     "height": 370
    },
    "id": "psLbPoBv86bV",
    "outputId": "ccb2894a-20ba-4b0b-9c96-a1b9ebde5c67"
   },
   "outputs": [
    {
     "data": {
      "image/png": "[encoded data removed]",
      "text/plain": [
       "<Figure size 1440x360 with 4 Axes>"
      ]
     },
     "metadata": {
      "needs_background": "light"
     },
     "output_type": "display_data"
    }
   ],
   "source": [
    "def Train_Val_Plot(acc,val_acc,loss,val_loss,auc,val_auc,precision,val_precision):\n",
    "    \n",
    "    fig, (ax1, ax2,ax3,ax4) = plt.subplots(1,4, figsize= (20,5))\n",
    "    fig.suptitle(\" MODEL'S METRICS VISUALIZATION \")\n",
    "\n",
    "    ax1.plot(range(1, len(acc) + 1), acc)\n",
    "    ax1.plot(range(1, len(val_acc) + 1), val_acc)\n",
    "    ax1.set_title('History of Accuracy')\n",
    "    ax1.set_xlabel('Epochs')\n",
    "    ax1.set_ylabel('Accuracy')\n",
    "    ax1.legend(['training', 'validation'])\n",
    "\n",
    "\n",
    "    ax2.plot(range(1, len(loss) + 1), loss)\n",
    "    ax2.plot(range(1, len(val_loss) + 1), val_loss)\n",
    "    ax2.set_title('History of Loss')\n",
    "    ax2.set_xlabel('Epochs')\n",
    "    ax2.set_ylabel('Loss')\n",
    "    ax2.legend(['training', 'validation'])\n",
    "    \n",
    "    ax3.plot(range(1, len(auc) + 1), auc)\n",
    "    ax3.plot(range(1, len(val_auc) + 1), val_auc)\n",
    "    ax3.set_title('History of AUC')\n",
    "    ax3.set_xlabel('Epochs')\n",
    "    ax3.set_ylabel('AUC')\n",
    "    ax3.legend(['training', 'validation'])\n",
    "    \n",
    "    ax4.plot(range(1, len(precision) + 1), precision)\n",
    "    ax4.plot(range(1, len(val_precision) + 1), val_precision)\n",
    "    ax4.set_title('History of Precision')\n",
    "    ax4.set_xlabel('Epochs')\n",
    "    ax4.set_ylabel('Precision')\n",
    "    ax4.legend(['training', 'validation'])\n",
    "    \n",
    "  \n",
    "    plt.show()\n",
    "    \n",
    "\n",
    "Train_Val_Plot(history.history['accuracy'],history.history['val_accuracy'],\n",
    "               history.history['loss'],history.history['val_loss'],\n",
    "               history.history['auc'],history.history['val_auc'],\n",
    "               history.history['precision'],history.history['val_precision']\n",
    "              )"
   ]
  },
  {
   "cell_type": "code",
   "execution_count": 19,
   "metadata": {
    "colab": {
     "base_uri": "https://localhost:8080/"
    },
    "id": "NZ9WIOso86_S",
    "outputId": "23811aa0-c168-4eca-e1da-ad99579544f8"
   },
   "outputs": [
    {
     "name": "stderr",
     "output_type": "stream",
     "text": [
      "/usr/local/lib/python3.7/dist-packages/keras/engine/training.py:2006: UserWarning: `Model.evaluate_generator` is deprecated and will be removed in a future version. Please use `Model.evaluate`, which supports generators.\n",
      "  warnings.warn('`Model.evaluate_generator` is deprecated and '\n"
     ]
    }
   ],
   "source": [
    "scores = model.evaluate_generator(test_dataset)"
   ]
  },
  {
   "cell_type": "code",
   "execution_count": 20,
   "metadata": {
    "colab": {
     "base_uri": "https://localhost:8080/"
    },
    "id": "Hu1ocImi9pXt",
    "outputId": "beae244e-e67c-4fe9-9c66-24cec45c6f2f"
   },
   "outputs": [
    {
     "name": "stdout",
     "output_type": "stream",
     "text": [
      "Accuracy =  0.7912431359291077\n",
      "Precision =  0.7097415328025818\n",
      "Recall =  0.27912431955337524\n",
      "AUC =  0.8189880847930908\n"
     ]
    }
   ],
   "source": [
    "print(\"Accuracy = \", scores[1])\n",
    "print(\"Precision = \", scores[2])\n",
    "print(\"Recall = \", scores[3])\n",
    "print(\"AUC = \", scores[4])"
   ]
  },
  {
   "cell_type": "code",
   "execution_count": null,
   "metadata": {
    "id": "-0uCEAiZa-tc"
   },
   "outputs": [],
   "source": []
  }
 ],
 "metadata": {
  "accelerator": "GPU",
  "colab": {
   "name": "Densenet.ipynb",
   "provenance": []
  },
  "kernelspec": {
   "display_name": "Python 3",
   "language": "python",
   "name": "python3"
  },
  "language_info": {
   "codemirror_mode": {
    "name": "ipython",
    "version": 3
   },
   "file_extension": ".py",
   "mimetype": "text/x-python",
   "name": "python",
   "nbconvert_exporter": "python",
   "pygments_lexer": "ipython3",
   "version": "3.8.3"
  }
 },
 "nbformat": 4,
 "nbformat_minor": 1
}
