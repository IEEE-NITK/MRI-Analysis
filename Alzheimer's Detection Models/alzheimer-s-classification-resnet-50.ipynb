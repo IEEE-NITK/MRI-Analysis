{
 "cells": [
  {
   "cell_type": "markdown",
   "metadata": {},
   "source": [
    "### IMPORT LIBRARIES"
   ]
  },
  {
   "cell_type": "code",
   "execution_count": 27,
   "metadata": {
    "_cell_guid": "79c7e3d0-c299-4dcb-8224-4455121ee9b0",
    "_uuid": "d629ff2d2480ee46fbb7e2d37f6b5fab8052498a",
    "execution": {
     "iopub.execute_input": "2021-10-12T08:21:26.499953Z",
     "iopub.status.busy": "2021-10-12T08:21:26.499479Z",
     "iopub.status.idle": "2021-10-12T08:21:26.513110Z",
     "shell.execute_reply": "2021-10-12T08:21:26.512047Z",
     "shell.execute_reply.started": "2021-10-12T08:21:26.499909Z"
    }
   },
   "outputs": [],
   "source": [
    "import numpy as np\n",
    "import pandas as pd\n",
    "import matplotlib.pyplot as plt\n",
    "import seaborn as sn\n",
    "import skimage.io\n",
    "import os \n",
    "import tqdm\n",
    "import glob\n",
    "import tensorflow \n",
    "\n",
    "from tqdm import tqdm\n",
    "from sklearn.utils import shuffle\n",
    "from sklearn import metrics\n",
    "from sklearn.metrics import confusion_matrix, classification_report\n",
    "from sklearn.model_selection import train_test_split\n",
    "\n",
    "from skimage.io import imread, imshow\n",
    "from skimage.transform import resize\n",
    "from skimage.color import grey2rgb\n",
    "\n",
    "import tensorflow as tf\n",
    "from tensorflow.keras.preprocessing.image import ImageDataGenerator\n",
    "from tensorflow.keras.preprocessing import image_dataset_from_directory\n",
    "from tensorflow.keras.models import Sequential\n",
    "from tensorflow.keras.layers import InputLayer, BatchNormalization, Dropout, Flatten, Dense, Activation, MaxPool2D, Conv2D\n",
    "from tensorflow.keras.callbacks import EarlyStopping, ModelCheckpoint\n",
    "from tensorflow.keras.applications.resnet50 import ResNet50\n",
    "from tensorflow.keras.utils import to_categorical\n",
    "from keras import optimizers\n",
    "\n",
    "from keras.callbacks import Callback,ModelCheckpoint\n",
    "from keras.models import Sequential,load_model\n",
    "from keras.layers import Dense, Dropout\n",
    "from keras.wrappers.scikit_learn import KerasClassifier\n",
    "import keras.backend as K\n",
    "\n",
    "#import tensorflow_addons as tfa\n",
    "#from tensorflow.keras.metrics import Metric\n",
    "#from tensorflow_addons.utils.types import AcceptableDTypes, FloatTensorLike\n",
    "from typeguard import typechecked\n",
    "from typing import Optional"
   ]
  },
  {
   "cell_type": "code",
   "execution_count": 28,
   "metadata": {
    "execution": {
     "iopub.execute_input": "2021-10-12T08:21:26.515689Z",
     "iopub.status.busy": "2021-10-12T08:21:26.515210Z",
     "iopub.status.idle": "2021-10-12T08:21:26.528188Z",
     "shell.execute_reply": "2021-10-12T08:21:26.526997Z",
     "shell.execute_reply.started": "2021-10-12T08:21:26.515652Z"
    }
   },
   "outputs": [],
   "source": [
    "AUTOTUNE = tf.data.experimental.AUTOTUNE"
   ]
  },
  {
   "cell_type": "code",
   "execution_count": 29,
   "metadata": {
    "execution": {
     "iopub.execute_input": "2021-10-12T08:21:26.532010Z",
     "iopub.status.busy": "2021-10-12T08:21:26.531729Z",
     "iopub.status.idle": "2021-10-12T08:21:26.541366Z",
     "shell.execute_reply": "2021-10-12T08:21:26.540383Z",
     "shell.execute_reply.started": "2021-10-12T08:21:26.531972Z"
    }
   },
   "outputs": [],
   "source": [
    "train_datagen = ImageDataGenerator(rescale = 1./255,\n",
    "                                   validation_split = 0.2,\n",
    "                                  \n",
    "        rotation_range=5,\n",
    "        width_shift_range=0.2,\n",
    "        height_shift_range=0.2,\n",
    "        shear_range=0.2,\n",
    "        #zoom_range=0.2,\n",
    "        horizontal_flip=True,\n",
    "        vertical_flip=True,\n",
    "        fill_mode='nearest')\n",
    "\n",
    "valid_datagen = ImageDataGenerator(rescale = 1./255,\n",
    "                                  validation_split = 0.2)\n",
    "\n",
    "test_datagen  = ImageDataGenerator(rescale = 1./255\n",
    "                                  )"
   ]
  },
  {
   "cell_type": "code",
   "execution_count": 30,
   "metadata": {
    "execution": {
     "iopub.execute_input": "2021-10-12T08:21:26.545253Z",
     "iopub.status.busy": "2021-10-12T08:21:26.544838Z",
     "iopub.status.idle": "2021-10-12T08:21:26.869031Z",
     "shell.execute_reply": "2021-10-12T08:21:26.868176Z",
     "shell.execute_reply.started": "2021-10-12T08:21:26.545223Z"
    }
   },
   "outputs": [],
   "source": [
    "#train_dataset = tf.keras.preprocessing.image_dataset_from_directory('../input/alzheimers-dataset-4-class-of-images/Alzheimer_s Dataset/train',\n",
    "#                                                                        validation_split=0.2,\n",
    "#                                                                        subset=\"training\",\n",
    "#                                                                        shuffle=False,\n",
    "#                                                                        image_size=(224,224),\n",
    "#                                                                        batch_size=32,\n",
    "#                                                                        )\n",
    "\n",
    "train_dataset  = train_datagen.flow_from_directory(directory = '../input/alzheimers-dataset-4-class-of-images/Alzheimer_s Dataset/train',\n",
    "                                                   target_size = (224,224),\n",
    "                                                   class_mode = 'categorical',\n",
    "                                                   subset = 'training',\n",
    "                                                   batch_size = 32)"
   ]
  },
  {
   "cell_type": "code",
   "execution_count": 31,
   "metadata": {
    "execution": {
     "iopub.execute_input": "2021-10-12T08:21:26.873457Z",
     "iopub.status.busy": "2021-10-12T08:21:26.873180Z",
     "iopub.status.idle": "2021-10-12T08:21:26.982028Z",
     "shell.execute_reply": "2021-10-12T08:21:26.981177Z",
     "shell.execute_reply.started": "2021-10-12T08:21:26.873430Z"
    }
   },
   "outputs": [],
   "source": [
    "#valid_dataset = tf.keras.preprocessing.image_dataset_from_directory('../input/alzheimers-dataset-4-class-of-images/Alzheimer_s Dataset/train',\n",
    "#                                                                        validation_split=0.2,\n",
    "#                                                                        subset=\"validation\",\n",
    "#                                                                        shuffle=False,\n",
    "#                                                                        image_size=(224,224),\n",
    "#                                                                        batch_size=32,\n",
    "#                                                                        )\n",
    "valid_dataset = valid_datagen.flow_from_directory(directory = '../input/alzheimers-dataset-4-class-of-images/Alzheimer_s Dataset/train',\n",
    "                                                  target_size = (224,224),\n",
    "                                                  class_mode = 'categorical',\n",
    "                                                  subset = 'validation',\n",
    "                                                  batch_size = 32)"
   ]
  },
  {
   "cell_type": "code",
   "execution_count": 32,
   "metadata": {
    "execution": {
     "iopub.execute_input": "2021-10-12T08:21:26.984027Z",
     "iopub.status.busy": "2021-10-12T08:21:26.983697Z",
     "iopub.status.idle": "2021-10-12T08:21:27.096220Z",
     "shell.execute_reply": "2021-10-12T08:21:27.095356Z",
     "shell.execute_reply.started": "2021-10-12T08:21:26.983993Z"
    }
   },
   "outputs": [],
   "source": [
    "#test_dataset = tf.keras.preprocessing.image_dataset_from_directory(\"../input/alzheimers-dataset-4-class-of-images/Alzheimer_s Dataset/test\",\n",
    "##                                                            shuffle=False,\n",
    "#                                                            image_size=(224,224),\n",
    "#                                                            batch_size=32,\n",
    "#)\n",
    "\n",
    "test_dataset = test_datagen.flow_from_directory(directory = '../input/alzheimers-dataset-4-class-of-images/Alzheimer_s Dataset/test',\n",
    "                                                  target_size = (224,224),\n",
    "                                                  class_mode = 'categorical',\n",
    "                                                  batch_size = 32)"
   ]
  },
  {
   "cell_type": "markdown",
   "metadata": {},
   "source": [
    "## feature preprocessing and label encoding."
   ]
  },
  {
   "cell_type": "markdown",
   "metadata": {},
   "source": [
    "### MODEL BUILDING"
   ]
  },
  {
   "cell_type": "code",
   "execution_count": 33,
   "metadata": {
    "execution": {
     "iopub.execute_input": "2021-10-12T08:21:27.097979Z",
     "iopub.status.busy": "2021-10-12T08:21:27.097606Z",
     "iopub.status.idle": "2021-10-12T08:21:28.937974Z",
     "shell.execute_reply": "2021-10-12T08:21:28.937214Z",
     "shell.execute_reply.started": "2021-10-12T08:21:27.097938Z"
    }
   },
   "outputs": [],
   "source": [
    "base_model = ResNet50(input_shape=(224,224,3), \n",
    "                   include_top=False,\n",
    "                   weights=\"imagenet\")"
   ]
  },
  {
   "cell_type": "code",
   "execution_count": 34,
   "metadata": {
    "execution": {
     "iopub.execute_input": "2021-10-12T08:21:28.940731Z",
     "iopub.status.busy": "2021-10-12T08:21:28.940195Z",
     "iopub.status.idle": "2021-10-12T08:21:28.950756Z",
     "shell.execute_reply": "2021-10-12T08:21:28.950021Z",
     "shell.execute_reply.started": "2021-10-12T08:21:28.940692Z"
    }
   },
   "outputs": [],
   "source": [
    "# Freezing Layers\n",
    "\n",
    "for layer in base_model.layers:\n",
    "    layer.trainable=False"
   ]
  },
  {
   "cell_type": "code",
   "execution_count": 35,
   "metadata": {
    "execution": {
     "iopub.execute_input": "2021-10-12T08:21:28.952611Z",
     "iopub.status.busy": "2021-10-12T08:21:28.952202Z",
     "iopub.status.idle": "2021-10-12T08:21:29.498032Z",
     "shell.execute_reply": "2021-10-12T08:21:29.497306Z",
     "shell.execute_reply.started": "2021-10-12T08:21:28.952574Z"
    }
   },
   "outputs": [],
   "source": [
    "# Building Model\n",
    "\n",
    "model=Sequential()\n",
    "model.add(base_model)\n",
    "model.add(Dropout(0.5))\n",
    "model.add(Flatten())\n",
    "model.add(BatchNormalization())\n",
    "model.add(Dense(64,kernel_initializer='he_uniform'))\n",
    "model.add(BatchNormalization())\n",
    "model.add(Activation('relu'))\n",
    "model.add(Dropout(0.5))\n",
    "model.add(Dense(64,kernel_initializer='he_uniform'))\n",
    "model.add(BatchNormalization())\n",
    "model.add(Activation('relu'))\n",
    "model.add(Dropout(0.5))\n",
    "model.add(Dense(64,kernel_initializer='he_uniform'))\n",
    "model.add(BatchNormalization())\n",
    "model.add(Activation('relu'))\n",
    "model.add(Dropout(0.5))\n",
    "model.add(Dense(32,kernel_initializer='he_uniform'))\n",
    "model.add(BatchNormalization())\n",
    "model.add(Activation('relu'))\n",
    "model.add(Dropout(0.5))\n",
    "model.add(Dense(32,kernel_initializer='he_uniform'))\n",
    "model.add(BatchNormalization())\n",
    "model.add(Activation('relu'))\n",
    "model.add(Dense(4,activation='softmax'))"
   ]
  },
  {
   "cell_type": "code",
   "execution_count": 36,
   "metadata": {
    "execution": {
     "iopub.execute_input": "2021-10-12T08:21:29.500710Z",
     "iopub.status.busy": "2021-10-12T08:21:29.500144Z",
     "iopub.status.idle": "2021-10-12T08:21:29.533986Z",
     "shell.execute_reply": "2021-10-12T08:21:29.533312Z",
     "shell.execute_reply.started": "2021-10-12T08:21:29.500673Z"
    }
   },
   "outputs": [],
   "source": [
    "# Model Summary\n",
    "\n",
    "model.summary()"
   ]
  },
  {
   "cell_type": "code",
   "execution_count": 37,
   "metadata": {
    "execution": {
     "iopub.execute_input": "2021-10-12T08:21:29.537307Z",
     "iopub.status.busy": "2021-10-12T08:21:29.537037Z",
     "iopub.status.idle": "2021-10-12T08:21:29.547014Z",
     "shell.execute_reply": "2021-10-12T08:21:29.546031Z",
     "shell.execute_reply.started": "2021-10-12T08:21:29.537270Z"
    }
   },
   "outputs": [],
   "source": [
    "def f1_score(y_true, y_pred): #taken from old keras source code\n",
    "    true_positives = K.sum(K.round(K.clip(y_true * y_pred, 0, 1)))\n",
    "    possible_positives = K.sum(K.round(K.clip(y_true, 0, 1)))\n",
    "    predicted_positives = K.sum(K.round(K.clip(y_pred, 0, 1)))\n",
    "    precision = true_positives / (predicted_positives + K.epsilon())\n",
    "    recall = true_positives / (possible_positives + K.epsilon())\n",
    "    f1_val = 2*(precision*recall)/(precision+recall+K.epsilon())\n",
    "    return f1_val"
   ]
  },
  {
   "cell_type": "code",
   "execution_count": 38,
   "metadata": {
    "execution": {
     "iopub.execute_input": "2021-10-12T08:21:29.548609Z",
     "iopub.status.busy": "2021-10-12T08:21:29.548173Z",
     "iopub.status.idle": "2021-10-12T08:21:29.579394Z",
     "shell.execute_reply": "2021-10-12T08:21:29.578708Z",
     "shell.execute_reply.started": "2021-10-12T08:21:29.548583Z"
    }
   },
   "outputs": [],
   "source": [
    "METRICS = [\n",
    "      tf.keras.metrics.BinaryAccuracy(name='accuracy'),\n",
    "      tf.keras.metrics.Precision(name='precision'),\n",
    "      tf.keras.metrics.Recall(name='recall'),  \n",
    "      tf.keras.metrics.AUC(name='auc'),\n",
    "        f1_score,\n",
    "]"
   ]
  },
  {
   "cell_type": "code",
   "execution_count": 39,
   "metadata": {
    "execution": {
     "iopub.execute_input": "2021-10-12T08:21:29.581190Z",
     "iopub.status.busy": "2021-10-12T08:21:29.580669Z",
     "iopub.status.idle": "2021-10-12T08:21:29.586954Z",
     "shell.execute_reply": "2021-10-12T08:21:29.586051Z",
     "shell.execute_reply.started": "2021-10-12T08:21:29.581153Z"
    }
   },
   "outputs": [],
   "source": [
    "def exponential_decay(lr0, s):\n",
    "    def exponential_decay_fn(epoch):\n",
    "        return lr0 * 0.1 **(epoch / s)\n",
    "    return exponential_decay_fn\n",
    "\n",
    "exponential_decay_fn = exponential_decay(0.01, 5) # when i run it for 50 epochs\n",
    "\n",
    "lr_scheduler = tf.keras.callbacks.LearningRateScheduler(exponential_decay_fn)"
   ]
  },
  {
   "cell_type": "code",
   "execution_count": 40,
   "metadata": {
    "execution": {
     "iopub.execute_input": "2021-10-12T08:21:29.588941Z",
     "iopub.status.busy": "2021-10-12T08:21:29.588543Z",
     "iopub.status.idle": "2021-10-12T08:21:29.609068Z",
     "shell.execute_reply": "2021-10-12T08:21:29.608327Z",
     "shell.execute_reply.started": "2021-10-12T08:21:29.588887Z"
    }
   },
   "outputs": [],
   "source": [
    "model.compile(optimizer='rmsprop', loss='categorical_crossentropy',metrics=METRICS)"
   ]
  },
  {
   "cell_type": "code",
   "execution_count": 41,
   "metadata": {
    "execution": {
     "iopub.execute_input": "2021-10-12T08:21:29.611442Z",
     "iopub.status.busy": "2021-10-12T08:21:29.611177Z",
     "iopub.status.idle": "2021-10-12T09:46:31.899861Z",
     "shell.execute_reply": "2021-10-12T09:46:31.898873Z",
     "shell.execute_reply.started": "2021-10-12T08:21:29.611419Z"
    }
   },
   "outputs": [],
   "source": [
    "history=model.fit(train_dataset,\n",
    "                        validation_data=valid_dataset,\n",
    "                        epochs = 100,\n",
    "                        verbose = 1,\n",
    "                         callbacks=lr_scheduler)\n",
    "model.save('resnet_50_20_epochs.h5')"
   ]
  },
  {
   "cell_type": "code",
   "execution_count": 42,
   "metadata": {
    "execution": {
     "iopub.execute_input": "2021-10-12T09:46:31.901683Z",
     "iopub.status.busy": "2021-10-12T09:46:31.901340Z",
     "iopub.status.idle": "2021-10-12T09:46:32.400742Z",
     "shell.execute_reply": "2021-10-12T09:46:32.399916Z",
     "shell.execute_reply.started": "2021-10-12T09:46:31.901647Z"
    }
   },
   "outputs": [],
   "source": [
    "model.save('100_epochs.h5')"
   ]
  },
  {
   "cell_type": "code",
   "execution_count": 43,
   "metadata": {
    "execution": {
     "iopub.execute_input": "2021-10-12T09:46:32.402542Z",
     "iopub.status.busy": "2021-10-12T09:46:32.402187Z",
     "iopub.status.idle": "2021-10-12T09:46:33.162071Z",
     "shell.execute_reply": "2021-10-12T09:46:33.161110Z",
     "shell.execute_reply.started": "2021-10-12T09:46:32.402508Z"
    }
   },
   "outputs": [],
   "source": [
    "#%% PLOTTING RESULTS (Train vs Validation FOLDER 1)\n",
    "\n",
    "def Train_Val_Plot(acc,val_acc,loss,val_loss,auc,val_auc,precision,val_precision,f1,val_f1):\n",
    "    \n",
    "    fig, (ax1, ax2,ax3,ax4,ax5) = plt.subplots(1,5, figsize= (20,5))\n",
    "    fig.suptitle(\" MODEL'S METRICS VISUALIZATION \")\n",
    "\n",
    "    ax1.plot(range(1, len(acc) + 1), acc)\n",
    "    ax1.plot(range(1, len(val_acc) + 1), val_acc)\n",
    "    ax1.set_title('History of Accuracy')\n",
    "    ax1.set_xlabel('Epochs')\n",
    "    ax1.set_ylabel('Accuracy')\n",
    "    ax1.legend(['training', 'validation'])\n",
    "\n",
    "\n",
    "    ax2.plot(range(1, len(loss) + 1), loss)\n",
    "    ax2.plot(range(1, len(val_loss) + 1), val_loss)\n",
    "    ax2.set_title('History of Loss')\n",
    "    ax2.set_xlabel('Epochs')\n",
    "    ax2.set_ylabel('Loss')\n",
    "    ax2.legend(['training', 'validation'])\n",
    "    \n",
    "    ax3.plot(range(1, len(auc) + 1), auc)\n",
    "    ax3.plot(range(1, len(val_auc) + 1), val_auc)\n",
    "    ax3.set_title('History of AUC')\n",
    "    ax3.set_xlabel('Epochs')\n",
    "    ax3.set_ylabel('AUC')\n",
    "    ax3.legend(['training', 'validation'])\n",
    "    \n",
    "    ax4.plot(range(1, len(precision) + 1), precision)\n",
    "    ax4.plot(range(1, len(val_precision) + 1), val_precision)\n",
    "    ax4.set_title('History of Precision')\n",
    "    ax4.set_xlabel('Epochs')\n",
    "    ax4.set_ylabel('Precision')\n",
    "    ax4.legend(['training', 'validation'])\n",
    "    \n",
    "    ax5.plot(range(1, len(f1) + 1), f1)\n",
    "    ax5.plot(range(1, len(val_f1) + 1), val_f1)\n",
    "    ax5.set_title('History of F1-score')\n",
    "    ax5.set_xlabel('Epochs')\n",
    "    ax5.set_ylabel('F1 score')\n",
    "    ax5.legend(['training', 'validation'])\n",
    "\n",
    "\n",
    "    plt.show()\n",
    "    \n",
    "\n",
    "Train_Val_Plot(history.history['accuracy'],history.history['val_accuracy'],\n",
    "               history.history['loss'],history.history['val_loss'],\n",
    "               history.history['auc'],history.history['val_auc'],\n",
    "               history.history['precision'],history.history['val_precision'],\n",
    "               history.history['f1_score'],history.history['val_f1_score']\n",
    "              )"
   ]
  },
  {
   "cell_type": "code",
   "execution_count": 44,
   "metadata": {
    "execution": {
     "iopub.execute_input": "2021-10-12T09:46:33.163604Z",
     "iopub.status.busy": "2021-10-12T09:46:33.163200Z",
     "iopub.status.idle": "2021-10-12T09:46:39.478556Z",
     "shell.execute_reply": "2021-10-12T09:46:39.477722Z",
     "shell.execute_reply.started": "2021-10-12T09:46:33.163567Z"
    }
   },
   "outputs": [],
   "source": [
    "scores = model.evaluate_generator(test_dataset)"
   ]
  },
  {
   "cell_type": "code",
   "execution_count": 45,
   "metadata": {
    "execution": {
     "iopub.execute_input": "2021-10-12T09:46:39.482379Z",
     "iopub.status.busy": "2021-10-12T09:46:39.482092Z",
     "iopub.status.idle": "2021-10-12T09:46:39.490490Z",
     "shell.execute_reply": "2021-10-12T09:46:39.489385Z",
     "shell.execute_reply.started": "2021-10-12T09:46:39.482352Z"
    }
   },
   "outputs": [],
   "source": [
    "print(\"Accuracy = \", scores[1])\n",
    "print(\"Precision = \", scores[2])\n",
    "print(\"Recall = \", scores[3])\n",
    "print(\"AUC = \", scores[4])\n",
    "print(\"F1_score = \", scores[5])"
   ]
  }
 ],
 "metadata": {
  "kernelspec": {
   "display_name": "Python 3",
   "language": "python",
   "name": "python3"
  },
  "language_info": {
   "codemirror_mode": {
    "name": "ipython",
    "version": 3
   },
   "file_extension": ".py",
   "mimetype": "text/x-python",
   "name": "python",
   "nbconvert_exporter": "python",
   "pygments_lexer": "ipython3",
   "version": "3.8.3"
  }
 },
 "nbformat": 4,
 "nbformat_minor": 4
}
